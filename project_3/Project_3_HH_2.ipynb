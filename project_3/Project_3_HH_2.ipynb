{
 "cells": [
  {
   "cell_type": "markdown",
   "id": "3dcbb77b-9384-4333-bd37-3fb603db2ab4",
   "metadata": {},
   "source": [
    "# ![](https://ga-dash.s3.amazonaws.com/production/assets/logo-9f88ae6c9c3871690e33280fcf557f33.png) Project 3: Web APIs & NLP"
   ]
  },
  {
   "cell_type": "markdown",
   "id": "75ce96dd-2543-41b1-9e57-3802ac418eb9",
   "metadata": {},
   "source": [
    "## Content\n",
    "----"
   ]
  },
  {
   "cell_type": "markdown",
   "id": "98515cf2-88a1-46f5-a379-bee0d31cdd31",
   "metadata": {},
   "source": [
    "- [Data Cleaning](#Data-Cleaning)\n",
    "- [EDA](#EDA)\n",
    "- [Preprocessing and Modeling](#Preprocessing-and-Modeling)\n",
    "- [Model Comparison](#Model-Comparison)\n",
    "- [Conclusion and Recommendations](#Conclusion-and-Recommendations)"
   ]
  },
  {
   "cell_type": "markdown",
   "id": "129d2bba-4f55-4724-b4e5-6b5da8541ca9",
   "metadata": {},
   "source": [
    "## Data Cleaning\n",
    "---"
   ]
  },
  {
   "cell_type": "code",
   "execution_count": 1,
   "id": "ba8b662a-1592-4037-bedf-4801a66d95de",
   "metadata": {},
   "outputs": [],
   "source": [
    "import pandas as pd\n",
    "import regex as re\n",
    "import numpy as np\n",
    "import seaborn as sns\n",
    "import matplotlib.pyplot as plt\n",
    "\n",
    "from nltk.corpus import stopwords\n",
    "from nltk.stem import WordNetLemmatizer\n",
    "\n",
    "from sklearn.feature_extraction.text import CountVectorizer, TfidfVectorizer\n",
    "from sklearn.model_selection import train_test_split, cross_val_score, GridSearchCV\n",
    "from sklearn.linear_model import LogisticRegression\n",
    "from sklearn.preprocessing import StandardScaler\n",
    "from sklearn.neighbors import KNeighborsClassifier\n",
    "from sklearn.pipeline import Pipeline\n",
    "from sklearn.naive_bayes import MultinomialNB\n",
    "from sklearn.metrics import confusion_matrix, ConfusionMatrixDisplay, accuracy_score, recall_score, precision_score, f1_score\n",
    "from sklearn.ensemble import RandomForestClassifier\n",
    "\n",
    "from wordcloud import WordCloud\n",
    "\n",
    "from IPython.display import display\n",
    "\n",
    "from bs4 import BeautifulSoup"
   ]
  },
  {
   "cell_type": "markdown",
   "id": "361b61d9-056c-40e8-9f63-4926029987dc",
   "metadata": {},
   "source": [
    "### Creating functions for data cleaning"
   ]
  },
  {
   "cell_type": "markdown",
   "id": "ebd2e6ec-225b-4297-8b66-9b698cb343cc",
   "metadata": {},
   "source": [
    "Function to clean dataset in general"
   ]
  },
  {
   "cell_type": "code",
   "execution_count": 2,
   "id": "a83f0438-3cfd-4485-9914-2e2faffe9904",
   "metadata": {},
   "outputs": [],
   "source": [
    "def dataset_cleaning (dataset, topic):\n",
    "    \n",
    "    # 1. Replace null, [removed] and [deleted] comments with empty space in the selftext column\n",
    "    dataset[\"selftext\"].fillna(\"\", inplace=True)\n",
    "    dataset[\"selftext\"].replace(\"[removed]\", \"\",inplace=True)\n",
    "    dataset[\"selftext\"].replace(\"[deleted]\", \"\",inplace=True)\n",
    "    \n",
    "    # 2. Drop duplicates in the dataset\n",
    "    dataset.drop_duplicates(subset = [\"title\"], keep='first', inplace=True)\n",
    "    \n",
    "    # 3. Add both title and selftext to form a new column\n",
    "    dataset[\"alltext\"] = dataset[\"title\"] + \" \" + dataset[\"selftext\"]\n",
    "    \n",
    "    # 4. Drop both title and selftext since there is a consolidated column now\n",
    "    dataset.drop([\"title\", \"selftext\"], axis=1, inplace=True)\n",
    "    \n",
    "    # 5. Create a new column for topic\n",
    "    dataset[\"topic\"] = topic\n",
    "    "
   ]
  },
  {
   "cell_type": "markdown",
   "id": "5d406f48-7de3-4398-ae81-be4276121271",
   "metadata": {},
   "source": [
    "<br>\n",
    "Function to clean the words"
   ]
  },
  {
   "cell_type": "code",
   "execution_count": 3,
   "id": "1262a303-dcbf-4a51-9b1b-9b7f9f126c9f",
   "metadata": {},
   "outputs": [],
   "source": [
    "def chunks_to_words(raw_chunks):\n",
    "\n",
    "    # 1. Remove url links. \n",
    "    alltext = re.sub(r\"http\\S+\", \"\", raw_chunks)\n",
    "    \n",
    "    # 2. Remove HTML.\n",
    "    review_text = BeautifulSoup(alltext).get_text()\n",
    "    \n",
    "    # 3. Remove non-letters.\n",
    "    letters_only = re.sub(\"[^a-zA-Z]\", \" \", review_text)\n",
    "    \n",
    "    # 4. Convert to lower case, split into individual words.\n",
    "    words = letters_only.lower().split()\n",
    "    \n",
    "    # 5. Convert the stopwords into a set\n",
    "    stops = set(stopwords.words('english'))\n",
    "    \n",
    "    # 6. Remove stopwords.\n",
    "    meaningful_words = [w for w in words if not w in stops]\n",
    "    \n",
    "    # 7. Lemmatize the words.\n",
    "    lemmatizer = WordNetLemmatizer()    \n",
    "    tokens_lem = [lemmatizer.lemmatize(i) for i in meaningful_words]\n",
    "    \n",
    "    # 8. Join the words back into one string separated by space, \n",
    "    # and return the result.\n",
    "    return(\" \".join(tokens_lem))"
   ]
  },
  {
   "cell_type": "markdown",
   "id": "9ff0e7eb-0268-45b2-8263-3492febb5c65",
   "metadata": {},
   "source": [
    "### Explore LOTR dataset"
   ]
  },
  {
   "cell_type": "code",
   "execution_count": 4,
   "id": "49dbb4f8-64bc-4d57-a3f6-c49e122ac9bd",
   "metadata": {},
   "outputs": [],
   "source": [
    "lotr_df = pd.read_csv(\"./data/lordoftherings.csv\")"
   ]
  },
  {
   "cell_type": "code",
   "execution_count": 5,
   "id": "3bcacb65-a4ae-4037-ac46-e67c82be68d7",
   "metadata": {},
   "outputs": [
    {
     "data": {
      "text/html": [
       "<div>\n",
       "<style scoped>\n",
       "    .dataframe tbody tr th:only-of-type {\n",
       "        vertical-align: middle;\n",
       "    }\n",
       "\n",
       "    .dataframe tbody tr th {\n",
       "        vertical-align: top;\n",
       "    }\n",
       "\n",
       "    .dataframe thead th {\n",
       "        text-align: right;\n",
       "    }\n",
       "</style>\n",
       "<table border=\"1\" class=\"dataframe\">\n",
       "  <thead>\n",
       "    <tr style=\"text-align: right;\">\n",
       "      <th></th>\n",
       "      <th>subreddit</th>\n",
       "      <th>title</th>\n",
       "      <th>selftext</th>\n",
       "    </tr>\n",
       "  </thead>\n",
       "  <tbody>\n",
       "    <tr>\n",
       "      <th>0</th>\n",
       "      <td>lordoftherings</td>\n",
       "      <td>How this sub acts in every comment section abo...</td>\n",
       "      <td>NaN</td>\n",
       "    </tr>\n",
       "    <tr>\n",
       "      <th>1</th>\n",
       "      <td>lordoftherings</td>\n",
       "      <td>how forgiving is Eru</td>\n",
       "      <td>I am making a maia that fell from grace due to...</td>\n",
       "    </tr>\n",
       "    <tr>\n",
       "      <th>2</th>\n",
       "      <td>lordoftherings</td>\n",
       "      <td>Music changes everything</td>\n",
       "      <td>NaN</td>\n",
       "    </tr>\n",
       "    <tr>\n",
       "      <th>3</th>\n",
       "      <td>lordoftherings</td>\n",
       "      <td>Everything the RoP showrunners have said in in...</td>\n",
       "      <td>Some common critiques fans have for the showru...</td>\n",
       "    </tr>\n",
       "    <tr>\n",
       "      <th>4</th>\n",
       "      <td>lordoftherings</td>\n",
       "      <td>Fights when well choreographed despite being s...</td>\n",
       "      <td>NaN</td>\n",
       "    </tr>\n",
       "    <tr>\n",
       "      <th>...</th>\n",
       "      <td>...</td>\n",
       "      <td>...</td>\n",
       "      <td>...</td>\n",
       "    </tr>\n",
       "    <tr>\n",
       "      <th>1794</th>\n",
       "      <td>lordoftherings</td>\n",
       "      <td>Gondolin by Donato Giancola</td>\n",
       "      <td>NaN</td>\n",
       "    </tr>\n",
       "    <tr>\n",
       "      <th>1795</th>\n",
       "      <td>lordoftherings</td>\n",
       "      <td>Question about that scene in Two Towers with A...</td>\n",
       "      <td>hello! it’s my first time watching the movies ...</td>\n",
       "    </tr>\n",
       "    <tr>\n",
       "      <th>1796</th>\n",
       "      <td>lordoftherings</td>\n",
       "      <td>It's probably the coolest piece I own now.</td>\n",
       "      <td>NaN</td>\n",
       "    </tr>\n",
       "    <tr>\n",
       "      <th>1797</th>\n",
       "      <td>lordoftherings</td>\n",
       "      <td>My most favorite one</td>\n",
       "      <td>NaN</td>\n",
       "    </tr>\n",
       "    <tr>\n",
       "      <th>1798</th>\n",
       "      <td>lordoftherings</td>\n",
       "      <td>Viva La Dirt League sketch ad for Rise to Powe...</td>\n",
       "      <td>NaN</td>\n",
       "    </tr>\n",
       "  </tbody>\n",
       "</table>\n",
       "<p>1799 rows × 3 columns</p>\n",
       "</div>"
      ],
      "text/plain": [
       "           subreddit                                              title  \\\n",
       "0     lordoftherings  How this sub acts in every comment section abo...   \n",
       "1     lordoftherings                               how forgiving is Eru   \n",
       "2     lordoftherings                           Music changes everything   \n",
       "3     lordoftherings  Everything the RoP showrunners have said in in...   \n",
       "4     lordoftherings  Fights when well choreographed despite being s...   \n",
       "...              ...                                                ...   \n",
       "1794  lordoftherings                        Gondolin by Donato Giancola   \n",
       "1795  lordoftherings  Question about that scene in Two Towers with A...   \n",
       "1796  lordoftherings         It's probably the coolest piece I own now.   \n",
       "1797  lordoftherings                               My most favorite one   \n",
       "1798  lordoftherings  Viva La Dirt League sketch ad for Rise to Powe...   \n",
       "\n",
       "                                               selftext  \n",
       "0                                                   NaN  \n",
       "1     I am making a maia that fell from grace due to...  \n",
       "2                                                   NaN  \n",
       "3     Some common critiques fans have for the showru...  \n",
       "4                                                   NaN  \n",
       "...                                                 ...  \n",
       "1794                                                NaN  \n",
       "1795  hello! it’s my first time watching the movies ...  \n",
       "1796                                                NaN  \n",
       "1797                                                NaN  \n",
       "1798                                                NaN  \n",
       "\n",
       "[1799 rows x 3 columns]"
      ]
     },
     "execution_count": 5,
     "metadata": {},
     "output_type": "execute_result"
    }
   ],
   "source": [
    "lotr_df"
   ]
  },
  {
   "cell_type": "code",
   "execution_count": 6,
   "id": "9963bb55-b0e9-4518-87a2-afc571679cfa",
   "metadata": {},
   "outputs": [
    {
     "name": "stdout",
     "output_type": "stream",
     "text": [
      "<class 'pandas.core.frame.DataFrame'>\n",
      "RangeIndex: 1799 entries, 0 to 1798\n",
      "Data columns (total 3 columns):\n",
      " #   Column     Non-Null Count  Dtype \n",
      "---  ------     --------------  ----- \n",
      " 0   subreddit  1799 non-null   object\n",
      " 1   title      1799 non-null   object\n",
      " 2   selftext   454 non-null    object\n",
      "dtypes: object(3)\n",
      "memory usage: 42.3+ KB\n"
     ]
    }
   ],
   "source": [
    "lotr_df.info()"
   ]
  },
  {
   "cell_type": "markdown",
   "id": "d0b6444e-3d39-4305-bae3-731ea66c1c67",
   "metadata": {},
   "source": [
    "#### Clean LOTR data"
   ]
  },
  {
   "cell_type": "markdown",
   "id": "5af60ac0-429a-42ec-aa30-e2ed7b808e49",
   "metadata": {},
   "source": [
    "Using the 2 functions to clean the LOTR data"
   ]
  },
  {
   "cell_type": "code",
   "execution_count": 7,
   "id": "541054ef-99e8-4b28-a4b5-cadffbf180e5",
   "metadata": {},
   "outputs": [],
   "source": [
    "dataset_cleaning(lotr_df, \"LOTR\")"
   ]
  },
  {
   "cell_type": "code",
   "execution_count": 8,
   "id": "8b842dc5-25cf-4cfa-8a21-f5a9596f5e2f",
   "metadata": {},
   "outputs": [
    {
     "name": "stderr",
     "output_type": "stream",
     "text": [
      "C:\\Users\\cheon\\anaconda3\\envs\\dsi30\\lib\\site-packages\\bs4\\__init__.py:435: MarkupResemblesLocatorWarning: The input looks more like a filename than markup. You may want to open this file and pass the filehandle into Beautiful Soup.\n",
      "  warnings.warn(\n"
     ]
    }
   ],
   "source": [
    "lotr_df[\"alltext\"] = lotr_df[\"alltext\"].map(chunks_to_words)"
   ]
  },
  {
   "cell_type": "code",
   "execution_count": 9,
   "id": "e8f4e692-10c5-4ce0-aa14-d02cf924df95",
   "metadata": {},
   "outputs": [
    {
     "name": "stdout",
     "output_type": "stream",
     "text": [
      "<class 'pandas.core.frame.DataFrame'>\n",
      "Int64Index: 1714 entries, 0 to 1798\n",
      "Data columns (total 3 columns):\n",
      " #   Column     Non-Null Count  Dtype \n",
      "---  ------     --------------  ----- \n",
      " 0   subreddit  1714 non-null   object\n",
      " 1   alltext    1714 non-null   object\n",
      " 2   topic      1714 non-null   object\n",
      "dtypes: object(3)\n",
      "memory usage: 53.6+ KB\n"
     ]
    }
   ],
   "source": [
    "lotr_df.info()"
   ]
  },
  {
   "cell_type": "markdown",
   "id": "a45297b0-547f-4585-b23b-4b2da18daf42",
   "metadata": {},
   "source": [
    "#### Find popular words in LOTR dataset"
   ]
  },
  {
   "cell_type": "markdown",
   "id": "c5b9ba09-59d4-4497-b665-e6e0aac1b75c",
   "metadata": {},
   "source": [
    "<br>\n",
    "Enhancing the list of stopwords from Count Vectorizer"
   ]
  },
  {
   "cell_type": "code",
   "execution_count": 10,
   "id": "e05f7b30-2a4b-47f5-81ec-692a7b5ccf92",
   "metadata": {},
   "outputs": [],
   "source": [
    "stopwords_enhanced = []"
   ]
  },
  {
   "cell_type": "code",
   "execution_count": 11,
   "id": "473037d9-5e3d-4fca-97f1-ae87f6ebd7ca",
   "metadata": {},
   "outputs": [],
   "source": [
    "stopwords_enhanced.append(CountVectorizer(stop_words = 'english').get_stop_words())"
   ]
  },
  {
   "cell_type": "markdown",
   "id": "29e68b5c-ac39-42a6-b134-949e4f2f19cf",
   "metadata": {},
   "source": [
    "_This list of extra words was done after doing the vectorization once._\n",
    "<br>\n",
    "_This list of extra words was also refined after modelling to improve the performance._"
   ]
  },
  {
   "cell_type": "code",
   "execution_count": 12,
   "id": "17f1b571-8070-4a88-834e-b3e12576b46f",
   "metadata": {},
   "outputs": [],
   "source": [
    "extra_words = [\"got\", \"also\", \"think\", \"really\", \"know\", \"would\", \"made\", \"make\", \"get\", \"see\", \"says\", \"look\", \"sweet\", \"nice\",\n",
    "               \"one\", \"like\", \"could\", \"anyone\", \"much\", \"read\", \"show\", \"chapter\", \"anyone\", \"time\", \"pen\", \"figured\", \"page\", \"father\",\n",
    "               \"film\", \"amazing\", \"piece\", \"christmas\", \"bit\", \"finish\", \"marketing\", \"thought\", \"might\", \"house\", \"game\", \"perfect\",  \n",
    "               \"place\", \"help\", \"never\", \"something\", \"go\", \"version\", \"way\", \"want\", \"best\", \"ever\", \"back\", \"good\", \"year\", \"later\",\n",
    "               \"find\", \"even\", \"love\", \"many\", \"thing\", \"well\", \"little\", \"video\", \"feel\", \"favourite\", \"rather\", \"drawing\", \"fav\", \"generated\", \n",
    "               \"quiz\", \"bear\", \"anime\", \"happy\", \"exclusive\", \"dramatic\", \"local\", \"print\", \"child\", \"mug\", \"fanedit\", \"meme\", \"imagined\", \"ball\",\n",
    "               \"thanks\", \"everyone\", \"great\", \"first\", \"book\", \"movie\", \"new\", \"always\", \"better\", \"big\", \"view\", \"watch\", \"actually\", \"trailer\"]"
   ]
  },
  {
   "cell_type": "code",
   "execution_count": 13,
   "id": "e72f4cf4-08d2-423a-99fa-357df237e48c",
   "metadata": {},
   "outputs": [],
   "source": [
    "for word in extra_words:\n",
    "    stopwords_enhanced.append(word)"
   ]
  },
  {
   "cell_type": "markdown",
   "id": "1e5360fe-76c8-4d84-9111-9e048d7ed7c5",
   "metadata": {},
   "source": [
    "<br>\n",
    "Vectorize the LOTR dataset to find popular words"
   ]
  },
  {
   "cell_type": "code",
   "execution_count": 14,
   "id": "959ec7b9-b968-4b6f-97fa-f7e8ab5ad074",
   "metadata": {},
   "outputs": [],
   "source": [
    "vectorizer = CountVectorizer(analyzer = \"word\",\n",
    "                             tokenizer = None,\n",
    "                             preprocessor = None,\n",
    "                             stop_words = stopwords_enhanced,\n",
    "                             ngram_range =(1, 4),\n",
    "                             max_features = 100\n",
    "                            ) "
   ]
  },
  {
   "cell_type": "code",
   "execution_count": 15,
   "id": "15bda5ee-96e5-477a-8612-6557bcb8965a",
   "metadata": {},
   "outputs": [],
   "source": [
    "vector_lotr = vectorizer.fit_transform(lotr_df[\"alltext\"])"
   ]
  },
  {
   "cell_type": "code",
   "execution_count": 16,
   "id": "51e38f9a-54f6-42e6-9d89-576b2d944167",
   "metadata": {},
   "outputs": [
    {
     "data": {
      "text/plain": [
       "(1714, 100)"
      ]
     },
     "execution_count": 16,
     "metadata": {},
     "output_type": "execute_result"
    }
   ],
   "source": [
    "vector_lotr.shape"
   ]
  },
  {
   "cell_type": "code",
   "execution_count": 17,
   "id": "c0a0aaf8-c372-411c-8c5d-102daf5a9d41",
   "metadata": {},
   "outputs": [],
   "source": [
    "vector_lotr_df = pd.DataFrame(vector_lotr.todense(),\n",
    "                              columns=vectorizer.get_feature_names_out())"
   ]
  },
  {
   "cell_type": "code",
   "execution_count": 18,
   "id": "32d60ad5-bfa9-4a87-8e78-fb75df097063",
   "metadata": {},
   "outputs": [
    {
     "data": {
      "text/html": [
       "<div>\n",
       "<style scoped>\n",
       "    .dataframe tbody tr th:only-of-type {\n",
       "        vertical-align: middle;\n",
       "    }\n",
       "\n",
       "    .dataframe tbody tr th {\n",
       "        vertical-align: top;\n",
       "    }\n",
       "\n",
       "    .dataframe thead th {\n",
       "        text-align: right;\n",
       "    }\n",
       "</style>\n",
       "<table border=\"1\" class=\"dataframe\">\n",
       "  <thead>\n",
       "    <tr style=\"text-align: right;\">\n",
       "      <th></th>\n",
       "      <th>age</th>\n",
       "      <th>amazon</th>\n",
       "      <th>aragorn</th>\n",
       "      <th>art</th>\n",
       "      <th>battle</th>\n",
       "      <th>bilbo</th>\n",
       "      <th>black</th>\n",
       "      <th>cast</th>\n",
       "      <th>character</th>\n",
       "      <th>come</th>\n",
       "      <th>...</th>\n",
       "      <th>today</th>\n",
       "      <th>tolkien</th>\n",
       "      <th>tower</th>\n",
       "      <th>trilogy</th>\n",
       "      <th>two</th>\n",
       "      <th>wanted</th>\n",
       "      <th>war</th>\n",
       "      <th>watching</th>\n",
       "      <th>work</th>\n",
       "      <th>world</th>\n",
       "    </tr>\n",
       "  </thead>\n",
       "  <tbody>\n",
       "    <tr>\n",
       "      <th>0</th>\n",
       "      <td>0</td>\n",
       "      <td>0</td>\n",
       "      <td>0</td>\n",
       "      <td>0</td>\n",
       "      <td>0</td>\n",
       "      <td>0</td>\n",
       "      <td>0</td>\n",
       "      <td>0</td>\n",
       "      <td>0</td>\n",
       "      <td>0</td>\n",
       "      <td>...</td>\n",
       "      <td>0</td>\n",
       "      <td>0</td>\n",
       "      <td>0</td>\n",
       "      <td>0</td>\n",
       "      <td>0</td>\n",
       "      <td>0</td>\n",
       "      <td>0</td>\n",
       "      <td>0</td>\n",
       "      <td>0</td>\n",
       "      <td>0</td>\n",
       "    </tr>\n",
       "    <tr>\n",
       "      <th>1</th>\n",
       "      <td>0</td>\n",
       "      <td>0</td>\n",
       "      <td>0</td>\n",
       "      <td>0</td>\n",
       "      <td>0</td>\n",
       "      <td>0</td>\n",
       "      <td>0</td>\n",
       "      <td>0</td>\n",
       "      <td>0</td>\n",
       "      <td>0</td>\n",
       "      <td>...</td>\n",
       "      <td>0</td>\n",
       "      <td>0</td>\n",
       "      <td>0</td>\n",
       "      <td>0</td>\n",
       "      <td>0</td>\n",
       "      <td>0</td>\n",
       "      <td>0</td>\n",
       "      <td>0</td>\n",
       "      <td>0</td>\n",
       "      <td>0</td>\n",
       "    </tr>\n",
       "    <tr>\n",
       "      <th>2</th>\n",
       "      <td>0</td>\n",
       "      <td>0</td>\n",
       "      <td>0</td>\n",
       "      <td>0</td>\n",
       "      <td>0</td>\n",
       "      <td>0</td>\n",
       "      <td>0</td>\n",
       "      <td>0</td>\n",
       "      <td>0</td>\n",
       "      <td>0</td>\n",
       "      <td>...</td>\n",
       "      <td>0</td>\n",
       "      <td>0</td>\n",
       "      <td>0</td>\n",
       "      <td>0</td>\n",
       "      <td>0</td>\n",
       "      <td>0</td>\n",
       "      <td>0</td>\n",
       "      <td>0</td>\n",
       "      <td>0</td>\n",
       "      <td>0</td>\n",
       "    </tr>\n",
       "    <tr>\n",
       "      <th>3</th>\n",
       "      <td>14</td>\n",
       "      <td>10</td>\n",
       "      <td>0</td>\n",
       "      <td>0</td>\n",
       "      <td>2</td>\n",
       "      <td>0</td>\n",
       "      <td>0</td>\n",
       "      <td>1</td>\n",
       "      <td>8</td>\n",
       "      <td>7</td>\n",
       "      <td>...</td>\n",
       "      <td>0</td>\n",
       "      <td>39</td>\n",
       "      <td>1</td>\n",
       "      <td>2</td>\n",
       "      <td>11</td>\n",
       "      <td>13</td>\n",
       "      <td>2</td>\n",
       "      <td>0</td>\n",
       "      <td>5</td>\n",
       "      <td>16</td>\n",
       "    </tr>\n",
       "    <tr>\n",
       "      <th>4</th>\n",
       "      <td>0</td>\n",
       "      <td>0</td>\n",
       "      <td>0</td>\n",
       "      <td>0</td>\n",
       "      <td>0</td>\n",
       "      <td>0</td>\n",
       "      <td>0</td>\n",
       "      <td>0</td>\n",
       "      <td>0</td>\n",
       "      <td>0</td>\n",
       "      <td>...</td>\n",
       "      <td>0</td>\n",
       "      <td>0</td>\n",
       "      <td>0</td>\n",
       "      <td>0</td>\n",
       "      <td>1</td>\n",
       "      <td>0</td>\n",
       "      <td>0</td>\n",
       "      <td>0</td>\n",
       "      <td>0</td>\n",
       "      <td>0</td>\n",
       "    </tr>\n",
       "    <tr>\n",
       "      <th>...</th>\n",
       "      <td>...</td>\n",
       "      <td>...</td>\n",
       "      <td>...</td>\n",
       "      <td>...</td>\n",
       "      <td>...</td>\n",
       "      <td>...</td>\n",
       "      <td>...</td>\n",
       "      <td>...</td>\n",
       "      <td>...</td>\n",
       "      <td>...</td>\n",
       "      <td>...</td>\n",
       "      <td>...</td>\n",
       "      <td>...</td>\n",
       "      <td>...</td>\n",
       "      <td>...</td>\n",
       "      <td>...</td>\n",
       "      <td>...</td>\n",
       "      <td>...</td>\n",
       "      <td>...</td>\n",
       "      <td>...</td>\n",
       "      <td>...</td>\n",
       "    </tr>\n",
       "    <tr>\n",
       "      <th>1709</th>\n",
       "      <td>0</td>\n",
       "      <td>0</td>\n",
       "      <td>0</td>\n",
       "      <td>0</td>\n",
       "      <td>0</td>\n",
       "      <td>0</td>\n",
       "      <td>0</td>\n",
       "      <td>0</td>\n",
       "      <td>0</td>\n",
       "      <td>0</td>\n",
       "      <td>...</td>\n",
       "      <td>0</td>\n",
       "      <td>0</td>\n",
       "      <td>0</td>\n",
       "      <td>0</td>\n",
       "      <td>0</td>\n",
       "      <td>0</td>\n",
       "      <td>0</td>\n",
       "      <td>0</td>\n",
       "      <td>0</td>\n",
       "      <td>0</td>\n",
       "    </tr>\n",
       "    <tr>\n",
       "      <th>1710</th>\n",
       "      <td>0</td>\n",
       "      <td>0</td>\n",
       "      <td>0</td>\n",
       "      <td>0</td>\n",
       "      <td>0</td>\n",
       "      <td>0</td>\n",
       "      <td>0</td>\n",
       "      <td>0</td>\n",
       "      <td>0</td>\n",
       "      <td>0</td>\n",
       "      <td>...</td>\n",
       "      <td>0</td>\n",
       "      <td>0</td>\n",
       "      <td>0</td>\n",
       "      <td>0</td>\n",
       "      <td>0</td>\n",
       "      <td>0</td>\n",
       "      <td>0</td>\n",
       "      <td>0</td>\n",
       "      <td>0</td>\n",
       "      <td>0</td>\n",
       "    </tr>\n",
       "    <tr>\n",
       "      <th>1711</th>\n",
       "      <td>0</td>\n",
       "      <td>0</td>\n",
       "      <td>2</td>\n",
       "      <td>0</td>\n",
       "      <td>0</td>\n",
       "      <td>0</td>\n",
       "      <td>0</td>\n",
       "      <td>0</td>\n",
       "      <td>0</td>\n",
       "      <td>0</td>\n",
       "      <td>...</td>\n",
       "      <td>0</td>\n",
       "      <td>0</td>\n",
       "      <td>2</td>\n",
       "      <td>0</td>\n",
       "      <td>2</td>\n",
       "      <td>0</td>\n",
       "      <td>0</td>\n",
       "      <td>1</td>\n",
       "      <td>0</td>\n",
       "      <td>0</td>\n",
       "    </tr>\n",
       "    <tr>\n",
       "      <th>1712</th>\n",
       "      <td>0</td>\n",
       "      <td>0</td>\n",
       "      <td>0</td>\n",
       "      <td>0</td>\n",
       "      <td>0</td>\n",
       "      <td>0</td>\n",
       "      <td>0</td>\n",
       "      <td>0</td>\n",
       "      <td>0</td>\n",
       "      <td>0</td>\n",
       "      <td>...</td>\n",
       "      <td>0</td>\n",
       "      <td>0</td>\n",
       "      <td>0</td>\n",
       "      <td>0</td>\n",
       "      <td>0</td>\n",
       "      <td>0</td>\n",
       "      <td>0</td>\n",
       "      <td>0</td>\n",
       "      <td>0</td>\n",
       "      <td>0</td>\n",
       "    </tr>\n",
       "    <tr>\n",
       "      <th>1713</th>\n",
       "      <td>0</td>\n",
       "      <td>0</td>\n",
       "      <td>0</td>\n",
       "      <td>0</td>\n",
       "      <td>0</td>\n",
       "      <td>0</td>\n",
       "      <td>0</td>\n",
       "      <td>0</td>\n",
       "      <td>0</td>\n",
       "      <td>0</td>\n",
       "      <td>...</td>\n",
       "      <td>0</td>\n",
       "      <td>0</td>\n",
       "      <td>0</td>\n",
       "      <td>0</td>\n",
       "      <td>0</td>\n",
       "      <td>0</td>\n",
       "      <td>0</td>\n",
       "      <td>0</td>\n",
       "      <td>0</td>\n",
       "      <td>0</td>\n",
       "    </tr>\n",
       "  </tbody>\n",
       "</table>\n",
       "<p>1714 rows × 100 columns</p>\n",
       "</div>"
      ],
      "text/plain": [
       "      age  amazon  aragorn  art  battle  bilbo  black  cast  character  come  \\\n",
       "0       0       0        0    0       0      0      0     0          0     0   \n",
       "1       0       0        0    0       0      0      0     0          0     0   \n",
       "2       0       0        0    0       0      0      0     0          0     0   \n",
       "3      14      10        0    0       2      0      0     1          8     7   \n",
       "4       0       0        0    0       0      0      0     0          0     0   \n",
       "...   ...     ...      ...  ...     ...    ...    ...   ...        ...   ...   \n",
       "1709    0       0        0    0       0      0      0     0          0     0   \n",
       "1710    0       0        0    0       0      0      0     0          0     0   \n",
       "1711    0       0        2    0       0      0      0     0          0     0   \n",
       "1712    0       0        0    0       0      0      0     0          0     0   \n",
       "1713    0       0        0    0       0      0      0     0          0     0   \n",
       "\n",
       "      ...  today  tolkien  tower  trilogy  two  wanted  war  watching  work  \\\n",
       "0     ...      0        0      0        0    0       0    0         0     0   \n",
       "1     ...      0        0      0        0    0       0    0         0     0   \n",
       "2     ...      0        0      0        0    0       0    0         0     0   \n",
       "3     ...      0       39      1        2   11      13    2         0     5   \n",
       "4     ...      0        0      0        0    1       0    0         0     0   \n",
       "...   ...    ...      ...    ...      ...  ...     ...  ...       ...   ...   \n",
       "1709  ...      0        0      0        0    0       0    0         0     0   \n",
       "1710  ...      0        0      0        0    0       0    0         0     0   \n",
       "1711  ...      0        0      2        0    2       0    0         1     0   \n",
       "1712  ...      0        0      0        0    0       0    0         0     0   \n",
       "1713  ...      0        0      0        0    0       0    0         0     0   \n",
       "\n",
       "      world  \n",
       "0         0  \n",
       "1         0  \n",
       "2         0  \n",
       "3        16  \n",
       "4         0  \n",
       "...     ...  \n",
       "1709      0  \n",
       "1710      0  \n",
       "1711      0  \n",
       "1712      0  \n",
       "1713      0  \n",
       "\n",
       "[1714 rows x 100 columns]"
      ]
     },
     "execution_count": 18,
     "metadata": {},
     "output_type": "execute_result"
    }
   ],
   "source": [
    "vector_lotr_df"
   ]
  },
  {
   "cell_type": "markdown",
   "id": "4076c855-3ef3-4a79-a9fc-d3627ef8afee",
   "metadata": {},
   "source": [
    "### Explore The Hobbits dataset"
   ]
  },
  {
   "cell_type": "code",
   "execution_count": 19,
   "id": "771a2bc1-5a74-4cc9-bcc9-4df44525c74a",
   "metadata": {},
   "outputs": [],
   "source": [
    "hobb_df = pd.read_csv(\"./data/thehobbits.csv\")"
   ]
  },
  {
   "cell_type": "code",
   "execution_count": 20,
   "id": "12c5ef0f-109b-4e1b-b88a-aeb5f1232df4",
   "metadata": {},
   "outputs": [
    {
     "data": {
      "text/plain": [
       "(1800, 3)"
      ]
     },
     "execution_count": 20,
     "metadata": {},
     "output_type": "execute_result"
    }
   ],
   "source": [
    "hobb_df.shape"
   ]
  },
  {
   "cell_type": "markdown",
   "id": "7b7c8bfc-55e3-4ab3-83f1-05ef589dcdf5",
   "metadata": {},
   "source": [
    "#### Clean Hobbit data"
   ]
  },
  {
   "cell_type": "code",
   "execution_count": 21,
   "id": "b7c5dfb4-c58e-4023-973d-a17c773a7dc8",
   "metadata": {},
   "outputs": [],
   "source": [
    "dataset_cleaning(hobb_df, \"HOBB\")"
   ]
  },
  {
   "cell_type": "code",
   "execution_count": 22,
   "id": "dbd96d09-77c6-44cb-810d-3d3420a385cf",
   "metadata": {},
   "outputs": [
    {
     "name": "stderr",
     "output_type": "stream",
     "text": [
      "C:\\Users\\cheon\\anaconda3\\envs\\dsi30\\lib\\site-packages\\bs4\\__init__.py:435: MarkupResemblesLocatorWarning: The input looks more like a filename than markup. You may want to open this file and pass the filehandle into Beautiful Soup.\n",
      "  warnings.warn(\n"
     ]
    }
   ],
   "source": [
    "hobb_df[\"alltext\"] = hobb_df[\"alltext\"].map(chunks_to_words)"
   ]
  },
  {
   "cell_type": "code",
   "execution_count": 23,
   "id": "8db3a2c4-eaab-4804-bb44-a6751a469ed6",
   "metadata": {},
   "outputs": [
    {
     "name": "stdout",
     "output_type": "stream",
     "text": [
      "<class 'pandas.core.frame.DataFrame'>\n",
      "Int64Index: 1656 entries, 0 to 1799\n",
      "Data columns (total 3 columns):\n",
      " #   Column     Non-Null Count  Dtype \n",
      "---  ------     --------------  ----- \n",
      " 0   subreddit  1656 non-null   object\n",
      " 1   alltext    1656 non-null   object\n",
      " 2   topic      1656 non-null   object\n",
      "dtypes: object(3)\n",
      "memory usage: 51.8+ KB\n"
     ]
    }
   ],
   "source": [
    "hobb_df.info()"
   ]
  },
  {
   "cell_type": "markdown",
   "id": "68770e43-af7b-48f9-b56a-6890813820bf",
   "metadata": {},
   "source": [
    "#### Find popular words in Hobbit dataset"
   ]
  },
  {
   "cell_type": "code",
   "execution_count": 24,
   "id": "83eb01f7-fe5b-41f2-a3c7-fc18d427a192",
   "metadata": {},
   "outputs": [],
   "source": [
    "vector_hobb = vectorizer.fit_transform(hobb_df[\"alltext\"])"
   ]
  },
  {
   "cell_type": "code",
   "execution_count": 25,
   "id": "06d42c5d-90c5-49af-908a-28c99e71a434",
   "metadata": {},
   "outputs": [
    {
     "data": {
      "text/plain": [
       "(1656, 100)"
      ]
     },
     "execution_count": 25,
     "metadata": {},
     "output_type": "execute_result"
    }
   ],
   "source": [
    "vector_hobb.shape"
   ]
  },
  {
   "cell_type": "code",
   "execution_count": 26,
   "id": "7f8b0b84-bed7-455f-ac39-784e04978e08",
   "metadata": {},
   "outputs": [],
   "source": [
    "vector_hobb_df = pd.DataFrame(vector_hobb.todense(),\n",
    "                              columns = vectorizer.get_feature_names_out())"
   ]
  },
  {
   "cell_type": "code",
   "execution_count": 27,
   "id": "d3efac7a-2da3-4630-bf91-a90fce688e3d",
   "metadata": {},
   "outputs": [
    {
     "data": {
      "text/html": [
       "<div>\n",
       "<style scoped>\n",
       "    .dataframe tbody tr th:only-of-type {\n",
       "        vertical-align: middle;\n",
       "    }\n",
       "\n",
       "    .dataframe tbody tr th {\n",
       "        vertical-align: top;\n",
       "    }\n",
       "\n",
       "    .dataframe thead th {\n",
       "        text-align: right;\n",
       "    }\n",
       "</style>\n",
       "<table border=\"1\" class=\"dataframe\">\n",
       "  <thead>\n",
       "    <tr style=\"text-align: right;\">\n",
       "      <th></th>\n",
       "      <th>adventure</th>\n",
       "      <th>answer</th>\n",
       "      <th>army</th>\n",
       "      <th>art</th>\n",
       "      <th>azog</th>\n",
       "      <th>baggins</th>\n",
       "      <th>battle</th>\n",
       "      <th>battle five</th>\n",
       "      <th>battle five army</th>\n",
       "      <th>bilbo</th>\n",
       "      <th>...</th>\n",
       "      <th>tolkien</th>\n",
       "      <th>trilogy</th>\n",
       "      <th>two</th>\n",
       "      <th>unexpected</th>\n",
       "      <th>wanted</th>\n",
       "      <th>war</th>\n",
       "      <th>watched</th>\n",
       "      <th>watching</th>\n",
       "      <th>work</th>\n",
       "      <th>world</th>\n",
       "    </tr>\n",
       "  </thead>\n",
       "  <tbody>\n",
       "    <tr>\n",
       "      <th>0</th>\n",
       "      <td>0</td>\n",
       "      <td>0</td>\n",
       "      <td>0</td>\n",
       "      <td>0</td>\n",
       "      <td>0</td>\n",
       "      <td>0</td>\n",
       "      <td>0</td>\n",
       "      <td>0</td>\n",
       "      <td>0</td>\n",
       "      <td>0</td>\n",
       "      <td>...</td>\n",
       "      <td>0</td>\n",
       "      <td>0</td>\n",
       "      <td>0</td>\n",
       "      <td>0</td>\n",
       "      <td>0</td>\n",
       "      <td>0</td>\n",
       "      <td>0</td>\n",
       "      <td>0</td>\n",
       "      <td>0</td>\n",
       "      <td>0</td>\n",
       "    </tr>\n",
       "    <tr>\n",
       "      <th>1</th>\n",
       "      <td>0</td>\n",
       "      <td>0</td>\n",
       "      <td>0</td>\n",
       "      <td>0</td>\n",
       "      <td>0</td>\n",
       "      <td>0</td>\n",
       "      <td>0</td>\n",
       "      <td>0</td>\n",
       "      <td>0</td>\n",
       "      <td>0</td>\n",
       "      <td>...</td>\n",
       "      <td>0</td>\n",
       "      <td>0</td>\n",
       "      <td>0</td>\n",
       "      <td>0</td>\n",
       "      <td>0</td>\n",
       "      <td>0</td>\n",
       "      <td>0</td>\n",
       "      <td>0</td>\n",
       "      <td>0</td>\n",
       "      <td>0</td>\n",
       "    </tr>\n",
       "    <tr>\n",
       "      <th>2</th>\n",
       "      <td>0</td>\n",
       "      <td>0</td>\n",
       "      <td>0</td>\n",
       "      <td>0</td>\n",
       "      <td>0</td>\n",
       "      <td>0</td>\n",
       "      <td>0</td>\n",
       "      <td>0</td>\n",
       "      <td>0</td>\n",
       "      <td>0</td>\n",
       "      <td>...</td>\n",
       "      <td>3</td>\n",
       "      <td>0</td>\n",
       "      <td>0</td>\n",
       "      <td>0</td>\n",
       "      <td>0</td>\n",
       "      <td>0</td>\n",
       "      <td>0</td>\n",
       "      <td>0</td>\n",
       "      <td>0</td>\n",
       "      <td>0</td>\n",
       "    </tr>\n",
       "    <tr>\n",
       "      <th>3</th>\n",
       "      <td>0</td>\n",
       "      <td>0</td>\n",
       "      <td>0</td>\n",
       "      <td>0</td>\n",
       "      <td>0</td>\n",
       "      <td>0</td>\n",
       "      <td>0</td>\n",
       "      <td>0</td>\n",
       "      <td>0</td>\n",
       "      <td>0</td>\n",
       "      <td>...</td>\n",
       "      <td>0</td>\n",
       "      <td>0</td>\n",
       "      <td>0</td>\n",
       "      <td>0</td>\n",
       "      <td>0</td>\n",
       "      <td>0</td>\n",
       "      <td>0</td>\n",
       "      <td>0</td>\n",
       "      <td>0</td>\n",
       "      <td>0</td>\n",
       "    </tr>\n",
       "    <tr>\n",
       "      <th>4</th>\n",
       "      <td>0</td>\n",
       "      <td>0</td>\n",
       "      <td>0</td>\n",
       "      <td>0</td>\n",
       "      <td>0</td>\n",
       "      <td>0</td>\n",
       "      <td>0</td>\n",
       "      <td>0</td>\n",
       "      <td>0</td>\n",
       "      <td>0</td>\n",
       "      <td>...</td>\n",
       "      <td>0</td>\n",
       "      <td>0</td>\n",
       "      <td>0</td>\n",
       "      <td>0</td>\n",
       "      <td>0</td>\n",
       "      <td>0</td>\n",
       "      <td>0</td>\n",
       "      <td>0</td>\n",
       "      <td>0</td>\n",
       "      <td>0</td>\n",
       "    </tr>\n",
       "    <tr>\n",
       "      <th>...</th>\n",
       "      <td>...</td>\n",
       "      <td>...</td>\n",
       "      <td>...</td>\n",
       "      <td>...</td>\n",
       "      <td>...</td>\n",
       "      <td>...</td>\n",
       "      <td>...</td>\n",
       "      <td>...</td>\n",
       "      <td>...</td>\n",
       "      <td>...</td>\n",
       "      <td>...</td>\n",
       "      <td>...</td>\n",
       "      <td>...</td>\n",
       "      <td>...</td>\n",
       "      <td>...</td>\n",
       "      <td>...</td>\n",
       "      <td>...</td>\n",
       "      <td>...</td>\n",
       "      <td>...</td>\n",
       "      <td>...</td>\n",
       "      <td>...</td>\n",
       "    </tr>\n",
       "    <tr>\n",
       "      <th>1651</th>\n",
       "      <td>0</td>\n",
       "      <td>0</td>\n",
       "      <td>0</td>\n",
       "      <td>0</td>\n",
       "      <td>0</td>\n",
       "      <td>0</td>\n",
       "      <td>0</td>\n",
       "      <td>0</td>\n",
       "      <td>0</td>\n",
       "      <td>0</td>\n",
       "      <td>...</td>\n",
       "      <td>0</td>\n",
       "      <td>0</td>\n",
       "      <td>0</td>\n",
       "      <td>0</td>\n",
       "      <td>0</td>\n",
       "      <td>0</td>\n",
       "      <td>0</td>\n",
       "      <td>0</td>\n",
       "      <td>0</td>\n",
       "      <td>0</td>\n",
       "    </tr>\n",
       "    <tr>\n",
       "      <th>1652</th>\n",
       "      <td>0</td>\n",
       "      <td>0</td>\n",
       "      <td>0</td>\n",
       "      <td>0</td>\n",
       "      <td>0</td>\n",
       "      <td>0</td>\n",
       "      <td>0</td>\n",
       "      <td>0</td>\n",
       "      <td>0</td>\n",
       "      <td>0</td>\n",
       "      <td>...</td>\n",
       "      <td>1</td>\n",
       "      <td>0</td>\n",
       "      <td>0</td>\n",
       "      <td>0</td>\n",
       "      <td>0</td>\n",
       "      <td>0</td>\n",
       "      <td>0</td>\n",
       "      <td>0</td>\n",
       "      <td>0</td>\n",
       "      <td>0</td>\n",
       "    </tr>\n",
       "    <tr>\n",
       "      <th>1653</th>\n",
       "      <td>0</td>\n",
       "      <td>0</td>\n",
       "      <td>0</td>\n",
       "      <td>0</td>\n",
       "      <td>0</td>\n",
       "      <td>0</td>\n",
       "      <td>0</td>\n",
       "      <td>0</td>\n",
       "      <td>0</td>\n",
       "      <td>0</td>\n",
       "      <td>...</td>\n",
       "      <td>0</td>\n",
       "      <td>0</td>\n",
       "      <td>0</td>\n",
       "      <td>0</td>\n",
       "      <td>0</td>\n",
       "      <td>0</td>\n",
       "      <td>0</td>\n",
       "      <td>0</td>\n",
       "      <td>0</td>\n",
       "      <td>0</td>\n",
       "    </tr>\n",
       "    <tr>\n",
       "      <th>1654</th>\n",
       "      <td>0</td>\n",
       "      <td>0</td>\n",
       "      <td>0</td>\n",
       "      <td>0</td>\n",
       "      <td>0</td>\n",
       "      <td>0</td>\n",
       "      <td>0</td>\n",
       "      <td>0</td>\n",
       "      <td>0</td>\n",
       "      <td>0</td>\n",
       "      <td>...</td>\n",
       "      <td>0</td>\n",
       "      <td>0</td>\n",
       "      <td>0</td>\n",
       "      <td>0</td>\n",
       "      <td>0</td>\n",
       "      <td>0</td>\n",
       "      <td>0</td>\n",
       "      <td>0</td>\n",
       "      <td>0</td>\n",
       "      <td>0</td>\n",
       "    </tr>\n",
       "    <tr>\n",
       "      <th>1655</th>\n",
       "      <td>0</td>\n",
       "      <td>0</td>\n",
       "      <td>0</td>\n",
       "      <td>0</td>\n",
       "      <td>0</td>\n",
       "      <td>0</td>\n",
       "      <td>0</td>\n",
       "      <td>0</td>\n",
       "      <td>0</td>\n",
       "      <td>0</td>\n",
       "      <td>...</td>\n",
       "      <td>0</td>\n",
       "      <td>0</td>\n",
       "      <td>0</td>\n",
       "      <td>0</td>\n",
       "      <td>0</td>\n",
       "      <td>0</td>\n",
       "      <td>0</td>\n",
       "      <td>0</td>\n",
       "      <td>0</td>\n",
       "      <td>0</td>\n",
       "    </tr>\n",
       "  </tbody>\n",
       "</table>\n",
       "<p>1656 rows × 100 columns</p>\n",
       "</div>"
      ],
      "text/plain": [
       "      adventure  answer  army  art  azog  baggins  battle  battle five  \\\n",
       "0             0       0     0    0     0        0       0            0   \n",
       "1             0       0     0    0     0        0       0            0   \n",
       "2             0       0     0    0     0        0       0            0   \n",
       "3             0       0     0    0     0        0       0            0   \n",
       "4             0       0     0    0     0        0       0            0   \n",
       "...         ...     ...   ...  ...   ...      ...     ...          ...   \n",
       "1651          0       0     0    0     0        0       0            0   \n",
       "1652          0       0     0    0     0        0       0            0   \n",
       "1653          0       0     0    0     0        0       0            0   \n",
       "1654          0       0     0    0     0        0       0            0   \n",
       "1655          0       0     0    0     0        0       0            0   \n",
       "\n",
       "      battle five army  bilbo  ...  tolkien  trilogy  two  unexpected  wanted  \\\n",
       "0                    0      0  ...        0        0    0           0       0   \n",
       "1                    0      0  ...        0        0    0           0       0   \n",
       "2                    0      0  ...        3        0    0           0       0   \n",
       "3                    0      0  ...        0        0    0           0       0   \n",
       "4                    0      0  ...        0        0    0           0       0   \n",
       "...                ...    ...  ...      ...      ...  ...         ...     ...   \n",
       "1651                 0      0  ...        0        0    0           0       0   \n",
       "1652                 0      0  ...        1        0    0           0       0   \n",
       "1653                 0      0  ...        0        0    0           0       0   \n",
       "1654                 0      0  ...        0        0    0           0       0   \n",
       "1655                 0      0  ...        0        0    0           0       0   \n",
       "\n",
       "      war  watched  watching  work  world  \n",
       "0       0        0         0     0      0  \n",
       "1       0        0         0     0      0  \n",
       "2       0        0         0     0      0  \n",
       "3       0        0         0     0      0  \n",
       "4       0        0         0     0      0  \n",
       "...   ...      ...       ...   ...    ...  \n",
       "1651    0        0         0     0      0  \n",
       "1652    0        0         0     0      0  \n",
       "1653    0        0         0     0      0  \n",
       "1654    0        0         0     0      0  \n",
       "1655    0        0         0     0      0  \n",
       "\n",
       "[1656 rows x 100 columns]"
      ]
     },
     "execution_count": 27,
     "metadata": {},
     "output_type": "execute_result"
    }
   ],
   "source": [
    "vector_hobb_df"
   ]
  },
  {
   "cell_type": "markdown",
   "id": "aeb8f0af-2e9d-4e14-beb1-eddfee53709a",
   "metadata": {},
   "source": [
    "## EDA"
   ]
  },
  {
   "cell_type": "markdown",
   "id": "2dd40601-8364-4944-bab9-ab22e872bf6d",
   "metadata": {},
   "source": [
    "### Find the top common words in both dataset"
   ]
  },
  {
   "cell_type": "code",
   "execution_count": 28,
   "id": "753a3a2c-77da-408c-bdca-03bbd86b039a",
   "metadata": {},
   "outputs": [
    {
     "data": {
      "text/plain": [
       "<AxesSubplot:>"
      ]
     },
     "execution_count": 28,
     "metadata": {},
     "output_type": "execute_result"
    },
    {
     "data": {
      "image/png": "[encoded data removed]",
      "text/plain": [
       "<Figure size 432x288 with 1 Axes>"
      ]
     },
     "metadata": {
      "needs_background": "light"
     },
     "output_type": "display_data"
    }
   ],
   "source": [
    "vector_lotr_df.sum().sort_values(ascending=False).head(30).plot(kind=\"barh\")"
   ]
  },
  {
   "cell_type": "code",
   "execution_count": 29,
   "id": "f00d3eec-87b9-4f1f-9cc6-a96f5929bbad",
   "metadata": {},
   "outputs": [
    {
     "data": {
      "text/plain": [
       "<AxesSubplot:>"
      ]
     },
     "execution_count": 29,
     "metadata": {},
     "output_type": "execute_result"
    },
    {
     "data": {
      "image/png": "[encoded data removed]",
      "text/plain": [
       "<Figure size 432x288 with 1 Axes>"
      ]
     },
     "metadata": {
      "needs_background": "light"
     },
     "output_type": "display_data"
    }
   ],
   "source": [
    "vector_hobb_df.sum().sort_values(ascending=False).head(30).plot(kind=\"barh\")"
   ]
  },
  {
   "cell_type": "markdown",
   "id": "523dff98-1273-4386-95ae-33e5fa995064",
   "metadata": {},
   "source": [
    "Remove the common words"
   ]
  },
  {
   "cell_type": "code",
   "execution_count": 30,
   "id": "4dc91748-5fcf-4f96-a6a9-21cf393cb2d5",
   "metadata": {},
   "outputs": [],
   "source": [
    "lotr_df.replace([\"middle earth\", \"lord ring\", \"middle\", \"earth\", \"ring\", \"tolkien\", \"lord\"], \"\", inplace=True)\n",
    "hobb_df.replace([\"middle earth\", \"lord ring\", \"middle\", \"earth\", \"ring\", \"tolkien\", \"lord\"], \"\", inplace=True)"
   ]
  },
  {
   "cell_type": "markdown",
   "id": "f9ef0f4c-0429-41da-9438-e3e5e48241c7",
   "metadata": {},
   "source": [
    "### Wordcloud"
   ]
  },
  {
   "cell_type": "code",
   "execution_count": 31,
   "id": "1fe9ec97-b126-4b63-bf99-75000eaab847",
   "metadata": {},
   "outputs": [
    {
     "data": {
      "image/png": "[encoded data removed]",
      "text/plain": [
       "<Figure size 864x432 with 1 Axes>"
      ]
     },
     "metadata": {
      "needs_background": "light"
     },
     "output_type": "display_data"
    }
   ],
   "source": [
    "fig = plt.figure(1, figsize=(12, 6))\n",
    "plt.axis('off')\n",
    "\n",
    "fig.suptitle(\"LOTR\", fontsize=20)\n",
    "\n",
    "word_cloud = WordCloud(\n",
    "    background_color = \"lightblue\",\n",
    "    max_words=100,\n",
    "    max_font_size=40,\n",
    "    colormap=\"Set2\"\n",
    ").generate(str(lotr_df[\"alltext\"].values))\n",
    "\n",
    "plt.imshow(word_cloud, interpolation='bilinear')\n",
    "plt.axis(\"off\")\n",
    "plt.show()"
   ]
  },
  {
   "cell_type": "markdown",
   "id": "8eb90023-ee36-4e72-a61c-dc25bf472b7f",
   "metadata": {},
   "source": [
    "Putting my domain knowledge into practice, this word cloud is accurate. Characters like Aragon, Arwen and Elrond are very important in LOTR storyline."
   ]
  },
  {
   "cell_type": "code",
   "execution_count": 32,
   "id": "62d27360-d686-443d-8a22-d4049c3b4b3b",
   "metadata": {},
   "outputs": [
    {
     "data": {
      "image/png": "[encoded data removed]",
      "text/plain": [
       "<Figure size 864x432 with 1 Axes>"
      ]
     },
     "metadata": {
      "needs_background": "light"
     },
     "output_type": "display_data"
    }
   ],
   "source": [
    "fig = plt.figure(1, figsize=(12, 6))\n",
    "plt.axis('off')\n",
    "\n",
    "fig.suptitle(\"Hobbits\", fontsize=20)\n",
    "\n",
    "word_cloud = WordCloud(\n",
    "    background_color = \"white\",\n",
    "    max_words=100,\n",
    "    max_font_size=40,\n",
    "    colormap=\"Set2\"\n",
    ").generate(str(hobb_df[\"alltext\"].values))\n",
    "\n",
    "plt.imshow(word_cloud, interpolation='bilinear')\n",
    "plt.axis(\"off\")\n",
    "plt.show()"
   ]
  },
  {
   "cell_type": "markdown",
   "id": "6562d2e3-9db5-4b8c-8cbe-456e93867bf0",
   "metadata": {},
   "source": [
    "On the contrast, the word cloud for Hobbit is not insightful on which word is useful."
   ]
  },
  {
   "cell_type": "markdown",
   "id": "bf1d8e3d-7395-401b-af6b-45d34b440ee8",
   "metadata": {},
   "source": [
    "### Combining both datasets "
   ]
  },
  {
   "cell_type": "code",
   "execution_count": 33,
   "id": "f6765416-cda8-41e4-9f5a-e2735d103358",
   "metadata": {},
   "outputs": [],
   "source": [
    "tolkien = pd.concat([lotr_df, hobb_df], axis = 0)"
   ]
  },
  {
   "cell_type": "code",
   "execution_count": 34,
   "id": "9120d8b1-4a07-4e99-85d4-1ef820202ff8",
   "metadata": {},
   "outputs": [
    {
     "data": {
      "text/html": [
       "<div>\n",
       "<style scoped>\n",
       "    .dataframe tbody tr th:only-of-type {\n",
       "        vertical-align: middle;\n",
       "    }\n",
       "\n",
       "    .dataframe tbody tr th {\n",
       "        vertical-align: top;\n",
       "    }\n",
       "\n",
       "    .dataframe thead th {\n",
       "        text-align: right;\n",
       "    }\n",
       "</style>\n",
       "<table border=\"1\" class=\"dataframe\">\n",
       "  <thead>\n",
       "    <tr style=\"text-align: right;\">\n",
       "      <th></th>\n",
       "      <th>subreddit</th>\n",
       "      <th>alltext</th>\n",
       "      <th>topic</th>\n",
       "    </tr>\n",
       "  </thead>\n",
       "  <tbody>\n",
       "    <tr>\n",
       "      <th>0</th>\n",
       "      <td>lordoftherings</td>\n",
       "      <td>sub act every comment section rop</td>\n",
       "      <td>LOTR</td>\n",
       "    </tr>\n",
       "    <tr>\n",
       "      <th>1</th>\n",
       "      <td>lordoftherings</td>\n",
       "      <td>forgiving eru making maia fell grace due jealo...</td>\n",
       "      <td>LOTR</td>\n",
       "    </tr>\n",
       "    <tr>\n",
       "      <th>2</th>\n",
       "      <td>lordoftherings</td>\n",
       "      <td>music change everything</td>\n",
       "      <td>LOTR</td>\n",
       "    </tr>\n",
       "    <tr>\n",
       "      <th>3</th>\n",
       "      <td>lordoftherings</td>\n",
       "      <td>everything rop showrunners said interview far ...</td>\n",
       "      <td>LOTR</td>\n",
       "    </tr>\n",
       "    <tr>\n",
       "      <th>4</th>\n",
       "      <td>lordoftherings</td>\n",
       "      <td>fight well choreographed despite short simple ...</td>\n",
       "      <td>LOTR</td>\n",
       "    </tr>\n",
       "    <tr>\n",
       "      <th>...</th>\n",
       "      <td>...</td>\n",
       "      <td>...</td>\n",
       "      <td>...</td>\n",
       "    </tr>\n",
       "    <tr>\n",
       "      <th>3365</th>\n",
       "      <td>TheHobbit</td>\n",
       "      <td>gollum read harry potter sorcerer stone chapte...</td>\n",
       "      <td>HOBB</td>\n",
       "    </tr>\n",
       "    <tr>\n",
       "      <th>3366</th>\n",
       "      <td>TheHobbit</td>\n",
       "      <td>dagor dagorath j r r tolkien short film reacti...</td>\n",
       "      <td>HOBB</td>\n",
       "    </tr>\n",
       "    <tr>\n",
       "      <th>3367</th>\n",
       "      <td>TheHobbit</td>\n",
       "      <td>omg look soo nice</td>\n",
       "      <td>HOBB</td>\n",
       "    </tr>\n",
       "    <tr>\n",
       "      <th>3368</th>\n",
       "      <td>TheHobbit</td>\n",
       "      <td>found perfect shirt</td>\n",
       "      <td>HOBB</td>\n",
       "    </tr>\n",
       "    <tr>\n",
       "      <th>3369</th>\n",
       "      <td>TheHobbit</td>\n",
       "      <td>place would like listen hobbit lotr place woul...</td>\n",
       "      <td>HOBB</td>\n",
       "    </tr>\n",
       "  </tbody>\n",
       "</table>\n",
       "<p>3370 rows × 3 columns</p>\n",
       "</div>"
      ],
      "text/plain": [
       "           subreddit                                            alltext topic\n",
       "0     lordoftherings                  sub act every comment section rop  LOTR\n",
       "1     lordoftherings  forgiving eru making maia fell grace due jealo...  LOTR\n",
       "2     lordoftherings                            music change everything  LOTR\n",
       "3     lordoftherings  everything rop showrunners said interview far ...  LOTR\n",
       "4     lordoftherings  fight well choreographed despite short simple ...  LOTR\n",
       "...              ...                                                ...   ...\n",
       "3365       TheHobbit  gollum read harry potter sorcerer stone chapte...  HOBB\n",
       "3366       TheHobbit  dagor dagorath j r r tolkien short film reacti...  HOBB\n",
       "3367       TheHobbit                                  omg look soo nice  HOBB\n",
       "3368       TheHobbit                                found perfect shirt  HOBB\n",
       "3369       TheHobbit  place would like listen hobbit lotr place woul...  HOBB\n",
       "\n",
       "[3370 rows x 3 columns]"
      ]
     },
     "execution_count": 34,
     "metadata": {},
     "output_type": "execute_result"
    }
   ],
   "source": [
    "tolkien.reset_index(drop=True)"
   ]
  },
  {
   "cell_type": "code",
   "execution_count": 35,
   "id": "3df97ff2-c9e1-4460-abec-984cf7eea8b9",
   "metadata": {},
   "outputs": [
    {
     "data": {
      "text/plain": [
       "(3370, 3)"
      ]
     },
     "execution_count": 35,
     "metadata": {},
     "output_type": "execute_result"
    }
   ],
   "source": [
    "tolkien.shape"
   ]
  },
  {
   "cell_type": "markdown",
   "id": "2a893c53-4517-44f3-8f44-b65a1c5b1af6",
   "metadata": {},
   "source": [
    "<br>\n",
    "Map LOTR to 0 and Hobbit to 1"
   ]
  },
  {
   "cell_type": "code",
   "execution_count": 36,
   "id": "09efd30f-f818-40d9-997a-24412794f493",
   "metadata": {},
   "outputs": [],
   "source": [
    "tolkien[\"topic\"] = tolkien[\"topic\"].map({\"LOTR\":0,\n",
    "                                         \"HOBB\":1})"
   ]
  },
  {
   "cell_type": "code",
   "execution_count": 37,
   "id": "ba13f35e-98be-4fc6-b3f3-a7a76049fd5a",
   "metadata": {},
   "outputs": [
    {
     "data": {
      "text/plain": [
       "(3370, 3)"
      ]
     },
     "execution_count": 37,
     "metadata": {},
     "output_type": "execute_result"
    }
   ],
   "source": [
    "tolkien.shape"
   ]
  },
  {
   "cell_type": "markdown",
   "id": "37c44a46-ad42-4511-810b-63c4039772ce",
   "metadata": {},
   "source": [
    "## Preprocessing and Modeling\n",
    "---"
   ]
  },
  {
   "cell_type": "code",
   "execution_count": 38,
   "id": "f8c9bccf-0342-41bb-ae5e-773b9ddcd47c",
   "metadata": {},
   "outputs": [],
   "source": [
    "X = tolkien[\"alltext\"]\n",
    "y = tolkien[\"topic\"]"
   ]
  },
  {
   "cell_type": "code",
   "execution_count": 39,
   "id": "769ace83-253d-410d-8357-d6a1c0f386bf",
   "metadata": {},
   "outputs": [],
   "source": [
    "X_train, X_test, y_train, y_test = train_test_split(X,\n",
    "                                                    y,\n",
    "                                                    test_size=0.2,\n",
    "                                                    stratify=y,\n",
    "                                                    random_state=42)"
   ]
  },
  {
   "cell_type": "code",
   "execution_count": 40,
   "id": "7f2d2726-2fff-4df8-b54d-a62b1280ad54",
   "metadata": {},
   "outputs": [
    {
     "data": {
      "text/plain": [
       "(2696,)"
      ]
     },
     "execution_count": 40,
     "metadata": {},
     "output_type": "execute_result"
    }
   ],
   "source": [
    "X_train.shape"
   ]
  },
  {
   "cell_type": "code",
   "execution_count": 41,
   "id": "4d6fe1e9-9ed4-4744-a208-13deef9362ce",
   "metadata": {},
   "outputs": [
    {
     "data": {
      "text/plain": [
       "(2696,)"
      ]
     },
     "execution_count": 41,
     "metadata": {},
     "output_type": "execute_result"
    }
   ],
   "source": [
    "y_train.shape"
   ]
  },
  {
   "cell_type": "code",
   "execution_count": 42,
   "id": "9e35cdcb-6b7b-4644-9fc2-4f53427513a9",
   "metadata": {},
   "outputs": [
    {
     "data": {
      "text/plain": [
       "(674,)"
      ]
     },
     "execution_count": 42,
     "metadata": {},
     "output_type": "execute_result"
    }
   ],
   "source": [
    "y_test.shape"
   ]
  },
  {
   "cell_type": "markdown",
   "id": "8de11fbf-3e8a-4711-9d8e-e28ff527d977",
   "metadata": {},
   "source": [
    "### Baseline model"
   ]
  },
  {
   "cell_type": "code",
   "execution_count": 43,
   "id": "57a2f717-25a0-4a38-8b34-84161ec55365",
   "metadata": {},
   "outputs": [
    {
     "data": {
      "text/plain": [
       "0    0.508605\n",
       "1    0.491395\n",
       "Name: topic, dtype: float64"
      ]
     },
     "execution_count": 43,
     "metadata": {},
     "output_type": "execute_result"
    }
   ],
   "source": [
    "tolkien[\"topic\"].value_counts(normalize = True)"
   ]
  },
  {
   "cell_type": "code",
   "execution_count": 44,
   "id": "3782162c-6592-4e0f-8145-7805d526fb9e",
   "metadata": {},
   "outputs": [],
   "source": [
    "preds = [0]*len(y_test)"
   ]
  },
  {
   "cell_type": "code",
   "execution_count": 45,
   "id": "53539aaf-fc0a-4c8e-9c91-d971a23e3907",
   "metadata": {},
   "outputs": [
    {
     "name": "stdout",
     "output_type": "stream",
     "text": [
      " \n",
      "Model metrics\n"
     ]
    },
    {
     "data": {
      "text/html": [
       "<div>\n",
       "<style scoped>\n",
       "    .dataframe tbody tr th:only-of-type {\n",
       "        vertical-align: middle;\n",
       "    }\n",
       "\n",
       "    .dataframe tbody tr th {\n",
       "        vertical-align: top;\n",
       "    }\n",
       "\n",
       "    .dataframe thead th {\n",
       "        text-align: right;\n",
       "    }\n",
       "</style>\n",
       "<table border=\"1\" class=\"dataframe\">\n",
       "  <thead>\n",
       "    <tr style=\"text-align: right;\">\n",
       "      <th></th>\n",
       "      <th>Calculation</th>\n",
       "    </tr>\n",
       "  </thead>\n",
       "  <tbody>\n",
       "    <tr>\n",
       "      <th>Specificity</th>\n",
       "      <td>1.000000</td>\n",
       "    </tr>\n",
       "    <tr>\n",
       "      <th>Accuracy</th>\n",
       "      <td>0.508902</td>\n",
       "    </tr>\n",
       "  </tbody>\n",
       "</table>\n",
       "</div>"
      ],
      "text/plain": [
       "             Calculation\n",
       "Specificity     1.000000\n",
       "Accuracy        0.508902"
      ]
     },
     "metadata": {},
     "output_type": "display_data"
    },
    {
     "data": {
      "image/png": "[encoded data removed]",
      "text/plain": [
       "<Figure size 432x288 with 2 Axes>"
      ]
     },
     "metadata": {
      "needs_background": "light"
     },
     "output_type": "display_data"
    }
   ],
   "source": [
    "cm = confusion_matrix(y_test, preds)\n",
    "tn, fp, fn, tp = confusion_matrix(y_test, preds).ravel()\n",
    "\n",
    "models = [\"Specificity\", \"Accuracy\"]\n",
    "\n",
    "data_1 = [(tn / (tn+fp)),\n",
    "          accuracy_score(y_test, preds)\n",
    "         ]\n",
    "\n",
    "cm_comparison = pd.DataFrame(data=data_1, \n",
    "                             index=models,\n",
    "                             columns = [\"Calculation\"])\n",
    "print(\" \")\n",
    "print(\"Model metrics\")\n",
    "display(cm_comparison)   \n",
    "\n",
    "disp = ConfusionMatrixDisplay(cm)\n",
    "disp.plot(cmap='Blues');"
   ]
  },
  {
   "cell_type": "markdown",
   "id": "86e8f155-4520-4293-818e-958aeb1f0c3c",
   "metadata": {},
   "source": [
    "The baseline model will classify post to LOTR accurately at 50.9%. Since most of the count belongs to LOTR."
   ]
  },
  {
   "cell_type": "markdown",
   "id": "3056b379-ea60-4388-bb9e-a3aef5e4b88f",
   "metadata": {},
   "source": [
    "### Function Creation for modelling"
   ]
  },
  {
   "cell_type": "markdown",
   "id": "46d87dd1-97a5-4710-b2c8-51142ad4542c",
   "metadata": {},
   "source": [
    "Creating a function for Vectorizer, Modelling, Pipeline and GridSearchCV"
   ]
  },
  {
   "cell_type": "code",
   "execution_count": 46,
   "id": "4f7a5022-118c-40f3-ac10-67eaa498e31b",
   "metadata": {
    "tags": []
   },
   "outputs": [],
   "source": [
    "def vector_model(vector, vactorizer, model_name, model, pipe_params):\n",
    "    \n",
    "    # Define the pipeline first\n",
    "    pipe = Pipeline([\n",
    "        (vector, vactorizer),\n",
    "        (model_name, model)\n",
    "    ])\n",
    "    \n",
    "    \n",
    "    # Define grid search\n",
    "    gs = GridSearchCV(pipe,\n",
    "                  param_grid = pipe_params,\n",
    "                  cv = 5)\n",
    "    \n",
    "    \n",
    "    # Do fitting\n",
    "    gs.fit(X_train, y_train)\n",
    "    \n",
    "    \n",
    "    # Display gridsearch result\n",
    "    print(f\"{model} Best Score: {gs.best_score_}\")\n",
    "    print(f\"{model} Train Score: {gs.score(X_train, y_train)}\")\n",
    "    print(f\"{model} Test Score: {gs.score(X_test, y_test)}\")\n",
    "    print(\" \")\n",
    "    print(f\"{model} Best estimators: {gs.best_params_}\")\n",
    "    print(\" \")\n",
    "    print(\" \")\n",
    "    \n",
    "    # The coef display\n",
    "    if model_name == 'nb': \n",
    "        print(\"Useful words to differentiate the topics\")\n",
    "        coef1 = gs.best_estimator_[0].get_feature_names_out()\n",
    "        log_prob_diff = gs.best_estimator_.steps[1][1].feature_log_prob_[1] - gs.best_estimator_.steps[1][1].feature_log_prob_[0]\n",
    "        df_coef = pd.DataFrame(log_prob_diff, index=coef1)\n",
    "        df_coef.columns = [\"coef\"]\n",
    "        display(df_coef.sort_values(by = ['coef'], ascending = False).head(20))\n",
    "    \n",
    "    elif model_name == 'lr':\n",
    "        print(\"Useful words for Hobbit\")\n",
    "        coef1 = gs.best_estimator_[0].get_feature_names_out()\n",
    "        coef_val = gs.best_estimator_.named_steps.lr.coef_\n",
    "        coef_val = np.exp(coef_val).T\n",
    "        df_coef = pd.DataFrame(coef_val, index=coef1)\n",
    "        df_coef.columns = [\"coef\"]\n",
    "        display(df_coef.sort_values(by = ['coef'], ascending = False).head(20))\n",
    "        print(\"Useful words for LOTR\")\n",
    "        display(df_coef.sort_values(by = ['coef'], ascending = True).head(20))\n",
    "        \n",
    "    elif model_name == 'rf':\n",
    "        print(\"Useful words to differentiate the topics\")\n",
    "        coef1 = gs.best_estimator_[0].get_feature_names_out()\n",
    "        coef_val = gs.best_estimator_.named_steps.rf.feature_importances_\n",
    "        df_coef = pd.DataFrame(coef_val, index=coef1)\n",
    "        df_coef.columns = [\"coef\"]\n",
    "        display(df_coef.sort_values(by = ['coef'], ascending = False).head(20))\n",
    "        \n",
    "    else:\n",
    "        pass\n",
    "        \n",
    "    # The confusion matrix\n",
    "    preds = gs.predict(X_test)\n",
    "\n",
    "    cm = confusion_matrix(y_test, preds)\n",
    "    tn, fp, fn, tp = confusion_matrix(y_test, preds).ravel()\n",
    "   \n",
    "    models = [\"Specificity\", \"Accuracy\", \"Sensitivity / Recall\", \"Precision\", \"F1 Score\"]\n",
    "    \n",
    "    data_1 = [(tn / (tn+fp)),\n",
    "              accuracy_score(y_test, preds),\n",
    "              recall_score(y_test, preds),\n",
    "              precision_score(y_test, preds),\n",
    "              f1_score(y_test, preds)\n",
    "             ]\n",
    "\n",
    "    cm_comparison = pd.DataFrame(data=data_1, \n",
    "                                 index=models,\n",
    "                                 columns = [\"Calculation\"])\n",
    "    print(\" \")\n",
    "    print(\"Model metrics\")\n",
    "    display(cm_comparison)   \n",
    "    \n",
    "    disp = ConfusionMatrixDisplay(cm)\n",
    "    disp.plot(cmap='Blues')\n",
    "    "
   ]
  },
  {
   "cell_type": "markdown",
   "id": "6ada5ccf-9de3-4bd0-a0c5-d950a2f196c3",
   "metadata": {},
   "source": [
    "<br>\n",
    "Now the function is done, shall proceed with modelling using Count Vectorizer and TFID Vectorizer. "
   ]
  },
  {
   "cell_type": "markdown",
   "id": "022b34ef-ba1c-4b46-acd8-a856abee05e9",
   "metadata": {},
   "source": [
    "### Count Vectorizer"
   ]
  },
  {
   "cell_type": "markdown",
   "id": "8949b3ee-3f5a-4897-880b-04a3286693e1",
   "metadata": {
    "tags": []
   },
   "source": [
    "#### Naive Bayes model"
   ]
  },
  {
   "cell_type": "code",
   "execution_count": 47,
   "id": "d150217c-92cf-483b-88ab-57ba2d58c949",
   "metadata": {},
   "outputs": [],
   "source": [
    "pipe_params_cv_nb = {\n",
    "    'cvec__min_df': [2], # [2, 3],\n",
    "    'cvec__max_df': [0.75], # [0.75, 0.9, 0.95],\n",
    "    'cvec__max_features': [3000], # [2000, 3000, 4000, 5000],\n",
    "    'cvec__ngram_range': [(1, 2)] # [(1, 1), (1, 2), (1, 3), (1, 4)]\n",
    "}\n",
    "\n",
    "# More hyper parameters were tried for Naive Bayes model to get a better score and \n",
    "# max features added more selection to reduce overfitting"
   ]
  },
  {
   "cell_type": "code",
   "execution_count": 48,
   "id": "7810bd51-1220-4e5d-8241-cdbddc5d9690",
   "metadata": {},
   "outputs": [
    {
     "name": "stdout",
     "output_type": "stream",
     "text": [
      "MultinomialNB() Best Score: 0.7014107056964201\n",
      "MultinomialNB() Train Score: 0.798219584569733\n",
      "MultinomialNB() Test Score: 0.7032640949554896\n",
      " \n",
      "MultinomialNB() Best estimators: {'cvec__max_df': 0.75, 'cvec__max_features': 3000, 'cvec__min_df': 2, 'cvec__ngram_range': (1, 2)}\n",
      " \n",
      " \n",
      "Useful words to differentiate the topics\n"
     ]
    },
    {
     "data": {
      "text/html": [
       "<div>\n",
       "<style scoped>\n",
       "    .dataframe tbody tr th:only-of-type {\n",
       "        vertical-align: middle;\n",
       "    }\n",
       "\n",
       "    .dataframe tbody tr th {\n",
       "        vertical-align: top;\n",
       "    }\n",
       "\n",
       "    .dataframe thead th {\n",
       "        text-align: right;\n",
       "    }\n",
       "</style>\n",
       "<table border=\"1\" class=\"dataframe\">\n",
       "  <thead>\n",
       "    <tr style=\"text-align: right;\">\n",
       "      <th></th>\n",
       "      <th>coef</th>\n",
       "    </tr>\n",
       "  </thead>\n",
       "  <tbody>\n",
       "    <tr>\n",
       "      <th>edit</th>\n",
       "      <td>3.177472</td>\n",
       "    </tr>\n",
       "    <tr>\n",
       "      <th>mirkwood</th>\n",
       "      <td>3.017129</td>\n",
       "    </tr>\n",
       "    <tr>\n",
       "      <th>spider</th>\n",
       "      <td>3.017129</td>\n",
       "    </tr>\n",
       "    <tr>\n",
       "      <th>bard</th>\n",
       "      <td>2.926157</td>\n",
       "    </tr>\n",
       "    <tr>\n",
       "      <th>smaug</th>\n",
       "      <td>2.860560</td>\n",
       "    </tr>\n",
       "    <tr>\n",
       "      <th>thorin</th>\n",
       "      <td>2.860560</td>\n",
       "    </tr>\n",
       "    <tr>\n",
       "      <th>blu ray</th>\n",
       "      <td>2.826074</td>\n",
       "    </tr>\n",
       "    <tr>\n",
       "      <th>bombur</th>\n",
       "      <td>2.826074</td>\n",
       "    </tr>\n",
       "    <tr>\n",
       "      <th>blu</th>\n",
       "      <td>2.826074</td>\n",
       "    </tr>\n",
       "    <tr>\n",
       "      <th>desolation</th>\n",
       "      <td>2.743836</td>\n",
       "    </tr>\n",
       "    <tr>\n",
       "      <th>bolg</th>\n",
       "      <td>2.714848</td>\n",
       "    </tr>\n",
       "    <tr>\n",
       "      <th>desolation smaug</th>\n",
       "      <td>2.684995</td>\n",
       "    </tr>\n",
       "    <tr>\n",
       "      <th>five army</th>\n",
       "      <td>2.654223</td>\n",
       "    </tr>\n",
       "    <tr>\n",
       "      <th>battle five</th>\n",
       "      <td>2.654223</td>\n",
       "    </tr>\n",
       "    <tr>\n",
       "      <th>bofur</th>\n",
       "      <td>2.654223</td>\n",
       "    </tr>\n",
       "    <tr>\n",
       "      <th>arkenstone</th>\n",
       "      <td>2.654223</td>\n",
       "    </tr>\n",
       "    <tr>\n",
       "      <th>fan edit</th>\n",
       "      <td>2.589685</td>\n",
       "    </tr>\n",
       "    <tr>\n",
       "      <th>kili</th>\n",
       "      <td>2.520692</td>\n",
       "    </tr>\n",
       "    <tr>\n",
       "      <th>beorn</th>\n",
       "      <td>2.484324</td>\n",
       "    </tr>\n",
       "    <tr>\n",
       "      <th>edits</th>\n",
       "      <td>2.446584</td>\n",
       "    </tr>\n",
       "  </tbody>\n",
       "</table>\n",
       "</div>"
      ],
      "text/plain": [
       "                      coef\n",
       "edit              3.177472\n",
       "mirkwood          3.017129\n",
       "spider            3.017129\n",
       "bard              2.926157\n",
       "smaug             2.860560\n",
       "thorin            2.860560\n",
       "blu ray           2.826074\n",
       "bombur            2.826074\n",
       "blu               2.826074\n",
       "desolation        2.743836\n",
       "bolg              2.714848\n",
       "desolation smaug  2.684995\n",
       "five army         2.654223\n",
       "battle five       2.654223\n",
       "bofur             2.654223\n",
       "arkenstone        2.654223\n",
       "fan edit          2.589685\n",
       "kili              2.520692\n",
       "beorn             2.484324\n",
       "edits             2.446584"
      ]
     },
     "metadata": {},
     "output_type": "display_data"
    },
    {
     "name": "stdout",
     "output_type": "stream",
     "text": [
      " \n",
      "Model metrics\n"
     ]
    },
    {
     "data": {
      "text/html": [
       "<div>\n",
       "<style scoped>\n",
       "    .dataframe tbody tr th:only-of-type {\n",
       "        vertical-align: middle;\n",
       "    }\n",
       "\n",
       "    .dataframe tbody tr th {\n",
       "        vertical-align: top;\n",
       "    }\n",
       "\n",
       "    .dataframe thead th {\n",
       "        text-align: right;\n",
       "    }\n",
       "</style>\n",
       "<table border=\"1\" class=\"dataframe\">\n",
       "  <thead>\n",
       "    <tr style=\"text-align: right;\">\n",
       "      <th></th>\n",
       "      <th>Calculation</th>\n",
       "    </tr>\n",
       "  </thead>\n",
       "  <tbody>\n",
       "    <tr>\n",
       "      <th>Specificity</th>\n",
       "      <td>0.758017</td>\n",
       "    </tr>\n",
       "    <tr>\n",
       "      <th>Accuracy</th>\n",
       "      <td>0.703264</td>\n",
       "    </tr>\n",
       "    <tr>\n",
       "      <th>Sensitivity / Recall</th>\n",
       "      <td>0.646526</td>\n",
       "    </tr>\n",
       "    <tr>\n",
       "      <th>Precision</th>\n",
       "      <td>0.720539</td>\n",
       "    </tr>\n",
       "    <tr>\n",
       "      <th>F1 Score</th>\n",
       "      <td>0.681529</td>\n",
       "    </tr>\n",
       "  </tbody>\n",
       "</table>\n",
       "</div>"
      ],
      "text/plain": [
       "                      Calculation\n",
       "Specificity              0.758017\n",
       "Accuracy                 0.703264\n",
       "Sensitivity / Recall     0.646526\n",
       "Precision                0.720539\n",
       "F1 Score                 0.681529"
      ]
     },
     "metadata": {},
     "output_type": "display_data"
    },
    {
     "data": {
      "image/png": "[encoded data removed]",
      "text/plain": [
       "<Figure size 432x288 with 2 Axes>"
      ]
     },
     "metadata": {
      "needs_background": "light"
     },
     "output_type": "display_data"
    }
   ],
   "source": [
    "vector_model('cvec', CountVectorizer(stop_words = stopwords_enhanced), 'nb', MultinomialNB(), pipe_params_cv_nb)"
   ]
  },
  {
   "cell_type": "markdown",
   "id": "771848df-f4ac-4a82-ba63-9fe3365695c0",
   "metadata": {},
   "source": [
    "Using Count Vectorizer with Naive Bayes model, the top 5 useful words in classifying the posts are edit, mirkwood, spider, bard and smaug.\n",
    "<br>\n",
    "\n",
    "Putting domain knowledge into use, edit might seems wrong to most. But it is referring to the 2 LOTR versions that were released. One is the cinema edit and another one is the uncut version. Fans who are into LOTR enough to have discussion on online forums would highly likely seen both versions. Thus, edit is a word  to determine if the post belongs to LOTR. Likewise for mirkwood and spider. The other 2 (bard and smaug) are for classifying post to the hobbits.  "
   ]
  },
  {
   "cell_type": "markdown",
   "id": "38116cda-e431-4698-accf-71f65c8d56c7",
   "metadata": {
    "tags": []
   },
   "source": [
    "#### KNN model"
   ]
  },
  {
   "cell_type": "code",
   "execution_count": 49,
   "id": "7cc34c22-3b51-49df-a024-410233b80729",
   "metadata": {},
   "outputs": [],
   "source": [
    "pipe_params_knn = {\n",
    "    'cvec__min_df': [2], # [2, 3],\n",
    "    'cvec__max_df': [0.9], # [0.9, 0.95],\n",
    "    'cvec__max_features': [2000], # [2000, 3000, 4000, 5000],\n",
    "    'cvec__ngram_range': [(1, 4)], # [(1, 1), (1, 2), (1, 3), (1,4)],\n",
    "    'knn__n_neighbors': [5] # [5,11] \n",
    "}"
   ]
  },
  {
   "cell_type": "code",
   "execution_count": 50,
   "id": "7b812890-4b6f-46bc-abb7-d786c616e005",
   "metadata": {
    "tags": []
   },
   "outputs": [
    {
     "name": "stdout",
     "output_type": "stream",
     "text": [
      "KNeighborsClassifier() Best Score: 0.6702535559678416\n",
      "KNeighborsClassifier() Train Score: 0.7800445103857567\n",
      "KNeighborsClassifier() Test Score: 0.6528189910979229\n",
      " \n",
      "KNeighborsClassifier() Best estimators: {'cvec__max_df': 0.9, 'cvec__max_features': 2000, 'cvec__min_df': 2, 'cvec__ngram_range': (1, 4), 'knn__n_neighbors': 5}\n",
      " \n",
      " \n",
      " \n",
      "Model metrics\n"
     ]
    },
    {
     "data": {
      "text/html": [
       "<div>\n",
       "<style scoped>\n",
       "    .dataframe tbody tr th:only-of-type {\n",
       "        vertical-align: middle;\n",
       "    }\n",
       "\n",
       "    .dataframe tbody tr th {\n",
       "        vertical-align: top;\n",
       "    }\n",
       "\n",
       "    .dataframe thead th {\n",
       "        text-align: right;\n",
       "    }\n",
       "</style>\n",
       "<table border=\"1\" class=\"dataframe\">\n",
       "  <thead>\n",
       "    <tr style=\"text-align: right;\">\n",
       "      <th></th>\n",
       "      <th>Calculation</th>\n",
       "    </tr>\n",
       "  </thead>\n",
       "  <tbody>\n",
       "    <tr>\n",
       "      <th>Specificity</th>\n",
       "      <td>0.682216</td>\n",
       "    </tr>\n",
       "    <tr>\n",
       "      <th>Accuracy</th>\n",
       "      <td>0.652819</td>\n",
       "    </tr>\n",
       "    <tr>\n",
       "      <th>Sensitivity / Recall</th>\n",
       "      <td>0.622356</td>\n",
       "    </tr>\n",
       "    <tr>\n",
       "      <th>Precision</th>\n",
       "      <td>0.653968</td>\n",
       "    </tr>\n",
       "    <tr>\n",
       "      <th>F1 Score</th>\n",
       "      <td>0.637771</td>\n",
       "    </tr>\n",
       "  </tbody>\n",
       "</table>\n",
       "</div>"
      ],
      "text/plain": [
       "                      Calculation\n",
       "Specificity              0.682216\n",
       "Accuracy                 0.652819\n",
       "Sensitivity / Recall     0.622356\n",
       "Precision                0.653968\n",
       "F1 Score                 0.637771"
      ]
     },
     "metadata": {},
     "output_type": "display_data"
    },
    {
     "data": {
      "image/png": "[encoded data removed]",
      "text/plain": [
       "<Figure size 432x288 with 2 Axes>"
      ]
     },
     "metadata": {
      "needs_background": "light"
     },
     "output_type": "display_data"
    }
   ],
   "source": [
    "vector_model('cvec', CountVectorizer(stop_words = stopwords_enhanced), 'knn', KNeighborsClassifier(), pipe_params_knn)"
   ]
  },
  {
   "cell_type": "markdown",
   "id": "1c706362-afe2-4a67-9722-71c806d6c45b",
   "metadata": {},
   "source": [
    "KNN model performs badly here with only 0.653 as the accuracy score."
   ]
  },
  {
   "cell_type": "markdown",
   "id": "65893ec2-b257-4578-86b9-833508cc9b41",
   "metadata": {},
   "source": [
    "#### Logistic Regression model"
   ]
  },
  {
   "cell_type": "code",
   "execution_count": 51,
   "id": "01f65a5b-f04a-41eb-9ac6-644417771ef1",
   "metadata": {},
   "outputs": [],
   "source": [
    "pipe_params_cv_lr = {\n",
    "    'cvec__min_df': [2], # [2, 3],\n",
    "    'cvec__max_df': [0.75], # [0.75, 0.9, 0.95], \n",
    "    'cvec__max_features': [5000], # [1000, 2000, 3000, 4000, 5000, 6000], \n",
    "    'cvec__ngram_range': [(1, 3)] # [(1, 2), (1, 3), (1, 4)] \n",
    "}\n",
    "\n",
    "# More hyper parameters were tried for Logistic Regression model to get a better score and \n",
    "# max features added more selection to reduce overfitting"
   ]
  },
  {
   "cell_type": "code",
   "execution_count": 52,
   "id": "52639273-f50a-4483-ab2b-80961a2a74ee",
   "metadata": {},
   "outputs": [
    {
     "name": "stdout",
     "output_type": "stream",
     "text": [
      "LogisticRegression() Best Score: 0.7091905449048306\n",
      "LogisticRegression() Train Score: 0.9043026706231454\n",
      "LogisticRegression() Test Score: 0.7047477744807121\n",
      " \n",
      "LogisticRegression() Best estimators: {'cvec__max_df': 0.75, 'cvec__max_features': 5000, 'cvec__min_df': 2, 'cvec__ngram_range': (1, 3)}\n",
      " \n",
      " \n",
      "Useful words for Hobbit\n"
     ]
    },
    {
     "data": {
      "text/html": [
       "<div>\n",
       "<style scoped>\n",
       "    .dataframe tbody tr th:only-of-type {\n",
       "        vertical-align: middle;\n",
       "    }\n",
       "\n",
       "    .dataframe tbody tr th {\n",
       "        vertical-align: top;\n",
       "    }\n",
       "\n",
       "    .dataframe thead th {\n",
       "        text-align: right;\n",
       "    }\n",
       "</style>\n",
       "<table border=\"1\" class=\"dataframe\">\n",
       "  <thead>\n",
       "    <tr style=\"text-align: right;\">\n",
       "      <th></th>\n",
       "      <th>coef</th>\n",
       "    </tr>\n",
       "  </thead>\n",
       "  <tbody>\n",
       "    <tr>\n",
       "      <th>gollum</th>\n",
       "      <td>6.044914</td>\n",
       "    </tr>\n",
       "    <tr>\n",
       "      <th>hobbit</th>\n",
       "      <td>5.791026</td>\n",
       "    </tr>\n",
       "    <tr>\n",
       "      <th>bilbo</th>\n",
       "      <td>5.331120</td>\n",
       "    </tr>\n",
       "    <tr>\n",
       "      <th>smaug</th>\n",
       "      <td>5.310813</td>\n",
       "    </tr>\n",
       "    <tr>\n",
       "      <th>ring tattoo</th>\n",
       "      <td>3.554948</td>\n",
       "    </tr>\n",
       "    <tr>\n",
       "      <th>middle earth lore</th>\n",
       "      <td>3.497788</td>\n",
       "    </tr>\n",
       "    <tr>\n",
       "      <th>earth lore</th>\n",
       "      <td>3.497788</td>\n",
       "    </tr>\n",
       "    <tr>\n",
       "      <th>bombur</th>\n",
       "      <td>3.303256</td>\n",
       "    </tr>\n",
       "    <tr>\n",
       "      <th>breakdown</th>\n",
       "      <td>3.052917</td>\n",
       "    </tr>\n",
       "    <tr>\n",
       "      <th>bofur</th>\n",
       "      <td>2.998647</td>\n",
       "    </tr>\n",
       "    <tr>\n",
       "      <th>thorin</th>\n",
       "      <td>2.877102</td>\n",
       "    </tr>\n",
       "    <tr>\n",
       "      <th>ring reading</th>\n",
       "      <td>2.852831</td>\n",
       "    </tr>\n",
       "    <tr>\n",
       "      <th>lord ring reading</th>\n",
       "      <td>2.852831</td>\n",
       "    </tr>\n",
       "    <tr>\n",
       "      <th>breaking</th>\n",
       "      <td>2.754959</td>\n",
       "    </tr>\n",
       "    <tr>\n",
       "      <th>dwarf</th>\n",
       "      <td>2.730490</td>\n",
       "    </tr>\n",
       "    <tr>\n",
       "      <th>azog</th>\n",
       "      <td>2.670092</td>\n",
       "    </tr>\n",
       "    <tr>\n",
       "      <th>tolkien fan</th>\n",
       "      <td>2.595516</td>\n",
       "    </tr>\n",
       "    <tr>\n",
       "      <th>official</th>\n",
       "      <td>2.557054</td>\n",
       "    </tr>\n",
       "    <tr>\n",
       "      <th>weta</th>\n",
       "      <td>2.540076</td>\n",
       "    </tr>\n",
       "    <tr>\n",
       "      <th>teaser</th>\n",
       "      <td>2.539085</td>\n",
       "    </tr>\n",
       "  </tbody>\n",
       "</table>\n",
       "</div>"
      ],
      "text/plain": [
       "                       coef\n",
       "gollum             6.044914\n",
       "hobbit             5.791026\n",
       "bilbo              5.331120\n",
       "smaug              5.310813\n",
       "ring tattoo        3.554948\n",
       "middle earth lore  3.497788\n",
       "earth lore         3.497788\n",
       "bombur             3.303256\n",
       "breakdown          3.052917\n",
       "bofur              2.998647\n",
       "thorin             2.877102\n",
       "ring reading       2.852831\n",
       "lord ring reading  2.852831\n",
       "breaking           2.754959\n",
       "dwarf              2.730490\n",
       "azog               2.670092\n",
       "tolkien fan        2.595516\n",
       "official           2.557054\n",
       "weta               2.540076\n",
       "teaser             2.539085"
      ]
     },
     "metadata": {},
     "output_type": "display_data"
    },
    {
     "name": "stdout",
     "output_type": "stream",
     "text": [
      "Useful words for LOTR\n"
     ]
    },
    {
     "data": {
      "text/html": [
       "<div>\n",
       "<style scoped>\n",
       "    .dataframe tbody tr th:only-of-type {\n",
       "        vertical-align: middle;\n",
       "    }\n",
       "\n",
       "    .dataframe tbody tr th {\n",
       "        vertical-align: top;\n",
       "    }\n",
       "\n",
       "    .dataframe thead th {\n",
       "        text-align: right;\n",
       "    }\n",
       "</style>\n",
       "<table border=\"1\" class=\"dataframe\">\n",
       "  <thead>\n",
       "    <tr style=\"text-align: right;\">\n",
       "      <th></th>\n",
       "      <th>coef</th>\n",
       "    </tr>\n",
       "  </thead>\n",
       "  <tbody>\n",
       "    <tr>\n",
       "      <th>eye</th>\n",
       "      <td>0.294647</td>\n",
       "    </tr>\n",
       "    <tr>\n",
       "      <th>mordor</th>\n",
       "      <td>0.324077</td>\n",
       "    </tr>\n",
       "    <tr>\n",
       "      <th>morgoth</th>\n",
       "      <td>0.325546</td>\n",
       "    </tr>\n",
       "    <tr>\n",
       "      <th>gondolin</th>\n",
       "      <td>0.353028</td>\n",
       "    </tr>\n",
       "    <tr>\n",
       "      <th>isengard</th>\n",
       "      <td>0.361230</td>\n",
       "    </tr>\n",
       "    <tr>\n",
       "      <th>fellowship</th>\n",
       "      <td>0.369753</td>\n",
       "    </tr>\n",
       "    <tr>\n",
       "      <th>frodo</th>\n",
       "      <td>0.377680</td>\n",
       "    </tr>\n",
       "    <tr>\n",
       "      <th>aragorn</th>\n",
       "      <td>0.383482</td>\n",
       "    </tr>\n",
       "    <tr>\n",
       "      <th>dwalin</th>\n",
       "      <td>0.384617</td>\n",
       "    </tr>\n",
       "    <tr>\n",
       "      <th>age</th>\n",
       "      <td>0.387679</td>\n",
       "    </tr>\n",
       "    <tr>\n",
       "      <th>black</th>\n",
       "      <td>0.389143</td>\n",
       "    </tr>\n",
       "    <tr>\n",
       "      <th>rop</th>\n",
       "      <td>0.389767</td>\n",
       "    </tr>\n",
       "    <tr>\n",
       "      <th>hobbit question</th>\n",
       "      <td>0.393981</td>\n",
       "    </tr>\n",
       "    <tr>\n",
       "      <th>silmarillion</th>\n",
       "      <td>0.405324</td>\n",
       "    </tr>\n",
       "    <tr>\n",
       "      <th>barad</th>\n",
       "      <td>0.412185</td>\n",
       "    </tr>\n",
       "    <tr>\n",
       "      <th>boiled</th>\n",
       "      <td>0.413990</td>\n",
       "    </tr>\n",
       "    <tr>\n",
       "      <th>ai</th>\n",
       "      <td>0.416498</td>\n",
       "    </tr>\n",
       "    <tr>\n",
       "      <th>ring</th>\n",
       "      <td>0.420280</td>\n",
       "    </tr>\n",
       "    <tr>\n",
       "      <th>sale</th>\n",
       "      <td>0.421326</td>\n",
       "    </tr>\n",
       "    <tr>\n",
       "      <th>pocket edition</th>\n",
       "      <td>0.424327</td>\n",
       "    </tr>\n",
       "  </tbody>\n",
       "</table>\n",
       "</div>"
      ],
      "text/plain": [
       "                     coef\n",
       "eye              0.294647\n",
       "mordor           0.324077\n",
       "morgoth          0.325546\n",
       "gondolin         0.353028\n",
       "isengard         0.361230\n",
       "fellowship       0.369753\n",
       "frodo            0.377680\n",
       "aragorn          0.383482\n",
       "dwalin           0.384617\n",
       "age              0.387679\n",
       "black            0.389143\n",
       "rop              0.389767\n",
       "hobbit question  0.393981\n",
       "silmarillion     0.405324\n",
       "barad            0.412185\n",
       "boiled           0.413990\n",
       "ai               0.416498\n",
       "ring             0.420280\n",
       "sale             0.421326\n",
       "pocket edition   0.424327"
      ]
     },
     "metadata": {},
     "output_type": "display_data"
    },
    {
     "name": "stdout",
     "output_type": "stream",
     "text": [
      " \n",
      "Model metrics\n"
     ]
    },
    {
     "data": {
      "text/html": [
       "<div>\n",
       "<style scoped>\n",
       "    .dataframe tbody tr th:only-of-type {\n",
       "        vertical-align: middle;\n",
       "    }\n",
       "\n",
       "    .dataframe tbody tr th {\n",
       "        vertical-align: top;\n",
       "    }\n",
       "\n",
       "    .dataframe thead th {\n",
       "        text-align: right;\n",
       "    }\n",
       "</style>\n",
       "<table border=\"1\" class=\"dataframe\">\n",
       "  <thead>\n",
       "    <tr style=\"text-align: right;\">\n",
       "      <th></th>\n",
       "      <th>Calculation</th>\n",
       "    </tr>\n",
       "  </thead>\n",
       "  <tbody>\n",
       "    <tr>\n",
       "      <th>Specificity</th>\n",
       "      <td>0.778426</td>\n",
       "    </tr>\n",
       "    <tr>\n",
       "      <th>Accuracy</th>\n",
       "      <td>0.704748</td>\n",
       "    </tr>\n",
       "    <tr>\n",
       "      <th>Sensitivity / Recall</th>\n",
       "      <td>0.628399</td>\n",
       "    </tr>\n",
       "    <tr>\n",
       "      <th>Precision</th>\n",
       "      <td>0.732394</td>\n",
       "    </tr>\n",
       "    <tr>\n",
       "      <th>F1 Score</th>\n",
       "      <td>0.676423</td>\n",
       "    </tr>\n",
       "  </tbody>\n",
       "</table>\n",
       "</div>"
      ],
      "text/plain": [
       "                      Calculation\n",
       "Specificity              0.778426\n",
       "Accuracy                 0.704748\n",
       "Sensitivity / Recall     0.628399\n",
       "Precision                0.732394\n",
       "F1 Score                 0.676423"
      ]
     },
     "metadata": {},
     "output_type": "display_data"
    },
    {
     "data": {
      "image/png": "[encoded data removed]",
      "text/plain": [
       "<Figure size 432x288 with 2 Axes>"
      ]
     },
     "metadata": {
      "needs_background": "light"
     },
     "output_type": "display_data"
    }
   ],
   "source": [
    "vector_model('cvec', CountVectorizer(stop_words = stopwords_enhanced), 'lr', LogisticRegression(), pipe_params_cv_lr)"
   ]
  },
  {
   "cell_type": "markdown",
   "id": "ea93ee68-2e01-4bb5-a991-4ae42e3cdf78",
   "metadata": {},
   "source": [
    "Using Count Vectorizer with Logistics Regression model, some of useful words in classifying Hobbits are thorin, smaug, bilbo, bombur and dwarf. While, some of useful words in classifying LOTR are aragon, eye, mordor, isengard and morgoth.\n",
    "<br>\n",
    "\n",
    "Putting domain knowledge into use, non-LOTR fans might wonder is eye supposed to be a stop word instead and LOTR fans might wonder who is morgoth. Eye is the main enemy in the movie of LOTR. Morgoth was the dark lord way before the events of LOTR and also the cause of terror in LOTR indirectly."
   ]
  },
  {
   "cell_type": "markdown",
   "id": "0e2bba21-f0db-4cee-9be5-31da37166ac9",
   "metadata": {},
   "source": [
    "#### Random Forest"
   ]
  },
  {
   "cell_type": "code",
   "execution_count": 53,
   "id": "4e1b61ad-eff0-43f7-a047-b63e513a6ee3",
   "metadata": {},
   "outputs": [],
   "source": [
    "rf_params_cv = {\n",
    "    'cvec__min_df': [3], # [2, 3],\n",
    "    'cvec__max_df': [0.9], # [0.9, 0.95],\n",
    "    'cvec__max_features': [5000], # [2000, 3000, 5000],\n",
    "    'cvec__ngram_range': [(1 ,2)], # [(1, 2), (1, 3), (1, 4)],\n",
    "    'rf__n_estimators': [100], # [100, 150, 200],\n",
    "    'rf__max_depth': [15] # [5, 10, 15]\n",
    "}"
   ]
  },
  {
   "cell_type": "code",
   "execution_count": 54,
   "id": "a6fc3527-51e9-43c4-8a7c-0d0bedd23cdd",
   "metadata": {},
   "outputs": [
    {
     "name": "stdout",
     "output_type": "stream",
     "text": [
      "RandomForestClassifier() Best Score: 0.712161753590325\n",
      "RandomForestClassifier() Train Score: 0.7614985163204748\n",
      "RandomForestClassifier() Test Score: 0.6913946587537092\n",
      " \n",
      "RandomForestClassifier() Best estimators: {'cvec__max_df': 0.9, 'cvec__max_features': 5000, 'cvec__min_df': 3, 'cvec__ngram_range': (1, 2), 'rf__max_depth': 15, 'rf__n_estimators': 100}\n",
      " \n",
      " \n",
      "Useful words to differentiate the topics\n"
     ]
    },
    {
     "data": {
      "text/html": [
       "<div>\n",
       "<style scoped>\n",
       "    .dataframe tbody tr th:only-of-type {\n",
       "        vertical-align: middle;\n",
       "    }\n",
       "\n",
       "    .dataframe tbody tr th {\n",
       "        vertical-align: top;\n",
       "    }\n",
       "\n",
       "    .dataframe thead th {\n",
       "        text-align: right;\n",
       "    }\n",
       "</style>\n",
       "<table border=\"1\" class=\"dataframe\">\n",
       "  <thead>\n",
       "    <tr style=\"text-align: right;\">\n",
       "      <th></th>\n",
       "      <th>coef</th>\n",
       "    </tr>\n",
       "  </thead>\n",
       "  <tbody>\n",
       "    <tr>\n",
       "      <th>hobbit</th>\n",
       "      <td>0.126482</td>\n",
       "    </tr>\n",
       "    <tr>\n",
       "      <th>ring</th>\n",
       "      <td>0.041687</td>\n",
       "    </tr>\n",
       "    <tr>\n",
       "      <th>lord ring</th>\n",
       "      <td>0.030980</td>\n",
       "    </tr>\n",
       "    <tr>\n",
       "      <th>smaug</th>\n",
       "      <td>0.027093</td>\n",
       "    </tr>\n",
       "    <tr>\n",
       "      <th>bilbo</th>\n",
       "      <td>0.024217</td>\n",
       "    </tr>\n",
       "    <tr>\n",
       "      <th>lord</th>\n",
       "      <td>0.021314</td>\n",
       "    </tr>\n",
       "    <tr>\n",
       "      <th>thorin</th>\n",
       "      <td>0.016123</td>\n",
       "    </tr>\n",
       "    <tr>\n",
       "      <th>hobbit trilogy</th>\n",
       "      <td>0.013690</td>\n",
       "    </tr>\n",
       "    <tr>\n",
       "      <th>dwarf</th>\n",
       "      <td>0.013116</td>\n",
       "    </tr>\n",
       "    <tr>\n",
       "      <th>gollum</th>\n",
       "      <td>0.013054</td>\n",
       "    </tr>\n",
       "    <tr>\n",
       "      <th>frodo</th>\n",
       "      <td>0.012552</td>\n",
       "    </tr>\n",
       "    <tr>\n",
       "      <th>power</th>\n",
       "      <td>0.012058</td>\n",
       "    </tr>\n",
       "    <tr>\n",
       "      <th>desolation</th>\n",
       "      <td>0.011247</td>\n",
       "    </tr>\n",
       "    <tr>\n",
       "      <th>earth lore</th>\n",
       "      <td>0.010282</td>\n",
       "    </tr>\n",
       "    <tr>\n",
       "      <th>five army</th>\n",
       "      <td>0.009290</td>\n",
       "    </tr>\n",
       "    <tr>\n",
       "      <th>mountain</th>\n",
       "      <td>0.008858</td>\n",
       "    </tr>\n",
       "    <tr>\n",
       "      <th>lotr</th>\n",
       "      <td>0.008239</td>\n",
       "    </tr>\n",
       "    <tr>\n",
       "      <th>desolation smaug</th>\n",
       "      <td>0.008175</td>\n",
       "    </tr>\n",
       "    <tr>\n",
       "      <th>unexpected</th>\n",
       "      <td>0.007752</td>\n",
       "    </tr>\n",
       "    <tr>\n",
       "      <th>trilogy</th>\n",
       "      <td>0.006954</td>\n",
       "    </tr>\n",
       "  </tbody>\n",
       "</table>\n",
       "</div>"
      ],
      "text/plain": [
       "                      coef\n",
       "hobbit            0.126482\n",
       "ring              0.041687\n",
       "lord ring         0.030980\n",
       "smaug             0.027093\n",
       "bilbo             0.024217\n",
       "lord              0.021314\n",
       "thorin            0.016123\n",
       "hobbit trilogy    0.013690\n",
       "dwarf             0.013116\n",
       "gollum            0.013054\n",
       "frodo             0.012552\n",
       "power             0.012058\n",
       "desolation        0.011247\n",
       "earth lore        0.010282\n",
       "five army         0.009290\n",
       "mountain          0.008858\n",
       "lotr              0.008239\n",
       "desolation smaug  0.008175\n",
       "unexpected        0.007752\n",
       "trilogy           0.006954"
      ]
     },
     "metadata": {},
     "output_type": "display_data"
    },
    {
     "name": "stdout",
     "output_type": "stream",
     "text": [
      " \n",
      "Model metrics\n"
     ]
    },
    {
     "data": {
      "text/html": [
       "<div>\n",
       "<style scoped>\n",
       "    .dataframe tbody tr th:only-of-type {\n",
       "        vertical-align: middle;\n",
       "    }\n",
       "\n",
       "    .dataframe tbody tr th {\n",
       "        vertical-align: top;\n",
       "    }\n",
       "\n",
       "    .dataframe thead th {\n",
       "        text-align: right;\n",
       "    }\n",
       "</style>\n",
       "<table border=\"1\" class=\"dataframe\">\n",
       "  <thead>\n",
       "    <tr style=\"text-align: right;\">\n",
       "      <th></th>\n",
       "      <th>Calculation</th>\n",
       "    </tr>\n",
       "  </thead>\n",
       "  <tbody>\n",
       "    <tr>\n",
       "      <th>Specificity</th>\n",
       "      <td>0.862974</td>\n",
       "    </tr>\n",
       "    <tr>\n",
       "      <th>Accuracy</th>\n",
       "      <td>0.691395</td>\n",
       "    </tr>\n",
       "    <tr>\n",
       "      <th>Sensitivity / Recall</th>\n",
       "      <td>0.513595</td>\n",
       "    </tr>\n",
       "    <tr>\n",
       "      <th>Precision</th>\n",
       "      <td>0.783410</td>\n",
       "    </tr>\n",
       "    <tr>\n",
       "      <th>F1 Score</th>\n",
       "      <td>0.620438</td>\n",
       "    </tr>\n",
       "  </tbody>\n",
       "</table>\n",
       "</div>"
      ],
      "text/plain": [
       "                      Calculation\n",
       "Specificity              0.862974\n",
       "Accuracy                 0.691395\n",
       "Sensitivity / Recall     0.513595\n",
       "Precision                0.783410\n",
       "F1 Score                 0.620438"
      ]
     },
     "metadata": {},
     "output_type": "display_data"
    },
    {
     "data": {
      "image/png": "[encoded data removed]",
      "text/plain": [
       "<Figure size 432x288 with 2 Axes>"
      ]
     },
     "metadata": {
      "needs_background": "light"
     },
     "output_type": "display_data"
    }
   ],
   "source": [
    "vector_model('cvec', CountVectorizer(stop_words = stopwords_enhanced), 'rf', RandomForestClassifier(), rf_params_cv)"
   ]
  },
  {
   "cell_type": "markdown",
   "id": "e0111537-9285-4c06-b5a5-e7c9ad9c74b7",
   "metadata": {},
   "source": [
    "Using Count Vectorizer with Random Forest model, the top 5 useful words in classifying the posts are hobbit, ring, lord ring, lord and bilbo.\n",
    "<br>"
   ]
  },
  {
   "cell_type": "markdown",
   "id": "725a38d8-bdd8-48d5-a265-c5f2567dd7bc",
   "metadata": {},
   "source": [
    "### TFID vectorizer"
   ]
  },
  {
   "cell_type": "markdown",
   "id": "11930d04-f543-470b-9056-bb2c7356aa04",
   "metadata": {},
   "source": [
    "#### Naive Bayes model"
   ]
  },
  {
   "cell_type": "code",
   "execution_count": 55,
   "id": "47e6d612-942f-40fe-a316-d01c7948fc84",
   "metadata": {},
   "outputs": [],
   "source": [
    "pipe_params_tvec_nb = {\n",
    "    \"tvec__min_df\": [1], #[1, 2, 3],\n",
    "    \"tvec__max_df\": [0.75], #[0.75, 0.9, 1],\n",
    "    \"tvec__max_features\": [6000], # [1000, 2000, 3000, 4000, 5000, 6000], \n",
    "    \"tvec__ngram_range\": [(1, 3)] # [(1, 1), (1, 2), (2, 3), (1, 3), (1, 4)]\n",
    "}\n",
    "\n",
    "# More hyper parameters were tried for Naive Bayes model to get a better score and \n",
    "# max features added more selection to reduce overfitting"
   ]
  },
  {
   "cell_type": "code",
   "execution_count": 56,
   "id": "06317899-337a-4ffb-b190-429e849cf394",
   "metadata": {},
   "outputs": [
    {
     "name": "stdout",
     "output_type": "stream",
     "text": [
      "MultinomialNB() Best Score: 0.7092008520579949\n",
      "MultinomialNB() Train Score: 0.8746290801186943\n",
      "MultinomialNB() Test Score: 0.7151335311572701\n",
      " \n",
      "MultinomialNB() Best estimators: {'tvec__max_df': 0.75, 'tvec__max_features': 6000, 'tvec__min_df': 1, 'tvec__ngram_range': (1, 3)}\n",
      " \n",
      " \n",
      "Useful words to differentiate the topics\n"
     ]
    },
    {
     "data": {
      "text/html": [
       "<div>\n",
       "<style scoped>\n",
       "    .dataframe tbody tr th:only-of-type {\n",
       "        vertical-align: middle;\n",
       "    }\n",
       "\n",
       "    .dataframe tbody tr th {\n",
       "        vertical-align: top;\n",
       "    }\n",
       "\n",
       "    .dataframe thead th {\n",
       "        text-align: right;\n",
       "    }\n",
       "</style>\n",
       "<table border=\"1\" class=\"dataframe\">\n",
       "  <thead>\n",
       "    <tr style=\"text-align: right;\">\n",
       "      <th></th>\n",
       "      <th>coef</th>\n",
       "    </tr>\n",
       "  </thead>\n",
       "  <tbody>\n",
       "    <tr>\n",
       "      <th>smaug</th>\n",
       "      <td>1.879352</td>\n",
       "    </tr>\n",
       "    <tr>\n",
       "      <th>desolation</th>\n",
       "      <td>1.775992</td>\n",
       "    </tr>\n",
       "    <tr>\n",
       "      <th>bilbo</th>\n",
       "      <td>1.775106</td>\n",
       "    </tr>\n",
       "    <tr>\n",
       "      <th>bombur</th>\n",
       "      <td>1.772992</td>\n",
       "    </tr>\n",
       "    <tr>\n",
       "      <th>desolation smaug</th>\n",
       "      <td>1.755856</td>\n",
       "    </tr>\n",
       "    <tr>\n",
       "      <th>edit</th>\n",
       "      <td>1.722410</td>\n",
       "    </tr>\n",
       "    <tr>\n",
       "      <th>journey</th>\n",
       "      <td>1.685363</td>\n",
       "    </tr>\n",
       "    <tr>\n",
       "      <th>mirkwood</th>\n",
       "      <td>1.583412</td>\n",
       "    </tr>\n",
       "    <tr>\n",
       "      <th>dwarf</th>\n",
       "      <td>1.576026</td>\n",
       "    </tr>\n",
       "    <tr>\n",
       "      <th>earth lore</th>\n",
       "      <td>1.550128</td>\n",
       "    </tr>\n",
       "    <tr>\n",
       "      <th>middle earth lore</th>\n",
       "      <td>1.550128</td>\n",
       "    </tr>\n",
       "    <tr>\n",
       "      <th>unexpected journey</th>\n",
       "      <td>1.545205</td>\n",
       "    </tr>\n",
       "    <tr>\n",
       "      <th>bilbo baggins</th>\n",
       "      <td>1.541815</td>\n",
       "    </tr>\n",
       "    <tr>\n",
       "      <th>thorin</th>\n",
       "      <td>1.500113</td>\n",
       "    </tr>\n",
       "    <tr>\n",
       "      <th>battle five</th>\n",
       "      <td>1.493144</td>\n",
       "    </tr>\n",
       "    <tr>\n",
       "      <th>gollum</th>\n",
       "      <td>1.489407</td>\n",
       "    </tr>\n",
       "    <tr>\n",
       "      <th>army</th>\n",
       "      <td>1.487352</td>\n",
       "    </tr>\n",
       "    <tr>\n",
       "      <th>hobbit</th>\n",
       "      <td>1.476334</td>\n",
       "    </tr>\n",
       "    <tr>\n",
       "      <th>five army</th>\n",
       "      <td>1.461841</td>\n",
       "    </tr>\n",
       "    <tr>\n",
       "      <th>battle five army</th>\n",
       "      <td>1.442482</td>\n",
       "    </tr>\n",
       "  </tbody>\n",
       "</table>\n",
       "</div>"
      ],
      "text/plain": [
       "                        coef\n",
       "smaug               1.879352\n",
       "desolation          1.775992\n",
       "bilbo               1.775106\n",
       "bombur              1.772992\n",
       "desolation smaug    1.755856\n",
       "edit                1.722410\n",
       "journey             1.685363\n",
       "mirkwood            1.583412\n",
       "dwarf               1.576026\n",
       "earth lore          1.550128\n",
       "middle earth lore   1.550128\n",
       "unexpected journey  1.545205\n",
       "bilbo baggins       1.541815\n",
       "thorin              1.500113\n",
       "battle five         1.493144\n",
       "gollum              1.489407\n",
       "army                1.487352\n",
       "hobbit              1.476334\n",
       "five army           1.461841\n",
       "battle five army    1.442482"
      ]
     },
     "metadata": {},
     "output_type": "display_data"
    },
    {
     "name": "stdout",
     "output_type": "stream",
     "text": [
      " \n",
      "Model metrics\n"
     ]
    },
    {
     "data": {
      "text/html": [
       "<div>\n",
       "<style scoped>\n",
       "    .dataframe tbody tr th:only-of-type {\n",
       "        vertical-align: middle;\n",
       "    }\n",
       "\n",
       "    .dataframe tbody tr th {\n",
       "        vertical-align: top;\n",
       "    }\n",
       "\n",
       "    .dataframe thead th {\n",
       "        text-align: right;\n",
       "    }\n",
       "</style>\n",
       "<table border=\"1\" class=\"dataframe\">\n",
       "  <thead>\n",
       "    <tr style=\"text-align: right;\">\n",
       "      <th></th>\n",
       "      <th>Calculation</th>\n",
       "    </tr>\n",
       "  </thead>\n",
       "  <tbody>\n",
       "    <tr>\n",
       "      <th>Specificity</th>\n",
       "      <td>0.746356</td>\n",
       "    </tr>\n",
       "    <tr>\n",
       "      <th>Accuracy</th>\n",
       "      <td>0.715134</td>\n",
       "    </tr>\n",
       "    <tr>\n",
       "      <th>Sensitivity / Recall</th>\n",
       "      <td>0.682779</td>\n",
       "    </tr>\n",
       "    <tr>\n",
       "      <th>Precision</th>\n",
       "      <td>0.722045</td>\n",
       "    </tr>\n",
       "    <tr>\n",
       "      <th>F1 Score</th>\n",
       "      <td>0.701863</td>\n",
       "    </tr>\n",
       "  </tbody>\n",
       "</table>\n",
       "</div>"
      ],
      "text/plain": [
       "                      Calculation\n",
       "Specificity              0.746356\n",
       "Accuracy                 0.715134\n",
       "Sensitivity / Recall     0.682779\n",
       "Precision                0.722045\n",
       "F1 Score                 0.701863"
      ]
     },
     "metadata": {},
     "output_type": "display_data"
    },
    {
     "data": {
      "image/png": "[encoded data removed]",
      "text/plain": [
       "<Figure size 432x288 with 2 Axes>"
      ]
     },
     "metadata": {
      "needs_background": "light"
     },
     "output_type": "display_data"
    }
   ],
   "source": [
    "vector_model('tvec', TfidfVectorizer(stop_words = stopwords_enhanced), 'nb', MultinomialNB(), pipe_params_tvec_nb)"
   ]
  },
  {
   "cell_type": "markdown",
   "id": "e99eaac2-b0cd-4275-be01-879896318b6b",
   "metadata": {},
   "source": [
    "Using TFID Vectorizer with Naive Bayes model, the top 5 useful words in classifying the posts are desolation, desolation smaug, bilbo, bombur and smaug.\n",
    "<br>\n",
    "\n",
    "Putting domain knowledge into use, desolation might seems wrong to most. But it is referring to the 2nd Hobbit movie: Desolation of Smaug. Thus, desolation is a word to determine if the post belongs to the Hobbit. Likewise for bilbo and bombur, the main character of Hobbits."
   ]
  },
  {
   "cell_type": "markdown",
   "id": "b1821bf7-fc23-45fe-b960-07c534b4a25d",
   "metadata": {},
   "source": [
    "#### KNN model"
   ]
  },
  {
   "cell_type": "code",
   "execution_count": 57,
   "id": "70efb26e-896c-459f-9c47-c226c0c6e778",
   "metadata": {},
   "outputs": [],
   "source": [
    "pipe_params_tvec_knn = {\n",
    "    \"tvec__max_features\": [2000], # [2000, 3000, 4000, 5000], \n",
    "    \"tvec__ngram_range\": [(1, 3)], # [(1, 1), (1, 2), (1, 3), (1, 4)],\n",
    "    \"knn__n_neighbors\": [5] # [5, 11] \n",
    "}"
   ]
  },
  {
   "cell_type": "code",
   "execution_count": 58,
   "id": "07155520-7375-49e8-8902-5e7404777f24",
   "metadata": {},
   "outputs": [
    {
     "name": "stdout",
     "output_type": "stream",
     "text": [
      "KNeighborsClassifier() Best Score: 0.5845571359857075\n",
      "KNeighborsClassifier() Train Score: 0.7303412462908012\n",
      "KNeighborsClassifier() Test Score: 0.6068249258160238\n",
      " \n",
      "KNeighborsClassifier() Best estimators: {'knn__n_neighbors': 5, 'tvec__max_features': 2000, 'tvec__ngram_range': (1, 3)}\n",
      " \n",
      " \n",
      " \n",
      "Model metrics\n"
     ]
    },
    {
     "data": {
      "text/html": [
       "<div>\n",
       "<style scoped>\n",
       "    .dataframe tbody tr th:only-of-type {\n",
       "        vertical-align: middle;\n",
       "    }\n",
       "\n",
       "    .dataframe tbody tr th {\n",
       "        vertical-align: top;\n",
       "    }\n",
       "\n",
       "    .dataframe thead th {\n",
       "        text-align: right;\n",
       "    }\n",
       "</style>\n",
       "<table border=\"1\" class=\"dataframe\">\n",
       "  <thead>\n",
       "    <tr style=\"text-align: right;\">\n",
       "      <th></th>\n",
       "      <th>Calculation</th>\n",
       "    </tr>\n",
       "  </thead>\n",
       "  <tbody>\n",
       "    <tr>\n",
       "      <th>Specificity</th>\n",
       "      <td>0.685131</td>\n",
       "    </tr>\n",
       "    <tr>\n",
       "      <th>Accuracy</th>\n",
       "      <td>0.606825</td>\n",
       "    </tr>\n",
       "    <tr>\n",
       "      <th>Sensitivity / Recall</th>\n",
       "      <td>0.525680</td>\n",
       "    </tr>\n",
       "    <tr>\n",
       "      <th>Precision</th>\n",
       "      <td>0.617021</td>\n",
       "    </tr>\n",
       "    <tr>\n",
       "      <th>F1 Score</th>\n",
       "      <td>0.567700</td>\n",
       "    </tr>\n",
       "  </tbody>\n",
       "</table>\n",
       "</div>"
      ],
      "text/plain": [
       "                      Calculation\n",
       "Specificity              0.685131\n",
       "Accuracy                 0.606825\n",
       "Sensitivity / Recall     0.525680\n",
       "Precision                0.617021\n",
       "F1 Score                 0.567700"
      ]
     },
     "metadata": {},
     "output_type": "display_data"
    },
    {
     "data": {
      "image/png": "[encoded data removed]",
      "text/plain": [
       "<Figure size 432x288 with 2 Axes>"
      ]
     },
     "metadata": {
      "needs_background": "light"
     },
     "output_type": "display_data"
    }
   ],
   "source": [
    "vector_model('tvec', TfidfVectorizer(stop_words = stopwords_enhanced), 'knn', KNeighborsClassifier(), pipe_params_tvec_knn)"
   ]
  },
  {
   "cell_type": "markdown",
   "id": "2740368e-d67c-4a23-ad68-160af9dc68f9",
   "metadata": {},
   "source": [
    "The accuracy for KNN model using TFID vectorizer is worse than using count vectorizer."
   ]
  },
  {
   "cell_type": "markdown",
   "id": "c5a22b15-7e1b-4f7d-93db-c9096d44eaca",
   "metadata": {
    "tags": []
   },
   "source": [
    "#### Logistic Regression model"
   ]
  },
  {
   "cell_type": "code",
   "execution_count": 59,
   "id": "36ab7e8b-cfb6-4a08-bb0e-0e5f783d064a",
   "metadata": {},
   "outputs": [],
   "source": [
    "pipe_params_tvec_lr = {\n",
    "    \"tvec__min_df\": [2], #[2, 3]\n",
    "    \"tvec__max_df\": [0.9], #[0.9, 0.95]\n",
    "    \"tvec__max_features\": [5000], # [3000, 4000, 5000, 6000],\n",
    "    \"tvec__ngram_range\": [(1, 3)] # [(1, 1), (1, 2), (2, 4), (1, 3), (1, 4)]\n",
    "}\n",
    "\n",
    "# More hyper parameters were tried for Logistic Regression model to get a better score and \n",
    "# max features added more selection to reduce overfitting"
   ]
  },
  {
   "cell_type": "code",
   "execution_count": 60,
   "id": "051c97b7-c2c4-49db-a45c-8b4976d2ca36",
   "metadata": {},
   "outputs": [
    {
     "name": "stdout",
     "output_type": "stream",
     "text": [
      "LogisticRegression() Best Score: 0.7232927918642205\n",
      "LogisticRegression() Train Score: 0.8675816023738873\n",
      "LogisticRegression() Test Score: 0.7136498516320475\n",
      " \n",
      "LogisticRegression() Best estimators: {'tvec__max_df': 0.9, 'tvec__max_features': 5000, 'tvec__min_df': 2, 'tvec__ngram_range': (1, 3)}\n",
      " \n",
      " \n",
      "Useful words for Hobbit\n"
     ]
    },
    {
     "data": {
      "text/html": [
       "<div>\n",
       "<style scoped>\n",
       "    .dataframe tbody tr th:only-of-type {\n",
       "        vertical-align: middle;\n",
       "    }\n",
       "\n",
       "    .dataframe tbody tr th {\n",
       "        vertical-align: top;\n",
       "    }\n",
       "\n",
       "    .dataframe thead th {\n",
       "        text-align: right;\n",
       "    }\n",
       "</style>\n",
       "<table border=\"1\" class=\"dataframe\">\n",
       "  <thead>\n",
       "    <tr style=\"text-align: right;\">\n",
       "      <th></th>\n",
       "      <th>coef</th>\n",
       "    </tr>\n",
       "  </thead>\n",
       "  <tbody>\n",
       "    <tr>\n",
       "      <th>hobbit</th>\n",
       "      <td>222.263938</td>\n",
       "    </tr>\n",
       "    <tr>\n",
       "      <th>bilbo</th>\n",
       "      <td>21.084557</td>\n",
       "    </tr>\n",
       "    <tr>\n",
       "      <th>gollum</th>\n",
       "      <td>14.443830</td>\n",
       "    </tr>\n",
       "    <tr>\n",
       "      <th>smaug</th>\n",
       "      <td>9.261529</td>\n",
       "    </tr>\n",
       "    <tr>\n",
       "      <th>dwarf</th>\n",
       "      <td>6.732842</td>\n",
       "    </tr>\n",
       "    <tr>\n",
       "      <th>earth lore</th>\n",
       "      <td>5.453726</td>\n",
       "    </tr>\n",
       "    <tr>\n",
       "      <th>middle earth lore</th>\n",
       "      <td>5.453726</td>\n",
       "    </tr>\n",
       "    <tr>\n",
       "      <th>thorin</th>\n",
       "      <td>4.819926</td>\n",
       "    </tr>\n",
       "    <tr>\n",
       "      <th>edit</th>\n",
       "      <td>3.476050</td>\n",
       "    </tr>\n",
       "    <tr>\n",
       "      <th>bombur</th>\n",
       "      <td>3.453213</td>\n",
       "    </tr>\n",
       "    <tr>\n",
       "      <th>trilogy</th>\n",
       "      <td>3.350639</td>\n",
       "    </tr>\n",
       "    <tr>\n",
       "      <th>journey</th>\n",
       "      <td>3.319321</td>\n",
       "    </tr>\n",
       "    <tr>\n",
       "      <th>mountain</th>\n",
       "      <td>3.294907</td>\n",
       "    </tr>\n",
       "    <tr>\n",
       "      <th>army</th>\n",
       "      <td>3.260539</td>\n",
       "    </tr>\n",
       "    <tr>\n",
       "      <th>bofur</th>\n",
       "      <td>3.000818</td>\n",
       "    </tr>\n",
       "    <tr>\n",
       "      <th>mirkwood</th>\n",
       "      <td>2.798014</td>\n",
       "    </tr>\n",
       "    <tr>\n",
       "      <th>erebor</th>\n",
       "      <td>2.770131</td>\n",
       "    </tr>\n",
       "    <tr>\n",
       "      <th>azog</th>\n",
       "      <td>2.759021</td>\n",
       "    </tr>\n",
       "    <tr>\n",
       "      <th>song</th>\n",
       "      <td>2.725343</td>\n",
       "    </tr>\n",
       "    <tr>\n",
       "      <th>bag end</th>\n",
       "      <td>2.605246</td>\n",
       "    </tr>\n",
       "  </tbody>\n",
       "</table>\n",
       "</div>"
      ],
      "text/plain": [
       "                         coef\n",
       "hobbit             222.263938\n",
       "bilbo               21.084557\n",
       "gollum              14.443830\n",
       "smaug                9.261529\n",
       "dwarf                6.732842\n",
       "earth lore           5.453726\n",
       "middle earth lore    5.453726\n",
       "thorin               4.819926\n",
       "edit                 3.476050\n",
       "bombur               3.453213\n",
       "trilogy              3.350639\n",
       "journey              3.319321\n",
       "mountain             3.294907\n",
       "army                 3.260539\n",
       "bofur                3.000818\n",
       "mirkwood             2.798014\n",
       "erebor               2.770131\n",
       "azog                 2.759021\n",
       "song                 2.725343\n",
       "bag end              2.605246"
      ]
     },
     "metadata": {},
     "output_type": "display_data"
    },
    {
     "name": "stdout",
     "output_type": "stream",
     "text": [
      "Useful words for LOTR\n"
     ]
    },
    {
     "data": {
      "text/html": [
       "<div>\n",
       "<style scoped>\n",
       "    .dataframe tbody tr th:only-of-type {\n",
       "        vertical-align: middle;\n",
       "    }\n",
       "\n",
       "    .dataframe tbody tr th {\n",
       "        vertical-align: top;\n",
       "    }\n",
       "\n",
       "    .dataframe thead th {\n",
       "        text-align: right;\n",
       "    }\n",
       "</style>\n",
       "<table border=\"1\" class=\"dataframe\">\n",
       "  <thead>\n",
       "    <tr style=\"text-align: right;\">\n",
       "      <th></th>\n",
       "      <th>coef</th>\n",
       "    </tr>\n",
       "  </thead>\n",
       "  <tbody>\n",
       "    <tr>\n",
       "      <th>ring</th>\n",
       "      <td>0.111069</td>\n",
       "    </tr>\n",
       "    <tr>\n",
       "      <th>lord</th>\n",
       "      <td>0.155078</td>\n",
       "    </tr>\n",
       "    <tr>\n",
       "      <th>frodo</th>\n",
       "      <td>0.175312</td>\n",
       "    </tr>\n",
       "    <tr>\n",
       "      <th>aragorn</th>\n",
       "      <td>0.249595</td>\n",
       "    </tr>\n",
       "    <tr>\n",
       "      <th>lotr</th>\n",
       "      <td>0.260413</td>\n",
       "    </tr>\n",
       "    <tr>\n",
       "      <th>black</th>\n",
       "      <td>0.268643</td>\n",
       "    </tr>\n",
       "    <tr>\n",
       "      <th>lord ring</th>\n",
       "      <td>0.268696</td>\n",
       "    </tr>\n",
       "    <tr>\n",
       "      <th>mordor</th>\n",
       "      <td>0.270472</td>\n",
       "    </tr>\n",
       "    <tr>\n",
       "      <th>fellowship</th>\n",
       "      <td>0.276850</td>\n",
       "    </tr>\n",
       "    <tr>\n",
       "      <th>power</th>\n",
       "      <td>0.288995</td>\n",
       "    </tr>\n",
       "    <tr>\n",
       "      <th>eye</th>\n",
       "      <td>0.294030</td>\n",
       "    </tr>\n",
       "    <tr>\n",
       "      <th>galadriel</th>\n",
       "      <td>0.312845</td>\n",
       "    </tr>\n",
       "    <tr>\n",
       "      <th>age</th>\n",
       "      <td>0.329894</td>\n",
       "    </tr>\n",
       "    <tr>\n",
       "      <th>morgoth</th>\n",
       "      <td>0.336300</td>\n",
       "    </tr>\n",
       "    <tr>\n",
       "      <th>king</th>\n",
       "      <td>0.337679</td>\n",
       "    </tr>\n",
       "    <tr>\n",
       "      <th>silmarillion</th>\n",
       "      <td>0.343985</td>\n",
       "    </tr>\n",
       "    <tr>\n",
       "      <th>dwalin</th>\n",
       "      <td>0.352824</td>\n",
       "    </tr>\n",
       "    <tr>\n",
       "      <th>painting</th>\n",
       "      <td>0.362988</td>\n",
       "    </tr>\n",
       "    <tr>\n",
       "      <th>gondolin</th>\n",
       "      <td>0.367204</td>\n",
       "    </tr>\n",
       "    <tr>\n",
       "      <th>ring power</th>\n",
       "      <td>0.383693</td>\n",
       "    </tr>\n",
       "  </tbody>\n",
       "</table>\n",
       "</div>"
      ],
      "text/plain": [
       "                  coef\n",
       "ring          0.111069\n",
       "lord          0.155078\n",
       "frodo         0.175312\n",
       "aragorn       0.249595\n",
       "lotr          0.260413\n",
       "black         0.268643\n",
       "lord ring     0.268696\n",
       "mordor        0.270472\n",
       "fellowship    0.276850\n",
       "power         0.288995\n",
       "eye           0.294030\n",
       "galadriel     0.312845\n",
       "age           0.329894\n",
       "morgoth       0.336300\n",
       "king          0.337679\n",
       "silmarillion  0.343985\n",
       "dwalin        0.352824\n",
       "painting      0.362988\n",
       "gondolin      0.367204\n",
       "ring power    0.383693"
      ]
     },
     "metadata": {},
     "output_type": "display_data"
    },
    {
     "name": "stdout",
     "output_type": "stream",
     "text": [
      " \n",
      "Model metrics\n"
     ]
    },
    {
     "data": {
      "text/html": [
       "<div>\n",
       "<style scoped>\n",
       "    .dataframe tbody tr th:only-of-type {\n",
       "        vertical-align: middle;\n",
       "    }\n",
       "\n",
       "    .dataframe tbody tr th {\n",
       "        vertical-align: top;\n",
       "    }\n",
       "\n",
       "    .dataframe thead th {\n",
       "        text-align: right;\n",
       "    }\n",
       "</style>\n",
       "<table border=\"1\" class=\"dataframe\">\n",
       "  <thead>\n",
       "    <tr style=\"text-align: right;\">\n",
       "      <th></th>\n",
       "      <th>Calculation</th>\n",
       "    </tr>\n",
       "  </thead>\n",
       "  <tbody>\n",
       "    <tr>\n",
       "      <th>Specificity</th>\n",
       "      <td>0.787172</td>\n",
       "    </tr>\n",
       "    <tr>\n",
       "      <th>Accuracy</th>\n",
       "      <td>0.713650</td>\n",
       "    </tr>\n",
       "    <tr>\n",
       "      <th>Sensitivity / Recall</th>\n",
       "      <td>0.637462</td>\n",
       "    </tr>\n",
       "    <tr>\n",
       "      <th>Precision</th>\n",
       "      <td>0.742958</td>\n",
       "    </tr>\n",
       "    <tr>\n",
       "      <th>F1 Score</th>\n",
       "      <td>0.686179</td>\n",
       "    </tr>\n",
       "  </tbody>\n",
       "</table>\n",
       "</div>"
      ],
      "text/plain": [
       "                      Calculation\n",
       "Specificity              0.787172\n",
       "Accuracy                 0.713650\n",
       "Sensitivity / Recall     0.637462\n",
       "Precision                0.742958\n",
       "F1 Score                 0.686179"
      ]
     },
     "metadata": {},
     "output_type": "display_data"
    },
    {
     "data": {
      "image/png": "[encoded data removed]",
      "text/plain": [
       "<Figure size 432x288 with 2 Axes>"
      ]
     },
     "metadata": {
      "needs_background": "light"
     },
     "output_type": "display_data"
    }
   ],
   "source": [
    "vector_model('tvec', TfidfVectorizer(stop_words = stopwords_enhanced), 'lr', LogisticRegression(), pipe_params_tvec_lr)"
   ]
  },
  {
   "cell_type": "markdown",
   "id": "486751ba-ad8e-4ad6-af27-1f926a27484c",
   "metadata": {},
   "source": [
    "Using TFID Vectorizer with Logistics Regression model, some of useful words in classifying Hobbits are thorin, smaug, bilbo, bombur and dwarf. While, some of useful words in classifying LOTR are aragon, frodo, galadriel, fellowship and black.\n",
    "\n",
    "Putting domain knowledge into use, non-LOTR fans might wonder is black supposed to be a stop word instead. Black is referring to the Black riders in the LOTR movies."
   ]
  },
  {
   "cell_type": "markdown",
   "id": "7e17e447-b4e3-479b-9735-b59044195e7c",
   "metadata": {
    "tags": []
   },
   "source": [
    "#### Random Forest"
   ]
  },
  {
   "cell_type": "code",
   "execution_count": 61,
   "id": "47ec7aad-fabb-4c1c-8bff-53620f220fee",
   "metadata": {},
   "outputs": [],
   "source": [
    "rf_params_tv = {\n",
    "    \"tvec__max_features\": [3000], #[2000, 3000, 4000, 5000],\n",
    "    \"tvec__ngram_range\": [(1, 3)], #[(1, 2), (1, 3), (1, 4)],\n",
    "    'rf__n_estimators': [100], #[100, 150, 200],\n",
    "    'rf__max_depth':  [15] # [5, 10, 15]\n",
    "}"
   ]
  },
  {
   "cell_type": "code",
   "execution_count": 62,
   "id": "5e786257-7d77-4d7a-b633-804af55137c1",
   "metadata": {},
   "outputs": [
    {
     "name": "stdout",
     "output_type": "stream",
     "text": [
      "RandomForestClassifier() Best Score: 0.7036336150621865\n",
      "RandomForestClassifier() Train Score: 0.7681750741839762\n",
      "RandomForestClassifier() Test Score: 0.6973293768545994\n",
      " \n",
      "RandomForestClassifier() Best estimators: {'rf__max_depth': 15, 'rf__n_estimators': 100, 'tvec__max_features': 3000, 'tvec__ngram_range': (1, 3)}\n",
      " \n",
      " \n",
      "Useful words to differentiate the topics\n"
     ]
    },
    {
     "data": {
      "text/html": [
       "<div>\n",
       "<style scoped>\n",
       "    .dataframe tbody tr th:only-of-type {\n",
       "        vertical-align: middle;\n",
       "    }\n",
       "\n",
       "    .dataframe tbody tr th {\n",
       "        vertical-align: top;\n",
       "    }\n",
       "\n",
       "    .dataframe thead th {\n",
       "        text-align: right;\n",
       "    }\n",
       "</style>\n",
       "<table border=\"1\" class=\"dataframe\">\n",
       "  <thead>\n",
       "    <tr style=\"text-align: right;\">\n",
       "      <th></th>\n",
       "      <th>coef</th>\n",
       "    </tr>\n",
       "  </thead>\n",
       "  <tbody>\n",
       "    <tr>\n",
       "      <th>hobbit</th>\n",
       "      <td>0.125868</td>\n",
       "    </tr>\n",
       "    <tr>\n",
       "      <th>lord</th>\n",
       "      <td>0.046959</td>\n",
       "    </tr>\n",
       "    <tr>\n",
       "      <th>lord ring</th>\n",
       "      <td>0.036972</td>\n",
       "    </tr>\n",
       "    <tr>\n",
       "      <th>ring</th>\n",
       "      <td>0.035631</td>\n",
       "    </tr>\n",
       "    <tr>\n",
       "      <th>bilbo</th>\n",
       "      <td>0.030995</td>\n",
       "    </tr>\n",
       "    <tr>\n",
       "      <th>smaug</th>\n",
       "      <td>0.026315</td>\n",
       "    </tr>\n",
       "    <tr>\n",
       "      <th>thorin</th>\n",
       "      <td>0.018060</td>\n",
       "    </tr>\n",
       "    <tr>\n",
       "      <th>gollum</th>\n",
       "      <td>0.017862</td>\n",
       "    </tr>\n",
       "    <tr>\n",
       "      <th>lore</th>\n",
       "      <td>0.014410</td>\n",
       "    </tr>\n",
       "    <tr>\n",
       "      <th>dwarf</th>\n",
       "      <td>0.013325</td>\n",
       "    </tr>\n",
       "    <tr>\n",
       "      <th>middle earth lore</th>\n",
       "      <td>0.011416</td>\n",
       "    </tr>\n",
       "    <tr>\n",
       "      <th>power</th>\n",
       "      <td>0.010953</td>\n",
       "    </tr>\n",
       "    <tr>\n",
       "      <th>lotr</th>\n",
       "      <td>0.010731</td>\n",
       "    </tr>\n",
       "    <tr>\n",
       "      <th>fellowship</th>\n",
       "      <td>0.009986</td>\n",
       "    </tr>\n",
       "    <tr>\n",
       "      <th>desolation</th>\n",
       "      <td>0.009536</td>\n",
       "    </tr>\n",
       "    <tr>\n",
       "      <th>middle earth</th>\n",
       "      <td>0.009424</td>\n",
       "    </tr>\n",
       "    <tr>\n",
       "      <th>earth lore</th>\n",
       "      <td>0.008630</td>\n",
       "    </tr>\n",
       "    <tr>\n",
       "      <th>earth</th>\n",
       "      <td>0.007472</td>\n",
       "    </tr>\n",
       "    <tr>\n",
       "      <th>frodo</th>\n",
       "      <td>0.007292</td>\n",
       "    </tr>\n",
       "    <tr>\n",
       "      <th>desolation smaug</th>\n",
       "      <td>0.006979</td>\n",
       "    </tr>\n",
       "  </tbody>\n",
       "</table>\n",
       "</div>"
      ],
      "text/plain": [
       "                       coef\n",
       "hobbit             0.125868\n",
       "lord               0.046959\n",
       "lord ring          0.036972\n",
       "ring               0.035631\n",
       "bilbo              0.030995\n",
       "smaug              0.026315\n",
       "thorin             0.018060\n",
       "gollum             0.017862\n",
       "lore               0.014410\n",
       "dwarf              0.013325\n",
       "middle earth lore  0.011416\n",
       "power              0.010953\n",
       "lotr               0.010731\n",
       "fellowship         0.009986\n",
       "desolation         0.009536\n",
       "middle earth       0.009424\n",
       "earth lore         0.008630\n",
       "earth              0.007472\n",
       "frodo              0.007292\n",
       "desolation smaug   0.006979"
      ]
     },
     "metadata": {},
     "output_type": "display_data"
    },
    {
     "name": "stdout",
     "output_type": "stream",
     "text": [
      " \n",
      "Model metrics\n"
     ]
    },
    {
     "data": {
      "text/html": [
       "<div>\n",
       "<style scoped>\n",
       "    .dataframe tbody tr th:only-of-type {\n",
       "        vertical-align: middle;\n",
       "    }\n",
       "\n",
       "    .dataframe tbody tr th {\n",
       "        vertical-align: top;\n",
       "    }\n",
       "\n",
       "    .dataframe thead th {\n",
       "        text-align: right;\n",
       "    }\n",
       "</style>\n",
       "<table border=\"1\" class=\"dataframe\">\n",
       "  <thead>\n",
       "    <tr style=\"text-align: right;\">\n",
       "      <th></th>\n",
       "      <th>Calculation</th>\n",
       "    </tr>\n",
       "  </thead>\n",
       "  <tbody>\n",
       "    <tr>\n",
       "      <th>Specificity</th>\n",
       "      <td>0.865889</td>\n",
       "    </tr>\n",
       "    <tr>\n",
       "      <th>Accuracy</th>\n",
       "      <td>0.697329</td>\n",
       "    </tr>\n",
       "    <tr>\n",
       "      <th>Sensitivity / Recall</th>\n",
       "      <td>0.522659</td>\n",
       "    </tr>\n",
       "    <tr>\n",
       "      <th>Precision</th>\n",
       "      <td>0.789954</td>\n",
       "    </tr>\n",
       "    <tr>\n",
       "      <th>F1 Score</th>\n",
       "      <td>0.629091</td>\n",
       "    </tr>\n",
       "  </tbody>\n",
       "</table>\n",
       "</div>"
      ],
      "text/plain": [
       "                      Calculation\n",
       "Specificity              0.865889\n",
       "Accuracy                 0.697329\n",
       "Sensitivity / Recall     0.522659\n",
       "Precision                0.789954\n",
       "F1 Score                 0.629091"
      ]
     },
     "metadata": {},
     "output_type": "display_data"
    },
    {
     "data": {
      "image/png": "[encoded data removed]",
      "text/plain": [
       "<Figure size 432x288 with 2 Axes>"
      ]
     },
     "metadata": {
      "needs_background": "light"
     },
     "output_type": "display_data"
    }
   ],
   "source": [
    "vector_model('tvec', TfidfVectorizer(stop_words = stopwords_enhanced), 'rf', RandomForestClassifier(), rf_params_tv)"
   ]
  },
  {
   "cell_type": "markdown",
   "id": "517c7642-9452-47a0-9f40-2a3e8fbf9d30",
   "metadata": {},
   "source": [
    "Using TFID Vectorizer with Random Forest model, the top 5 useful words in classifying the posts are hobbit, ring, lord ring, lord and smaug."
   ]
  },
  {
   "cell_type": "markdown",
   "id": "b399662b-8754-4a72-b2a3-28341f165022",
   "metadata": {},
   "source": [
    "## Model Comparison\n",
    "---"
   ]
  },
  {
   "cell_type": "markdown",
   "id": "3c475818-4cad-47a4-ad7c-2b81ef4b8190",
   "metadata": {},
   "source": [
    "| Vectorizer | Model         | Best score | Train score | Test Score | Accuracy | Specificity | Recall | Precision | F1 Score |\n",
    "|------------|---------------|------------|-------------|------------|----------|-------------|--------|-----------|----------|\n",
    "| NA         | Baseline      | 0.509      | 0.509       | 0.509      | 0.509    | 1.000       | 0.000  | 0.000     | 0.000    |\n",
    "| Count      | Naive Bayes   | 0.701      | 0.798       | 0.703      | 0.703    | 0.758       | 0.647  | 0.721     | 0.682    |\n",
    "| Count      | KNN           | 0.670      | 0.780       | 0.653      | 0.653    | 0.682       | 0.622  | 0.654     | 0.637    |\n",
    "| Count      | Logistics Reg | 0.709      | 0.904       | 0.705      | 0.705    | 0.778       | 0.628  | 0.732     | 0.676    |\n",
    "| Count      | Random Forest | 0.717      | 0.766       | 0.693      | 0.693    | 0.857       | 0.523  | 0.779     | 0.626    |\n",
    "| TFID       | Naive Bayes   | 0.709      | 0.875       | **0.715**  | 0.715    | 0.746       | 0.683  | 0.722     | 0.702    |\n",
    "| TFID       | KNN           | 0.585      | 0.730       | 0.607      | 0.607    | 0.685       | 0.526  | 0.617     | 0.568    |\n",
    "| TFID       | Logistics Reg | **0.723**  | 0.868       | **0.714**  | 0.714    | 0.787       | 0.637  | 0.743     | 0.686    |\n",
    "| TFID       | Random Forest | 0.714      | 0.769       | 0.693      | 0.693    | 0.857       | 0.523  | 0.779     | 0.626    |"
   ]
  },
  {
   "cell_type": "markdown",
   "id": "087d71c8-a6f7-4eb8-9d7c-04f15d790e16",
   "metadata": {},
   "source": [
    "Observations from the table above:\n",
    "* The dataset has a balanced distribution between the 2 topic with ~51% belonging to LOTR and ~49% belonging to hobbit.\n",
    "* Hence, accuracy score will be used mainly for determining the model performance instead of the F1 score.\n",
    "* The best accuracy scores from the table above are models using **TFID vectorizer**.\n",
    "* Naive Bayes and Logistics Regression model scored best with 0.715 and 0.714 respectively.\n",
    "* Comparing the two models, **I've decided to chose Logistics Regression** instead of Naive Bayes. This is because the Best score for Logistics Regression is better than Naives Bayes (0.723 > 0.709)\n",
    "* There is lesser of an overfit for Logistics Regression as well.\n",
    "* The other models performing badly with accuracy under 0.70."
   ]
  },
  {
   "cell_type": "markdown",
   "id": "9c0c827a-1af1-41a7-935b-595639610f19",
   "metadata": {},
   "source": [
    "## Conclusion and Recommendations"
   ]
  },
  {
   "cell_type": "markdown",
   "id": "bf9fc85e-7672-4f2e-bbe6-a65dfb9c45bd",
   "metadata": {},
   "source": [
    "### Conclusion"
   ]
  },
  {
   "cell_type": "markdown",
   "id": "9f54f49f-8f53-4a84-9f49-d93b75630701",
   "metadata": {},
   "source": [
    "Based on the results and findings, fans should use the TFID Vectorizer, Logistic Regression model to differentiate if the post is related to LOTR or The Hobbits. \n",
    "<br>\n",
    "The main characters in the movie are important to differentiate between the movies. Dwarf characters such as Thorin, Bombur are prominent in The Hobbits movie as well as in the online discussions. \n",
    "<br>\n",
    "While, LOTR discussions are mainly about the foes (black riders, eye, morgoth). \n",
    "<br>\n",
    "Characters such as bilbo, gandalf are in existence in both movies. Hence, it is best for the production team to state that clearly during fans meet and greet session / conference to clear the confusion. \n",
    "<br>"
   ]
  },
  {
   "cell_type": "markdown",
   "id": "e971d36c-3540-4b4a-b9f3-b74da7db5ce7",
   "metadata": {},
   "source": [
    "### Recommendation"
   ]
  },
  {
   "cell_type": "markdown",
   "id": "04aa9e08-30d1-4d86-af08-b694eca5006b",
   "metadata": {},
   "source": [
    "Recommend the production team to work with YouTubers who specialize in recaps / Tolkien works. In order to provide bite sized videos on the background for LOTR fans before the upcoming series.\n",
    "<br>\n",
    "Also, recommend the production team to work with streaming platform (mainly Amazon Prime) to stream LOTR and the Hobbits trilogy. \n",
    "<br>\n",
    "It would be recommended to have the uncut version on streaming platform. Then, the fans will get more details and clearer idea on the events.\n",
    "<br>\n",
    "Future work will recommend for the production team to use other online discussion forums to gather data."
   ]
  },
  {
   "cell_type": "code",
   "execution_count": null,
   "id": "a779e231-6b8d-44ae-9631-19299cade0c6",
   "metadata": {},
   "outputs": [],
   "source": []
  }
 ],
 "metadata": {
  "kernelspec": {
   "display_name": "Python 3 (ipykernel)",
   "language": "python",
   "name": "python3"
  },
  "language_info": {
   "codemirror_mode": {
    "name": "ipython",
    "version": 3
   },
   "file_extension": ".py",
   "mimetype": "text/x-python",
   "name": "python",
   "nbconvert_exporter": "python",
   "pygments_lexer": "ipython3",
   "version": "3.8.13"
  }
 },
 "nbformat": 4,
 "nbformat_minor": 5
}
