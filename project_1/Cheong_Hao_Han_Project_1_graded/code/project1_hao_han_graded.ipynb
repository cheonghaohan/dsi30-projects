{
 "cells": [
  {
   "cell_type": "markdown",
   "metadata": {},
   "source": [
    "<div style=\"border: 1px solid thistle; padding: 5px 20px 10px 20px;\">\n",
    "    <h2><font color = \"77658f\" style=\";\"> Feedback </font></h2><br>\n",
    "    <font color = \"77658f\"> \n",
    "<br> Project Organisation - Good use of markdowns and comments.\n",
    "        \n",
    "<br> Clarity of Message - Strong narrative throughout the project.\n",
    "        \n",
    "<br> Python Syntax and Control Flow - Good work for writing functions for data cleaning. While it is important to clean the data, it is also important to show how you come to realize something was wrong to begin with. \n",
    "\n",
    "<br> Data Cleaning and EDA - Data was well labelled.\n",
    "\n",
    "<br>  Visualisations - Some plots missing title / y label.\n",
    "\n",
    "<br> Research and Conceptual Understanding - In depth research was done and clearly identified.\n",
    "\n",
    "<br> Presentation - A seasoned presenter with a touch of humour. \n",
    "<br><br>        \n",
    "<h2>Scores</h2> <br>\n",
    "        • Project Organisation: <b>3</b> <br>\n",
    "        • Clarity of Message: <b>3</b> <br>\n",
    "        • Python Syntax and Control Flow: <b>2</b><br>\n",
    "        • Data Cleaning and EDA: <b>3</b><br>\n",
    "        • Visualisations: <b>2</b><br>\n",
    "        • Research and Conceptual Understanding: <b>3</b><br> \n",
    "        • Presentation: <b>3</b><br>\n",
    "    </font>\n",
    "</div>"
   ]
  },
  {
   "cell_type": "markdown",
   "metadata": {},
   "source": [
    "<img src=\"http://imgur.com/1ZcRyrc.png\" style=\"float: left; margin: 20px; height: 55px\">\n",
    "\n",
    "# Project 1: Standardized Test Analysis"
   ]
  },
  {
   "cell_type": "markdown",
   "metadata": {},
   "source": [
    "--- \n",
    "# Part 1\n",
    "\n",
    "Part 1 requires knowledge of basic Python.\n",
    "\n",
    "---"
   ]
  },
  {
   "cell_type": "markdown",
   "metadata": {},
   "source": [
    "## Problem Statement"
   ]
  },
  {
   "cell_type": "markdown",
   "metadata": {},
   "source": [
    "The new format for the SAT was released in March 2016. As an employee of the College Board, my team tracks statewide participation and recommends where money is best spent to improve SAT participation rates. This project will be using the provided data and outside research to make recommendations about how the College Board might work to increase the participation rate in a state or states."
   ]
  },
  {
   "cell_type": "markdown",
   "metadata": {},
   "source": [
    "### Contents:\n",
    "- [Background](#Background)\n",
    "- [Data Import & Cleaning](#Data-Import-and-Cleaning)\n",
    "- [Exploratory Data Analysis](#Exploratory-Data-Analysis)\n",
    "- [Data Visualization](#Visualize-the-Data)\n",
    "- [Conclusions and Recommendations](#Conclusions-and-Recommendations)"
   ]
  },
  {
   "cell_type": "markdown",
   "metadata": {},
   "source": [
    "## Background"
   ]
  },
  {
   "cell_type": "markdown",
   "metadata": {},
   "source": [
    "The SAT and ACT are standardized tests that many colleges and universities in the United States require for their admissions process. This score is used along with other materials such as grade point average (GPA) and essay responses to determine whether or not a potential student will be accepted to the university.\n",
    "\n",
    "The SAT has two sections of the test: Evidence-Based Reading and Writing and Math ([*source*](https://www.princetonreview.com/college/sat-sections)). The ACT has 4 sections: English, Mathematics, Reading, and Science, with an additional optional writing section ([*source*](https://www.act.org/content/act/en/products-and-services/the-act/scores/understanding-your-scores.html)). They have different score ranges, which you can read more about on their websites or additional outside sources (a quick Google search will help you understand the scores for each test):\n",
    "* [SAT](https://collegereadiness.collegeboard.org/sat)\n",
    "* [ACT](https://www.act.org/content/act/en.html)\n",
    "\n",
    "Standardized tests have long been a controversial topic for students, administrators, and legislators. Since the 1940's, an increasing number of colleges have been using scores from sudents' performances on tests like the SAT and the ACT as a measure for college readiness and aptitude ([*source*](https://www.minotdailynews.com/news/local-news/2017/04/a-brief-history-of-the-sat-and-act/)). Supporters of these tests argue that these scores can be used as an objective measure to determine college admittance. Opponents of these tests claim that these tests are not accurate measures of students potential or ability and serve as an inequitable barrier to entry. Lately, more and more schools are opting to drop the SAT/ACT requirement for their Fall 2021 applications ([*read more about this here*](https://www.cnn.com/2020/04/14/us/coronavirus-colleges-sat-act-test-trnd/index.html))."
   ]
  },
  {
   "cell_type": "markdown",
   "metadata": {},
   "source": [
    "* SAT marks range: 0 - 1600\n",
    "* ACT marks range: 1 - 36\n"
   ]
  },
  {
   "cell_type": "markdown",
   "metadata": {},
   "source": [
    "### Choose your Data\n",
    "\n",
    "There are 10 datasets included in the [`data`](./data/) folder for this project. You are required to pick **at least two** of these to complete your analysis. Feel free to use more than two if you would like, or add other relevant datasets you find online.\n",
    "\n",
    "* [`act_2017.csv`](./data/act_2017.csv): 2017 ACT Scores by State\n",
    "* [`act_2018.csv`](./data/act_2018.csv): 2018 ACT Scores by State\n",
    "* [`act_2019.csv`](./data/act_2019.csv): 2019 ACT Scores by State\n",
    "* [`act_2019_ca.csv`](./data/act_2019_ca.csv): 2019 ACT Scores in California by School\n",
    "* [`sat_2017.csv`](./data/sat_2017.csv): 2017 SAT Scores by State\n",
    "* [`sat_2018.csv`](./data/sat_2018.csv): 2018 SAT Scores by State\n",
    "* [`sat_2019.csv`](./data/sat_2019.csv): 2019 SAT Scores by State\n",
    "* [`sat_2019_by_intended_college_major.csv`](./data/sat_2019_by_intended_college_major.csv): 2019 SAT Scores by Intended College Major\n",
    "* [`sat_2019_ca.csv`](./data/sat_2019_ca.csv): 2019 SAT Scores in California by School\n",
    "* [`sat_act_by_college.csv`](./data/sat_act_by_college.csv): Ranges of Accepted ACT & SAT Student Scores by Colleges"
   ]
  },
  {
   "cell_type": "markdown",
   "metadata": {},
   "source": [
    "**Datasets used:** sat_2017.csv, sat_2018.csv, sat_2019.csv, act_2017.csv, act_2018.csv and act_2019.csv"
   ]
  },
  {
   "cell_type": "markdown",
   "metadata": {},
   "source": [
    "**For SAT**"
   ]
  },
  {
   "cell_type": "markdown",
   "metadata": {},
   "source": [
    "There are 5 columns provided in sat_2017.csv, sat_2018.csv and sat_2019.csv. Definitions of the columns are as below:"
   ]
  },
  {
   "cell_type": "markdown",
   "metadata": {},
   "source": [
    "| Values                             | Description                                                 |\n",
    "|------------------------------------|-------------------------------------------------------------|\n",
    "| State                              | The states of America                                       |\n",
    "| Participation                      | The percentage of the students in that state took the test  |\n",
    "| Evidence-Based Reading and Writing | EBRW average mark for the state                             |\n",
    "| Math                               | Math average mark for the state                             |\n",
    "| Total                              | Total = EBRW + Math. This is the average mark for the state |"
   ]
  },
  {
   "cell_type": "markdown",
   "metadata": {},
   "source": [
    "**For ACT**"
   ]
  },
  {
   "cell_type": "markdown",
   "metadata": {},
   "source": [
    "There are 7 columns provided in act_2017.csv. Definitions of the columns are as below:"
   ]
  },
  {
   "cell_type": "markdown",
   "metadata": {},
   "source": [
    "| Values        | Description                                                |\n",
    "|---------------|------------------------------------------------------------|\n",
    "| State         | The states of America                                      |\n",
    "| Participation | The percentage of the students in that state took the test |\n",
    "| English       | The average marks of the English component for ACT in that state |\n",
    "| Math          | The average marks of the Math component for ACT in that state |\n",
    "| Reading       | The average marks of the Reading component for ACT in that state |\n",
    "| Science       | The average marks of the Science component for ACT in that state |\n",
    "| Composite     | Average total marks for the state                          |"
   ]
  },
  {
   "cell_type": "markdown",
   "metadata": {},
   "source": [
    "There are 3 columns provided in act_2018.csv and act_2019.csv. Definitions of the columns are as below:"
   ]
  },
  {
   "cell_type": "markdown",
   "metadata": {},
   "source": [
    "| Values        | Description                                                |\n",
    "|---------------|------------------------------------------------------------|\n",
    "| State         | The states of America                                      |\n",
    "| Participation | The percentage of the students in that state took the test |\n",
    "| Composite     | Average total marks for the state                          |"
   ]
  },
  {
   "cell_type": "markdown",
   "metadata": {},
   "source": [
    "### Outside Research"
   ]
  },
  {
   "cell_type": "markdown",
   "metadata": {},
   "source": [
    "Based on your problem statement and your chosen datasets, spend some time doing outside research on state policies or additional information that might be relevant. Summarize your findings below. If you bring in any outside tables or charts, make sure you are explicit about having borrowed them. If you quote any text, make sure that it renders as being quoted. **Make sure that you cite your sources.**"
   ]
  },
  {
   "cell_type": "markdown",
   "metadata": {},
   "source": [
    "\n",
    "#### Research findings:\n",
    "\n",
    "**1. Best practices to increase SAT participation**\n",
    "* SAT School Day\n",
    "* Covering exam fees for students (partially or full)\n",
    "* Creating a college is for all culture\n",
    "<br>\n",
    "\n",
    "<font size=\"2\">**SAT School Day**</font>\n",
    "<br>\n",
    "SAT School Day is an initiative that allow students to take the SAT test during school day. In that, students with outside school commitments on weekends have a better chance to take the SAT. The availability of SAT School Day is determined by schools and districts. Some SAT School Day provides the SAT for free as well. \n",
    "\n",
    "<font size=\"2\">**Covering exam fees for students**</font>\n",
    "<br>\n",
    "SAT provides fee waivers to low‐income students from the 11th and 12th grade in the U.S. The fee waivers includes registration fees, cancellation fees, change fees and regional fees. There are 2 free SAT tests and 2 changes to access answer services.\n",
    "Sources from College Board.\n",
    "[source](http://sat.collegeboard.org/register/sat‐fee‐waivers)\n",
    "[source](http://sat.collegeboard.org/SAT/public/pdf/counselors‐guide‐to‐sat‐program‐fee‐waivers.pdf)\n",
    "\n",
    "<font size=\"2\">**Creating a college is for all culture**</font>\n",
    "<br>\n",
    "Students also indicated that the counselor is one of the most important influences for participating in the SAT tests. Having the school to adopt a culture that advocate attending college do help in increasing participation as well. \n",
    "<br>\n",
    "<br>\n",
    "\n",
    "**2. Sentiments towards college admissions**\n",
    "<br>\n",
    "The below are pointers taken from a report by CNBC on the college admissions process.([source](https://www.cnbc.com/2019/03/20/under-20percent-of-americans-think-the-college-admissions-process-is-fair.html))\n",
    "\n",
    "According to a USA TODAY/Suffolk University Poll of 1,000 registered voters conducted:\n",
    "* Fewer than one in five Americans believe the college admissions process is “generally fair.”\n",
    "* About 67 percent of respondents said that the current college application and admissions process “favors the rich and powerful.”\n",
    "\n",
    "Researchers have repeatedly found that wealthy students do enjoy significant advantages in the college admissions process.\n",
    "\n",
    "Wealthy students are more likely to have access to tutors, more likely to have taken standardized test preparation classes and more likely to have taken standardized tests like the SAT more than once.\n",
    "<br>\n",
    "<br>\n",
    "\n",
    "**3. Other reasons why states are switching from ACT to SAT**[source](https://www.coloradokids.org/wp-content/uploads/2016/01/ACTvsSAT_FINAL.pdf)\n",
    "<br>\n",
    "* New SAT format is aligned to the Common Core standards in English and Math.\n",
    "* It also measures the skills and knowledge that is critical for college readiness.\n",
    "* The College Board partnered with Khan Academy to provide free, personalized test prep for any student with computer access.\n",
    "\n"
   ]
  },
  {
   "cell_type": "markdown",
   "metadata": {},
   "source": [
    "### Coding Challenges\n",
    "\n",
    "1. Manually calculate mean:\n",
    "\n",
    "    Write a function that takes in values and returns the mean of the values. Create a list of numbers that you test on your function to check to make sure your function works!\n",
    "    \n",
    "    *Note*: Do not use any mean methods built-in to any Python libraries to do this! This should be done without importing any additional libraries."
   ]
  },
  {
   "cell_type": "code",
   "execution_count": 1,
   "metadata": {},
   "outputs": [],
   "source": [
    "def mean_calculator(lst_num):\n",
    "    \n",
    "    return sum(lst_num) / len(lst_num)"
   ]
  },
  {
   "cell_type": "code",
   "execution_count": 2,
   "metadata": {},
   "outputs": [
    {
     "data": {
      "text/plain": [
       "3.0"
      ]
     },
     "execution_count": 2,
     "metadata": {},
     "output_type": "execute_result"
    }
   ],
   "source": [
    "a = [1,2,3,4,5]\n",
    "\n",
    "mean_calculator(a)"
   ]
  },
  {
   "cell_type": "markdown",
   "metadata": {},
   "source": [
    "2. Manually calculate standard deviation:\n",
    "\n",
    "    The formula for standard deviation is below:\n",
    "\n",
    "    $$\\sigma = \\sqrt{\\frac{1}{n}\\sum_{i=1}^n(x_i - \\mu)^2}$$\n",
    "\n",
    "    Where $x_i$ represents each value in the dataset, $\\mu$ represents the mean of all values in the dataset and $n$ represents the number of values in the dataset.\n",
    "\n",
    "    Write a function that takes in values and returns the standard deviation of the values using the formula above. Hint: use the function you wrote above to calculate the mean! Use the list of numbers you created above to test on your function.\n",
    "    \n",
    "    *Note*: Do not use any standard deviation methods built-in to any Python libraries to do this! This should be done without importing any additional libraries."
   ]
  },
  {
   "cell_type": "code",
   "execution_count": 3,
   "metadata": {},
   "outputs": [],
   "source": [
    "def standard_dev(lst_num):\n",
    "    \n",
    "    sum_list = []\n",
    "    \n",
    "    for x in lst_num:\n",
    "        \n",
    "        sum_list.append((x - mean_calculator(lst_num))**2)\n",
    "        \n",
    "    return (sum(sum_list)/len(lst_num))**(1/2)"
   ]
  },
  {
   "cell_type": "code",
   "execution_count": 4,
   "metadata": {},
   "outputs": [
    {
     "data": {
      "text/plain": [
       "1.4142135623730951"
      ]
     },
     "execution_count": 4,
     "metadata": {},
     "output_type": "execute_result"
    }
   ],
   "source": [
    "a = [1,2,3,4,5]\n",
    "standard_dev(a)"
   ]
  },
  {
   "cell_type": "markdown",
   "metadata": {},
   "source": [
    "3. Data cleaning function:\n",
    "    \n",
    "    Write a function that takes in a string that is a number and a percent symbol (ex. '50%', '30.5%', etc.) and converts this to a float that is the decimal approximation of the percent. For example, inputting '50%' in your function should return 0.5, '30.5%' should return 0.305, etc. Make sure to test your function to make sure it works!\n",
    "\n",
    "You will use these functions later on in the project!"
   ]
  },
  {
   "cell_type": "code",
   "execution_count": 5,
   "metadata": {},
   "outputs": [],
   "source": [
    "def percentage_convertor(n):\n",
    "    \n",
    "    return float(n.replace('%',''))/100"
   ]
  },
  {
   "cell_type": "code",
   "execution_count": 6,
   "metadata": {
    "scrolled": true
   },
   "outputs": [
    {
     "data": {
      "text/plain": [
       "0.3"
      ]
     },
     "execution_count": 6,
     "metadata": {},
     "output_type": "execute_result"
    }
   ],
   "source": [
    "n = '30%'\n",
    "percentage_convertor(n)"
   ]
  },
  {
   "cell_type": "markdown",
   "metadata": {},
   "source": [
    "<div class=\"alert alert-block alert-info\">\n",
    "<b>Comment:</b> Good job writing the custom functions!</div>"
   ]
  },
  {
   "cell_type": "markdown",
   "metadata": {},
   "source": [
    "--- \n",
    "# Part 2\n",
    "\n",
    "Part 2 requires knowledge of Pandas, EDA, data cleaning, and data visualization.\n",
    "\n",
    "---"
   ]
  },
  {
   "cell_type": "markdown",
   "metadata": {},
   "source": [
    "*All libraries used should be added here*"
   ]
  },
  {
   "cell_type": "code",
   "execution_count": 7,
   "metadata": {},
   "outputs": [],
   "source": [
    "import numpy as np\n",
    "import seaborn as sns\n",
    "import matplotlib.pyplot as plt\n",
    "import matplotlib.lines as mlines\n",
    "import pandas as pd"
   ]
  },
  {
   "cell_type": "markdown",
   "metadata": {},
   "source": [
    "## Data Import and Cleaning"
   ]
  },
  {
   "cell_type": "markdown",
   "metadata": {},
   "source": [
    "### Data Import & Cleaning\n",
    "\n",
    "Import the datasets that you selected for this project and go through the following steps at a minimum. You are welcome to do further cleaning as you feel necessary:\n",
    "1. Display the data: print the first 5 rows of each dataframe to your Jupyter notebook.\n",
    "2. Check for missing values.\n",
    "3. Check for any obvious issues with the observations (keep in mind the minimum & maximum possible values for each test/subtest).\n",
    "4. Fix any errors you identified in steps 2-3.\n",
    "5. Display the data types of each feature.\n",
    "6. Fix any incorrect data types found in step 5.\n",
    "    - Fix any individual values preventing other columns from being the appropriate type.\n",
    "    - If your dataset has a column of percents (ex. '50%', '30.5%', etc.), use the function you wrote in Part 1 (coding challenges, number 3) to convert this to floats! *Hint*: use `.map()` or `.apply()`.\n",
    "7. Rename Columns.\n",
    "    - Column names should be all lowercase.\n",
    "    - Column names should not contain spaces (underscores will suffice--this allows for using the `df.column_name` method to access columns in addition to `df['column_name']`).\n",
    "    - Column names should be unique and informative.\n",
    "8. Drop unnecessary rows (if needed).\n",
    "9. Merge dataframes that can be merged.\n",
    "10. Perform any additional cleaning that you feel is necessary.\n",
    "11. Save your cleaned and merged dataframes as csv files."
   ]
  },
  {
   "cell_type": "code",
   "execution_count": 8,
   "metadata": {},
   "outputs": [],
   "source": [
    "sat_17 = pd.read_csv('../data/sat_2017.csv')\n",
    "sat_18 = pd.read_csv('../data/sat_2018.csv')\n",
    "sat_19 = pd.read_csv('../data/sat_2019.csv')\n",
    "act_17 = pd.read_csv('../data/act_2017.csv')\n",
    "act_18 = pd.read_csv('../data/act_2018.csv')\n",
    "act_19 = pd.read_csv('../data/act_2019.csv')"
   ]
  },
  {
   "cell_type": "code",
   "execution_count": 9,
   "metadata": {},
   "outputs": [],
   "source": [
    "def sat_cleaning_tool(df):\n",
    "    \n",
    "    # To amend the column names\n",
    "    \n",
    "    df.columns = df.columns.str.replace(' ','_')\n",
    "    df.columns = df.columns.str.lower()\n",
    "    \n",
    "    \n",
    "    # To find the pariticipation column and change the values from % string to float\n",
    "    \n",
    "    parti_col = [col for col in df.columns if 'parti' in col]    \n",
    "    df[parti_col] = df[parti_col].applymap(percentage_convertor)\n",
    "    \n",
    "    \n",
    "    # To replace the column names when applicable\n",
    "    \n",
    "    df.columns = df.columns.str.replace('participation', 'sat_participation')\n",
    "    df.columns = df.columns.str.replace('evidence-based_reading_and_writing', 'ebrw')"
   ]
  },
  {
   "cell_type": "code",
   "execution_count": 10,
   "metadata": {},
   "outputs": [],
   "source": [
    "# This function is the same as above, just that this is for act\n",
    "\n",
    "def act_cleaning_tool(df): \n",
    "    \n",
    "    df.columns = df.columns.str.replace(' ','_')\n",
    "    df.columns = df.columns.str.lower()\n",
    "    \n",
    "    parti_col = [col for col in df.columns if 'parti' in col]\n",
    "    df[parti_col] = df[parti_col].applymap(percentage_convertor)\n",
    "    \n",
    "    df.columns = df.columns.str.replace('participation', 'act_participation')"
   ]
  },
  {
   "cell_type": "code",
   "execution_count": 11,
   "metadata": {},
   "outputs": [],
   "source": [
    "def check_values(df):\n",
    "    \n",
    "    total = df['math'] + df['ebrw']\n",
    "    \n",
    "    df_names = { \n",
    "        'check_math' : df[~df['math'].between(200,800)],     # To check if the marks are within range\n",
    "        'check_ebrw': df[~df['ebrw'].between(200,800)],\n",
    "        'check_total' : df[~df['total'].between(400,1600)],\n",
    "        'check_calculation' : df[df['total'] - total > 1]}   # To check if the math + ebrw = total\n",
    "    \n",
    "    for k,i in df_names.items():\n",
    "        \n",
    "        if not i.empty:\n",
    "            \n",
    "            print(k)\n",
    "            print(i)\n",
    "            print(' ')\n",
    "            \n",
    "        else:\n",
    "            \n",
    "            print(k + ' good!')\n",
    "            print(' ')\n"
   ]
  },
  {
   "cell_type": "code",
   "execution_count": 12,
   "metadata": {},
   "outputs": [],
   "source": [
    "sat_cleaning_tool(sat_17)"
   ]
  },
  {
   "cell_type": "code",
   "execution_count": 13,
   "metadata": {},
   "outputs": [],
   "source": [
    "sat_cleaning_tool(sat_18)"
   ]
  },
  {
   "cell_type": "code",
   "execution_count": 14,
   "metadata": {},
   "outputs": [],
   "source": [
    "sat_19.drop([39,47],axis=0,inplace=True) # To drop unwanted data"
   ]
  },
  {
   "cell_type": "markdown",
   "metadata": {},
   "source": [
    "<div class=\"alert alert-block alert-info\">\n",
    "<b>Comment:</b> Do show how you come to decide these data are \"unwanted\".</div>"
   ]
  },
  {
   "cell_type": "code",
   "execution_count": 15,
   "metadata": {},
   "outputs": [],
   "source": [
    "sat_cleaning_tool(sat_19)"
   ]
  },
  {
   "cell_type": "code",
   "execution_count": 16,
   "metadata": {},
   "outputs": [
    {
     "name": "stdout",
     "output_type": "stream",
     "text": [
      "check_math\n",
      "       state  sat_participation  ebrw  math  total\n",
      "20  Maryland               0.69   536    52   1060\n",
      " \n",
      "check_ebrw good!\n",
      " \n",
      "check_total good!\n",
      " \n",
      "check_calculation\n",
      "       state  sat_participation  ebrw  math  total\n",
      "20  Maryland               0.69   536    52   1060\n",
      " \n"
     ]
    }
   ],
   "source": [
    "check_values(sat_17)"
   ]
  },
  {
   "cell_type": "code",
   "execution_count": 17,
   "metadata": {},
   "outputs": [],
   "source": [
    "sat_17.loc[20,'math'] = sat_17.loc[20,'total'] - sat_17.loc[20,'ebrw'] # To amend the wrong 'math' value in Maryland"
   ]
  },
  {
   "cell_type": "code",
   "execution_count": 18,
   "metadata": {},
   "outputs": [
    {
     "name": "stdout",
     "output_type": "stream",
     "text": [
      "check_math good!\n",
      " \n",
      "check_ebrw good!\n",
      " \n",
      "check_total good!\n",
      " \n",
      "check_calculation good!\n",
      " \n"
     ]
    }
   ],
   "source": [
    "check_values(sat_17)"
   ]
  },
  {
   "cell_type": "code",
   "execution_count": 19,
   "metadata": {},
   "outputs": [
    {
     "name": "stdout",
     "output_type": "stream",
     "text": [
      "check_math good!\n",
      " \n",
      "check_ebrw good!\n",
      " \n",
      "check_total good!\n",
      " \n",
      "check_calculation good!\n",
      " \n"
     ]
    }
   ],
   "source": [
    "check_values(sat_18)"
   ]
  },
  {
   "cell_type": "code",
   "execution_count": 20,
   "metadata": {},
   "outputs": [],
   "source": [
    "sat_19.rename(columns = {\n",
    "    'sat_participation_rate' : 'sat_participation'}, \n",
    "    inplace = True)"
   ]
  },
  {
   "cell_type": "code",
   "execution_count": 21,
   "metadata": {},
   "outputs": [
    {
     "name": "stdout",
     "output_type": "stream",
     "text": [
      "check_math good!\n",
      " \n",
      "check_ebrw good!\n",
      " \n",
      "check_total good!\n",
      " \n",
      "check_calculation good!\n",
      " \n"
     ]
    }
   ],
   "source": [
    "check_values(sat_19)"
   ]
  },
  {
   "cell_type": "code",
   "execution_count": 22,
   "metadata": {},
   "outputs": [],
   "source": [
    "act_cleaning_tool(act_17)"
   ]
  },
  {
   "cell_type": "code",
   "execution_count": 23,
   "metadata": {},
   "outputs": [],
   "source": [
    "act_cleaning_tool(act_18)"
   ]
  },
  {
   "cell_type": "code",
   "execution_count": 24,
   "metadata": {},
   "outputs": [],
   "source": [
    "act_cleaning_tool(act_19)"
   ]
  },
  {
   "cell_type": "code",
   "execution_count": 25,
   "metadata": {},
   "outputs": [],
   "source": [
    "# To drop unwanted data\n",
    "\n",
    "act_17.drop(['english',\n",
    "             'math',\n",
    "             'reading',\n",
    "             'science'], \n",
    "            \n",
    "            axis=1, \n",
    "            inplace=True)"
   ]
  },
  {
   "cell_type": "code",
   "execution_count": 26,
   "metadata": {},
   "outputs": [],
   "source": [
    "act_17.loc[51,'composite'] = 20.2  # To amend the wrong 'composite' value for index 51"
   ]
  },
  {
   "cell_type": "code",
   "execution_count": 27,
   "metadata": {},
   "outputs": [],
   "source": [
    "act_18.drop_duplicates(keep='first', inplace = True)"
   ]
  },
  {
   "cell_type": "code",
   "execution_count": 28,
   "metadata": {},
   "outputs": [],
   "source": [
    "act_18.loc[8,'state'] = 'District of Columbia' # To amend the wrong 'state' value for index 8"
   ]
  },
  {
   "cell_type": "markdown",
   "metadata": {},
   "source": [
    "<div class=\"alert alert-block alert-info\">\n",
    "<b>Comment:</b> Do show how you come to decide on the above 3 cells. </div>"
   ]
  },
  {
   "cell_type": "code",
   "execution_count": 29,
   "metadata": {},
   "outputs": [],
   "source": [
    "sat_act_17 = pd.merge(left = sat_17,\n",
    "                      right = act_17,\n",
    "                      on = 'state')"
   ]
  },
  {
   "cell_type": "code",
   "execution_count": 30,
   "metadata": {},
   "outputs": [
    {
     "data": {
      "text/plain": [
       "'C:\\\\Users\\\\cheon\\\\OneDrive\\\\Documents\\\\GA_DSI\\\\dsi30-projects\\\\project_1\\\\code'"
      ]
     },
     "execution_count": 30,
     "metadata": {},
     "output_type": "execute_result"
    }
   ],
   "source": [
    "pwd"
   ]
  },
  {
   "cell_type": "code",
   "execution_count": 31,
   "metadata": {},
   "outputs": [
    {
     "name": "stdout",
     "output_type": "stream",
     "text": [
      "C:\\Users\\cheon\\OneDrive\\Documents\\GA_DSI\\dsi30-projects\\project_1\n"
     ]
    }
   ],
   "source": [
    "cd .."
   ]
  },
  {
   "cell_type": "code",
   "execution_count": 32,
   "metadata": {},
   "outputs": [],
   "source": [
    "sat_act_17.to_csv('data/sat_act_17.csv', index = False)"
   ]
  },
  {
   "cell_type": "markdown",
   "metadata": {},
   "source": [
    "<div class=\"alert alert-block alert-info\">\n",
    "<b>Comment:</b> When submitting work in a remote repository, it is recommended not to reference your local machine (C drive) <br> A quick and efficient way to navigate the above is shown below: </div>"
   ]
  },
  {
   "cell_type": "code",
   "execution_count": null,
   "metadata": {},
   "outputs": [],
   "source": [
    "# sat_act_17.to_csv('../data/sat_act_17.csv', index = False)"
   ]
  },
  {
   "cell_type": "code",
   "execution_count": 33,
   "metadata": {},
   "outputs": [],
   "source": [
    "sat_act_18 = pd.merge(left = sat_18,\n",
    "                    right = act_18,\n",
    "                    on = 'state')"
   ]
  },
  {
   "cell_type": "code",
   "execution_count": 34,
   "metadata": {},
   "outputs": [],
   "source": [
    "sat_act_18.to_csv('data/sat_act_18.csv', index = False)"
   ]
  },
  {
   "cell_type": "code",
   "execution_count": 35,
   "metadata": {},
   "outputs": [],
   "source": [
    "sat_act_19 = pd.merge(left = sat_19,\n",
    "                    right = act_19,\n",
    "                    on = 'state')"
   ]
  },
  {
   "cell_type": "code",
   "execution_count": 36,
   "metadata": {},
   "outputs": [],
   "source": [
    "sat_act_19.to_csv('data/sat_act_19.csv', index = False)"
   ]
  },
  {
   "cell_type": "code",
   "execution_count": 37,
   "metadata": {},
   "outputs": [],
   "source": [
    "sat_act_17_18_19 = pd.merge(\n",
    "    \n",
    "                    pd.merge(                  # Inner merge function to merge 2017 and 2018 data\n",
    "                    left = sat_act_17,\n",
    "                    right = sat_act_18,\n",
    "                    suffixes = ('_17', '_18'),\n",
    "                    on = 'state'),\n",
    "    \n",
    "                    sat_act_19,                # Outer merge function to merge (merged 2017 and 2018 data) with 2019 data\n",
    "                    on = 'state')"
   ]
  },
  {
   "cell_type": "code",
   "execution_count": 38,
   "metadata": {},
   "outputs": [
    {
     "data": {
      "text/html": [
       "<div>\n",
       "<style scoped>\n",
       "    .dataframe tbody tr th:only-of-type {\n",
       "        vertical-align: middle;\n",
       "    }\n",
       "\n",
       "    .dataframe tbody tr th {\n",
       "        vertical-align: top;\n",
       "    }\n",
       "\n",
       "    .dataframe thead th {\n",
       "        text-align: right;\n",
       "    }\n",
       "</style>\n",
       "<table border=\"1\" class=\"dataframe\">\n",
       "  <thead>\n",
       "    <tr style=\"text-align: right;\">\n",
       "      <th></th>\n",
       "      <th>state</th>\n",
       "      <th>sat_participation_17</th>\n",
       "      <th>ebrw_17</th>\n",
       "      <th>math_17</th>\n",
       "      <th>total_17</th>\n",
       "      <th>act_participation_17</th>\n",
       "      <th>composite_17</th>\n",
       "      <th>sat_participation_18</th>\n",
       "      <th>ebrw_18</th>\n",
       "      <th>math_18</th>\n",
       "      <th>total_18</th>\n",
       "      <th>act_participation_18</th>\n",
       "      <th>composite_18</th>\n",
       "      <th>sat_participation</th>\n",
       "      <th>ebrw</th>\n",
       "      <th>math</th>\n",
       "      <th>total</th>\n",
       "      <th>act_participation</th>\n",
       "      <th>composite</th>\n",
       "    </tr>\n",
       "  </thead>\n",
       "  <tbody>\n",
       "    <tr>\n",
       "      <th>0</th>\n",
       "      <td>Alabama</td>\n",
       "      <td>0.05</td>\n",
       "      <td>593</td>\n",
       "      <td>572</td>\n",
       "      <td>1165</td>\n",
       "      <td>1.00</td>\n",
       "      <td>19.2</td>\n",
       "      <td>0.06</td>\n",
       "      <td>595</td>\n",
       "      <td>571</td>\n",
       "      <td>1166</td>\n",
       "      <td>1.00</td>\n",
       "      <td>19.1</td>\n",
       "      <td>0.07</td>\n",
       "      <td>583</td>\n",
       "      <td>560</td>\n",
       "      <td>1143</td>\n",
       "      <td>1.00</td>\n",
       "      <td>18.9</td>\n",
       "    </tr>\n",
       "    <tr>\n",
       "      <th>1</th>\n",
       "      <td>Alaska</td>\n",
       "      <td>0.38</td>\n",
       "      <td>547</td>\n",
       "      <td>533</td>\n",
       "      <td>1080</td>\n",
       "      <td>0.65</td>\n",
       "      <td>19.8</td>\n",
       "      <td>0.43</td>\n",
       "      <td>562</td>\n",
       "      <td>544</td>\n",
       "      <td>1106</td>\n",
       "      <td>0.33</td>\n",
       "      <td>20.8</td>\n",
       "      <td>0.41</td>\n",
       "      <td>556</td>\n",
       "      <td>541</td>\n",
       "      <td>1097</td>\n",
       "      <td>0.38</td>\n",
       "      <td>20.1</td>\n",
       "    </tr>\n",
       "    <tr>\n",
       "      <th>2</th>\n",
       "      <td>Arizona</td>\n",
       "      <td>0.30</td>\n",
       "      <td>563</td>\n",
       "      <td>553</td>\n",
       "      <td>1116</td>\n",
       "      <td>0.62</td>\n",
       "      <td>19.7</td>\n",
       "      <td>0.29</td>\n",
       "      <td>577</td>\n",
       "      <td>572</td>\n",
       "      <td>1149</td>\n",
       "      <td>0.66</td>\n",
       "      <td>19.2</td>\n",
       "      <td>0.31</td>\n",
       "      <td>569</td>\n",
       "      <td>565</td>\n",
       "      <td>1134</td>\n",
       "      <td>0.73</td>\n",
       "      <td>19.0</td>\n",
       "    </tr>\n",
       "    <tr>\n",
       "      <th>3</th>\n",
       "      <td>Arkansas</td>\n",
       "      <td>0.03</td>\n",
       "      <td>614</td>\n",
       "      <td>594</td>\n",
       "      <td>1208</td>\n",
       "      <td>1.00</td>\n",
       "      <td>19.4</td>\n",
       "      <td>0.05</td>\n",
       "      <td>592</td>\n",
       "      <td>576</td>\n",
       "      <td>1169</td>\n",
       "      <td>1.00</td>\n",
       "      <td>19.4</td>\n",
       "      <td>0.06</td>\n",
       "      <td>582</td>\n",
       "      <td>559</td>\n",
       "      <td>1141</td>\n",
       "      <td>1.00</td>\n",
       "      <td>19.3</td>\n",
       "    </tr>\n",
       "    <tr>\n",
       "      <th>4</th>\n",
       "      <td>California</td>\n",
       "      <td>0.53</td>\n",
       "      <td>531</td>\n",
       "      <td>524</td>\n",
       "      <td>1055</td>\n",
       "      <td>0.31</td>\n",
       "      <td>22.8</td>\n",
       "      <td>0.60</td>\n",
       "      <td>540</td>\n",
       "      <td>536</td>\n",
       "      <td>1076</td>\n",
       "      <td>0.27</td>\n",
       "      <td>22.7</td>\n",
       "      <td>0.63</td>\n",
       "      <td>534</td>\n",
       "      <td>531</td>\n",
       "      <td>1065</td>\n",
       "      <td>0.23</td>\n",
       "      <td>22.6</td>\n",
       "    </tr>\n",
       "  </tbody>\n",
       "</table>\n",
       "</div>"
      ],
      "text/plain": [
       "        state  sat_participation_17  ebrw_17  math_17  total_17  \\\n",
       "0     Alabama                  0.05      593      572      1165   \n",
       "1      Alaska                  0.38      547      533      1080   \n",
       "2     Arizona                  0.30      563      553      1116   \n",
       "3    Arkansas                  0.03      614      594      1208   \n",
       "4  California                  0.53      531      524      1055   \n",
       "\n",
       "   act_participation_17 composite_17  sat_participation_18  ebrw_18  math_18  \\\n",
       "0                  1.00         19.2                  0.06      595      571   \n",
       "1                  0.65         19.8                  0.43      562      544   \n",
       "2                  0.62         19.7                  0.29      577      572   \n",
       "3                  1.00         19.4                  0.05      592      576   \n",
       "4                  0.31         22.8                  0.60      540      536   \n",
       "\n",
       "   total_18  act_participation_18  composite_18  sat_participation  ebrw  \\\n",
       "0      1166                  1.00          19.1               0.07   583   \n",
       "1      1106                  0.33          20.8               0.41   556   \n",
       "2      1149                  0.66          19.2               0.31   569   \n",
       "3      1169                  1.00          19.4               0.06   582   \n",
       "4      1076                  0.27          22.7               0.63   534   \n",
       "\n",
       "   math  total  act_participation  composite  \n",
       "0   560   1143               1.00       18.9  \n",
       "1   541   1097               0.38       20.1  \n",
       "2   565   1134               0.73       19.0  \n",
       "3   559   1141               1.00       19.3  \n",
       "4   531   1065               0.23       22.6  "
      ]
     },
     "execution_count": 38,
     "metadata": {},
     "output_type": "execute_result"
    }
   ],
   "source": [
    "sat_act_17_18_19.head()"
   ]
  },
  {
   "cell_type": "code",
   "execution_count": 39,
   "metadata": {},
   "outputs": [],
   "source": [
    "new_name = {\n",
    "    'sat_participation': 'sat_participation_19',\n",
    "    'ebrw': 'ebrw_19',\n",
    "    'math': 'math_19',\n",
    "    'total': 'total_19',\n",
    "    'act_participation': 'act_participation_19',\n",
    "    'composite': 'composite_19',\n",
    "}\n",
    "\n"
   ]
  },
  {
   "cell_type": "code",
   "execution_count": 40,
   "metadata": {},
   "outputs": [],
   "source": [
    "sat_act_17_18_19.rename(columns = new_name, inplace=True)  # For inserting the '_19' suffix to the 2019 columns in the merged file"
   ]
  },
  {
   "cell_type": "code",
   "execution_count": 41,
   "metadata": {},
   "outputs": [
    {
     "data": {
      "text/html": [
       "<div>\n",
       "<style scoped>\n",
       "    .dataframe tbody tr th:only-of-type {\n",
       "        vertical-align: middle;\n",
       "    }\n",
       "\n",
       "    .dataframe tbody tr th {\n",
       "        vertical-align: top;\n",
       "    }\n",
       "\n",
       "    .dataframe thead th {\n",
       "        text-align: right;\n",
       "    }\n",
       "</style>\n",
       "<table border=\"1\" class=\"dataframe\">\n",
       "  <thead>\n",
       "    <tr style=\"text-align: right;\">\n",
       "      <th></th>\n",
       "      <th>state</th>\n",
       "      <th>sat_participation_17</th>\n",
       "      <th>ebrw_17</th>\n",
       "      <th>math_17</th>\n",
       "      <th>total_17</th>\n",
       "      <th>act_participation_17</th>\n",
       "      <th>composite_17</th>\n",
       "      <th>sat_participation_18</th>\n",
       "      <th>ebrw_18</th>\n",
       "      <th>math_18</th>\n",
       "      <th>total_18</th>\n",
       "      <th>act_participation_18</th>\n",
       "      <th>composite_18</th>\n",
       "      <th>sat_participation_19</th>\n",
       "      <th>ebrw_19</th>\n",
       "      <th>math_19</th>\n",
       "      <th>total_19</th>\n",
       "      <th>act_participation_19</th>\n",
       "      <th>composite_19</th>\n",
       "    </tr>\n",
       "  </thead>\n",
       "  <tbody>\n",
       "    <tr>\n",
       "      <th>0</th>\n",
       "      <td>Alabama</td>\n",
       "      <td>0.05</td>\n",
       "      <td>593</td>\n",
       "      <td>572</td>\n",
       "      <td>1165</td>\n",
       "      <td>1.00</td>\n",
       "      <td>19.2</td>\n",
       "      <td>0.06</td>\n",
       "      <td>595</td>\n",
       "      <td>571</td>\n",
       "      <td>1166</td>\n",
       "      <td>1.00</td>\n",
       "      <td>19.1</td>\n",
       "      <td>0.07</td>\n",
       "      <td>583</td>\n",
       "      <td>560</td>\n",
       "      <td>1143</td>\n",
       "      <td>1.00</td>\n",
       "      <td>18.9</td>\n",
       "    </tr>\n",
       "    <tr>\n",
       "      <th>1</th>\n",
       "      <td>Alaska</td>\n",
       "      <td>0.38</td>\n",
       "      <td>547</td>\n",
       "      <td>533</td>\n",
       "      <td>1080</td>\n",
       "      <td>0.65</td>\n",
       "      <td>19.8</td>\n",
       "      <td>0.43</td>\n",
       "      <td>562</td>\n",
       "      <td>544</td>\n",
       "      <td>1106</td>\n",
       "      <td>0.33</td>\n",
       "      <td>20.8</td>\n",
       "      <td>0.41</td>\n",
       "      <td>556</td>\n",
       "      <td>541</td>\n",
       "      <td>1097</td>\n",
       "      <td>0.38</td>\n",
       "      <td>20.1</td>\n",
       "    </tr>\n",
       "    <tr>\n",
       "      <th>2</th>\n",
       "      <td>Arizona</td>\n",
       "      <td>0.30</td>\n",
       "      <td>563</td>\n",
       "      <td>553</td>\n",
       "      <td>1116</td>\n",
       "      <td>0.62</td>\n",
       "      <td>19.7</td>\n",
       "      <td>0.29</td>\n",
       "      <td>577</td>\n",
       "      <td>572</td>\n",
       "      <td>1149</td>\n",
       "      <td>0.66</td>\n",
       "      <td>19.2</td>\n",
       "      <td>0.31</td>\n",
       "      <td>569</td>\n",
       "      <td>565</td>\n",
       "      <td>1134</td>\n",
       "      <td>0.73</td>\n",
       "      <td>19.0</td>\n",
       "    </tr>\n",
       "    <tr>\n",
       "      <th>3</th>\n",
       "      <td>Arkansas</td>\n",
       "      <td>0.03</td>\n",
       "      <td>614</td>\n",
       "      <td>594</td>\n",
       "      <td>1208</td>\n",
       "      <td>1.00</td>\n",
       "      <td>19.4</td>\n",
       "      <td>0.05</td>\n",
       "      <td>592</td>\n",
       "      <td>576</td>\n",
       "      <td>1169</td>\n",
       "      <td>1.00</td>\n",
       "      <td>19.4</td>\n",
       "      <td>0.06</td>\n",
       "      <td>582</td>\n",
       "      <td>559</td>\n",
       "      <td>1141</td>\n",
       "      <td>1.00</td>\n",
       "      <td>19.3</td>\n",
       "    </tr>\n",
       "    <tr>\n",
       "      <th>4</th>\n",
       "      <td>California</td>\n",
       "      <td>0.53</td>\n",
       "      <td>531</td>\n",
       "      <td>524</td>\n",
       "      <td>1055</td>\n",
       "      <td>0.31</td>\n",
       "      <td>22.8</td>\n",
       "      <td>0.60</td>\n",
       "      <td>540</td>\n",
       "      <td>536</td>\n",
       "      <td>1076</td>\n",
       "      <td>0.27</td>\n",
       "      <td>22.7</td>\n",
       "      <td>0.63</td>\n",
       "      <td>534</td>\n",
       "      <td>531</td>\n",
       "      <td>1065</td>\n",
       "      <td>0.23</td>\n",
       "      <td>22.6</td>\n",
       "    </tr>\n",
       "  </tbody>\n",
       "</table>\n",
       "</div>"
      ],
      "text/plain": [
       "        state  sat_participation_17  ebrw_17  math_17  total_17  \\\n",
       "0     Alabama                  0.05      593      572      1165   \n",
       "1      Alaska                  0.38      547      533      1080   \n",
       "2     Arizona                  0.30      563      553      1116   \n",
       "3    Arkansas                  0.03      614      594      1208   \n",
       "4  California                  0.53      531      524      1055   \n",
       "\n",
       "   act_participation_17 composite_17  sat_participation_18  ebrw_18  math_18  \\\n",
       "0                  1.00         19.2                  0.06      595      571   \n",
       "1                  0.65         19.8                  0.43      562      544   \n",
       "2                  0.62         19.7                  0.29      577      572   \n",
       "3                  1.00         19.4                  0.05      592      576   \n",
       "4                  0.31         22.8                  0.60      540      536   \n",
       "\n",
       "   total_18  act_participation_18  composite_18  sat_participation_19  \\\n",
       "0      1166                  1.00          19.1                  0.07   \n",
       "1      1106                  0.33          20.8                  0.41   \n",
       "2      1149                  0.66          19.2                  0.31   \n",
       "3      1169                  1.00          19.4                  0.06   \n",
       "4      1076                  0.27          22.7                  0.63   \n",
       "\n",
       "   ebrw_19  math_19  total_19  act_participation_19  composite_19  \n",
       "0      583      560      1143                  1.00          18.9  \n",
       "1      556      541      1097                  0.38          20.1  \n",
       "2      569      565      1134                  0.73          19.0  \n",
       "3      582      559      1141                  1.00          19.3  \n",
       "4      534      531      1065                  0.23          22.6  "
      ]
     },
     "execution_count": 41,
     "metadata": {},
     "output_type": "execute_result"
    }
   ],
   "source": [
    "sat_act_17_18_19.head()"
   ]
  },
  {
   "cell_type": "code",
   "execution_count": 42,
   "metadata": {},
   "outputs": [],
   "source": [
    "sat_act_17_18_19.to_csv('data/sat_act_17_18_19.csv', index = False)"
   ]
  },
  {
   "cell_type": "markdown",
   "metadata": {
    "tags": []
   },
   "source": [
    "### Data Dictionary\n",
    "\n",
    "Now that we've fixed our data, and given it appropriate names, let's create a [data dictionary](http://library.ucmerced.edu/node/10249). \n",
    "\n",
    "A data dictionary provides a quick overview of features/variables/columns, alongside data types and descriptions. The more descriptive you can be, the more useful this document is.\n",
    "\n",
    "Example of a Fictional Data Dictionary Entry: \n",
    "\n",
    "|Feature|Type|Dataset|Description|\n",
    "|---|---|---|---|\n",
    "|**county_pop**|*integer*|2010 census|The population of the county (units in thousands, where 2.5 represents 2500 people).| \n",
    "|**per_poverty**|*float*|2010 census|The percent of the county over the age of 18 living below the 200% of official US poverty rate (units percent to two decimal places 98.10 means 98.1%)|\n",
    "\n",
    "[Here's a quick link to a short guide for formatting markdown in Jupyter notebooks](https://jupyter-notebook.readthedocs.io/en/stable/examples/Notebook/Working%20With%20Markdown%20Cells.html).\n",
    "\n",
    "Provided is the skeleton for formatting a markdown table, with columns headers that will help you create a data dictionary to quickly summarize your data, as well as some examples. **This would be a great thing to copy and paste into your custom README for this project.**\n",
    "\n",
    "*Note*: if you are unsure of what a feature is, check the source of the data! This can be found in the README."
   ]
  },
  {
   "cell_type": "markdown",
   "metadata": {
    "tags": []
   },
   "source": [
    "|Feature|Type|Dataset|Description|\n",
    "|---|---|---|---|\n",
    "| state                              | object  | ACT/SAT  | The states of America\n",
    "| suffix                             | String  | ACT/SAT  | Indicates the year: 2017, 2018, 2019\n",
    "| sat_participation                  | float   | SAT      | The percentage of students in the state who have taken the SAT\n",
    "| ebrw                               | int     | SAT      | evidence-based_reading_and_writing  average mark for the state (Marks range: 200 - 800)\n",
    "| math                               | int     | SAT      | Math average mark for the state (Marks range: 200 - 800)                            \n",
    "| total                              | int     | SAT      | This is the average total SAT mark for the state (Marks range: 400 - 1600)\n",
    "| act_participation                  | int     | ACT      | The percentage of students in the state who have taken the ACT\n",
    "| composite                          | float   | ACT      | This is the average total ACT mark for the state (Marks range: 1 - 36)"
   ]
  },
  {
   "cell_type": "markdown",
   "metadata": {},
   "source": [
    "## Exploratory Data Analysis\n",
    "\n",
    "Complete the following steps to explore your data. You are welcome to do more EDA than the steps outlined here as you feel necessary:\n",
    "1. Summary Statistics.\n",
    "2. Use a **dictionary comprehension** to apply the standard deviation function you create in part 1 to each numeric column in the dataframe.  **No loops**.\n",
    "    - Assign the output to variable `sd` as a dictionary where: \n",
    "        - Each column name is now a key \n",
    "        - That standard deviation of the column is the value \n",
    "        - *Example Output :* `{'ACT_Math': 120, 'ACT_Reading': 120, ...}`\n",
    "3. Investigate trends in the data.\n",
    "    - Using sorting and/or masking (along with the `.head()` method to avoid printing our entire dataframe), consider questions relevant to your problem statement. Some examples are provided below (but feel free to change these questions for your specific problem):\n",
    "        - Which states have the highest and lowest participation rates for the 2017, 2018, or 2019 SAT and ACT?\n",
    "        - Which states have the highest and lowest mean total/composite scores for the 2017, 2018, or 2019 SAT and ACT?\n",
    "        - Do any states with 100% participation on a given test have a rate change year-to-year?\n",
    "        - Do any states show have >50% participation on *both* tests each year?\n",
    "        - Which colleges have the highest median SAT and ACT scores for admittance?\n",
    "        - Which California school districts have the highest and lowest mean test scores?\n",
    "    - **You should comment on your findings at each step in a markdown cell below your code block**. Make sure you include at least one example of sorting your dataframe by a column, and one example of using boolean filtering (i.e., masking) to select a subset of the dataframe."
   ]
  },
  {
   "cell_type": "markdown",
   "metadata": {},
   "source": [
    "\n",
    "**Summary Statistics**"
   ]
  },
  {
   "cell_type": "code",
   "execution_count": 43,
   "metadata": {},
   "outputs": [
    {
     "data": {
      "text/html": [
       "<div>\n",
       "<style scoped>\n",
       "    .dataframe tbody tr th:only-of-type {\n",
       "        vertical-align: middle;\n",
       "    }\n",
       "\n",
       "    .dataframe tbody tr th {\n",
       "        vertical-align: top;\n",
       "    }\n",
       "\n",
       "    .dataframe thead th {\n",
       "        text-align: right;\n",
       "    }\n",
       "</style>\n",
       "<table border=\"1\" class=\"dataframe\">\n",
       "  <thead>\n",
       "    <tr style=\"text-align: right;\">\n",
       "      <th></th>\n",
       "      <th>count</th>\n",
       "      <th>mean</th>\n",
       "      <th>std</th>\n",
       "      <th>min</th>\n",
       "      <th>25%</th>\n",
       "      <th>50%</th>\n",
       "      <th>75%</th>\n",
       "      <th>max</th>\n",
       "    </tr>\n",
       "  </thead>\n",
       "  <tbody>\n",
       "    <tr>\n",
       "      <th>sat_participation_17</th>\n",
       "      <td>51.0</td>\n",
       "      <td>0.398039</td>\n",
       "      <td>0.352766</td>\n",
       "      <td>0.02</td>\n",
       "      <td>0.040</td>\n",
       "      <td>0.38</td>\n",
       "      <td>0.660</td>\n",
       "      <td>1.0</td>\n",
       "    </tr>\n",
       "    <tr>\n",
       "      <th>ebrw_17</th>\n",
       "      <td>51.0</td>\n",
       "      <td>569.117647</td>\n",
       "      <td>45.666901</td>\n",
       "      <td>482.00</td>\n",
       "      <td>533.500</td>\n",
       "      <td>559.00</td>\n",
       "      <td>613.000</td>\n",
       "      <td>644.0</td>\n",
       "    </tr>\n",
       "    <tr>\n",
       "      <th>math_17</th>\n",
       "      <td>51.0</td>\n",
       "      <td>556.882353</td>\n",
       "      <td>47.121395</td>\n",
       "      <td>468.00</td>\n",
       "      <td>523.500</td>\n",
       "      <td>548.00</td>\n",
       "      <td>599.000</td>\n",
       "      <td>651.0</td>\n",
       "    </tr>\n",
       "    <tr>\n",
       "      <th>total_17</th>\n",
       "      <td>51.0</td>\n",
       "      <td>1126.098039</td>\n",
       "      <td>92.494812</td>\n",
       "      <td>950.00</td>\n",
       "      <td>1055.500</td>\n",
       "      <td>1107.00</td>\n",
       "      <td>1212.000</td>\n",
       "      <td>1295.0</td>\n",
       "    </tr>\n",
       "    <tr>\n",
       "      <th>act_participation_17</th>\n",
       "      <td>51.0</td>\n",
       "      <td>0.652549</td>\n",
       "      <td>0.321408</td>\n",
       "      <td>0.08</td>\n",
       "      <td>0.310</td>\n",
       "      <td>0.69</td>\n",
       "      <td>1.000</td>\n",
       "      <td>1.0</td>\n",
       "    </tr>\n",
       "    <tr>\n",
       "      <th>sat_participation_18</th>\n",
       "      <td>51.0</td>\n",
       "      <td>0.457451</td>\n",
       "      <td>0.373143</td>\n",
       "      <td>0.02</td>\n",
       "      <td>0.045</td>\n",
       "      <td>0.52</td>\n",
       "      <td>0.775</td>\n",
       "      <td>1.0</td>\n",
       "    </tr>\n",
       "    <tr>\n",
       "      <th>ebrw_18</th>\n",
       "      <td>51.0</td>\n",
       "      <td>563.686275</td>\n",
       "      <td>47.502627</td>\n",
       "      <td>480.00</td>\n",
       "      <td>534.500</td>\n",
       "      <td>552.00</td>\n",
       "      <td>610.500</td>\n",
       "      <td>643.0</td>\n",
       "    </tr>\n",
       "    <tr>\n",
       "      <th>math_18</th>\n",
       "      <td>51.0</td>\n",
       "      <td>556.235294</td>\n",
       "      <td>47.772623</td>\n",
       "      <td>480.00</td>\n",
       "      <td>522.500</td>\n",
       "      <td>544.00</td>\n",
       "      <td>593.500</td>\n",
       "      <td>655.0</td>\n",
       "    </tr>\n",
       "    <tr>\n",
       "      <th>total_18</th>\n",
       "      <td>51.0</td>\n",
       "      <td>1120.019608</td>\n",
       "      <td>94.155083</td>\n",
       "      <td>977.00</td>\n",
       "      <td>1057.500</td>\n",
       "      <td>1098.00</td>\n",
       "      <td>1204.000</td>\n",
       "      <td>1298.0</td>\n",
       "    </tr>\n",
       "    <tr>\n",
       "      <th>act_participation_18</th>\n",
       "      <td>51.0</td>\n",
       "      <td>0.617255</td>\n",
       "      <td>0.340371</td>\n",
       "      <td>0.07</td>\n",
       "      <td>0.285</td>\n",
       "      <td>0.66</td>\n",
       "      <td>1.000</td>\n",
       "      <td>1.0</td>\n",
       "    </tr>\n",
       "    <tr>\n",
       "      <th>composite_18</th>\n",
       "      <td>51.0</td>\n",
       "      <td>21.496078</td>\n",
       "      <td>2.111583</td>\n",
       "      <td>17.70</td>\n",
       "      <td>19.950</td>\n",
       "      <td>21.30</td>\n",
       "      <td>23.650</td>\n",
       "      <td>25.6</td>\n",
       "    </tr>\n",
       "    <tr>\n",
       "      <th>sat_participation_19</th>\n",
       "      <td>51.0</td>\n",
       "      <td>0.490588</td>\n",
       "      <td>0.387476</td>\n",
       "      <td>0.02</td>\n",
       "      <td>0.055</td>\n",
       "      <td>0.54</td>\n",
       "      <td>0.820</td>\n",
       "      <td>1.0</td>\n",
       "    </tr>\n",
       "    <tr>\n",
       "      <th>ebrw_19</th>\n",
       "      <td>51.0</td>\n",
       "      <td>560.803922</td>\n",
       "      <td>46.248035</td>\n",
       "      <td>483.00</td>\n",
       "      <td>527.500</td>\n",
       "      <td>550.00</td>\n",
       "      <td>612.000</td>\n",
       "      <td>636.0</td>\n",
       "    </tr>\n",
       "    <tr>\n",
       "      <th>math_19</th>\n",
       "      <td>51.0</td>\n",
       "      <td>552.196078</td>\n",
       "      <td>51.290553</td>\n",
       "      <td>460.00</td>\n",
       "      <td>511.500</td>\n",
       "      <td>546.00</td>\n",
       "      <td>599.000</td>\n",
       "      <td>648.0</td>\n",
       "    </tr>\n",
       "    <tr>\n",
       "      <th>total_19</th>\n",
       "      <td>51.0</td>\n",
       "      <td>1113.078431</td>\n",
       "      <td>97.197910</td>\n",
       "      <td>943.00</td>\n",
       "      <td>1038.000</td>\n",
       "      <td>1097.00</td>\n",
       "      <td>1210.000</td>\n",
       "      <td>1284.0</td>\n",
       "    </tr>\n",
       "    <tr>\n",
       "      <th>act_participation_19</th>\n",
       "      <td>51.0</td>\n",
       "      <td>0.586667</td>\n",
       "      <td>0.345159</td>\n",
       "      <td>0.06</td>\n",
       "      <td>0.245</td>\n",
       "      <td>0.54</td>\n",
       "      <td>1.000</td>\n",
       "      <td>1.0</td>\n",
       "    </tr>\n",
       "    <tr>\n",
       "      <th>composite_19</th>\n",
       "      <td>51.0</td>\n",
       "      <td>21.464706</td>\n",
       "      <td>2.194523</td>\n",
       "      <td>17.90</td>\n",
       "      <td>19.800</td>\n",
       "      <td>21.10</td>\n",
       "      <td>23.700</td>\n",
       "      <td>25.5</td>\n",
       "    </tr>\n",
       "  </tbody>\n",
       "</table>\n",
       "</div>"
      ],
      "text/plain": [
       "                      count         mean        std     min       25%  \\\n",
       "sat_participation_17   51.0     0.398039   0.352766    0.02     0.040   \n",
       "ebrw_17                51.0   569.117647  45.666901  482.00   533.500   \n",
       "math_17                51.0   556.882353  47.121395  468.00   523.500   \n",
       "total_17               51.0  1126.098039  92.494812  950.00  1055.500   \n",
       "act_participation_17   51.0     0.652549   0.321408    0.08     0.310   \n",
       "sat_participation_18   51.0     0.457451   0.373143    0.02     0.045   \n",
       "ebrw_18                51.0   563.686275  47.502627  480.00   534.500   \n",
       "math_18                51.0   556.235294  47.772623  480.00   522.500   \n",
       "total_18               51.0  1120.019608  94.155083  977.00  1057.500   \n",
       "act_participation_18   51.0     0.617255   0.340371    0.07     0.285   \n",
       "composite_18           51.0    21.496078   2.111583   17.70    19.950   \n",
       "sat_participation_19   51.0     0.490588   0.387476    0.02     0.055   \n",
       "ebrw_19                51.0   560.803922  46.248035  483.00   527.500   \n",
       "math_19                51.0   552.196078  51.290553  460.00   511.500   \n",
       "total_19               51.0  1113.078431  97.197910  943.00  1038.000   \n",
       "act_participation_19   51.0     0.586667   0.345159    0.06     0.245   \n",
       "composite_19           51.0    21.464706   2.194523   17.90    19.800   \n",
       "\n",
       "                          50%       75%     max  \n",
       "sat_participation_17     0.38     0.660     1.0  \n",
       "ebrw_17                559.00   613.000   644.0  \n",
       "math_17                548.00   599.000   651.0  \n",
       "total_17              1107.00  1212.000  1295.0  \n",
       "act_participation_17     0.69     1.000     1.0  \n",
       "sat_participation_18     0.52     0.775     1.0  \n",
       "ebrw_18                552.00   610.500   643.0  \n",
       "math_18                544.00   593.500   655.0  \n",
       "total_18              1098.00  1204.000  1298.0  \n",
       "act_participation_18     0.66     1.000     1.0  \n",
       "composite_18            21.30    23.650    25.6  \n",
       "sat_participation_19     0.54     0.820     1.0  \n",
       "ebrw_19                550.00   612.000   636.0  \n",
       "math_19                546.00   599.000   648.0  \n",
       "total_19              1097.00  1210.000  1284.0  \n",
       "act_participation_19     0.54     1.000     1.0  \n",
       "composite_19            21.10    23.700    25.5  "
      ]
     },
     "execution_count": 43,
     "metadata": {},
     "output_type": "execute_result"
    }
   ],
   "source": [
    "sat_act_17_18_19.describe().T"
   ]
  },
  {
   "cell_type": "markdown",
   "metadata": {},
   "source": [
    "**Dictionary Comprehension**"
   ]
  },
  {
   "cell_type": "code",
   "execution_count": 44,
   "metadata": {},
   "outputs": [
    {
     "data": {
      "text/plain": [
       "{'sat_participation_17': 0.3492907076664507,\n",
       " 'ebrw_17': 45.21697020437866,\n",
       " 'math_17': 46.65713364485503,\n",
       " 'total_17': 91.58351056778743,\n",
       " 'act_participation_17': 0.3182417575123181,\n",
       " 'sat_participation_18': 0.3694661922353942,\n",
       " 'ebrw_18': 47.03460978357609,\n",
       " 'math_18': 47.30194550378352,\n",
       " 'total_18': 93.22742384464433,\n",
       " 'act_participation_18': 0.33701735820410317,\n",
       " 'composite_18': 2.090779082141178,\n",
       " 'sat_participation_19': 0.3836584048685726,\n",
       " 'ebrw_19': 45.792378682545134,\n",
       " 'math_19': 50.78521461840036,\n",
       " 'total_19': 96.24027185617864,\n",
       " 'act_participation_19': 0.3417582373703047,\n",
       " 'composite_19': 2.172901153595978}"
      ]
     },
     "execution_count": 44,
     "metadata": {},
     "output_type": "execute_result"
    }
   ],
   "source": [
    "sd = { x : standard_dev(sat_act_17_18_19[x])\n",
    "      for x in sat_act_17_18_19.columns \n",
    "      if (sat_act_17_18_19[x].dtype == 'float64')\n",
    "      or (sat_act_17_18_19[x].dtype == 'int64')\n",
    "     }\n",
    "\n",
    "sd"
   ]
  },
  {
   "cell_type": "markdown",
   "metadata": {},
   "source": [
    " "
   ]
  },
  {
   "cell_type": "markdown",
   "metadata": {},
   "source": [
    "**State(s) with the lowest SAT and ACT participation rate**\n",
    "<br>\n",
    "_Order by the lowest SAT participation first_\n",
    "<br>\n",
    "<br>\n",
    "<font size=\"2\">**2017 Data**</font>"
   ]
  },
  {
   "cell_type": "code",
   "execution_count": 45,
   "metadata": {},
   "outputs": [
    {
     "data": {
      "text/html": [
       "<div>\n",
       "<style scoped>\n",
       "    .dataframe tbody tr th:only-of-type {\n",
       "        vertical-align: middle;\n",
       "    }\n",
       "\n",
       "    .dataframe tbody tr th {\n",
       "        vertical-align: top;\n",
       "    }\n",
       "\n",
       "    .dataframe thead th {\n",
       "        text-align: right;\n",
       "    }\n",
       "</style>\n",
       "<table border=\"1\" class=\"dataframe\">\n",
       "  <thead>\n",
       "    <tr style=\"text-align: right;\">\n",
       "      <th></th>\n",
       "      <th>state</th>\n",
       "      <th>sat_participation</th>\n",
       "      <th>act_participation</th>\n",
       "    </tr>\n",
       "  </thead>\n",
       "  <tbody>\n",
       "    <tr>\n",
       "      <th>15</th>\n",
       "      <td>Iowa</td>\n",
       "      <td>0.02</td>\n",
       "      <td>0.67</td>\n",
       "    </tr>\n",
       "    <tr>\n",
       "      <th>24</th>\n",
       "      <td>Mississippi</td>\n",
       "      <td>0.02</td>\n",
       "      <td>1.00</td>\n",
       "    </tr>\n",
       "    <tr>\n",
       "      <th>34</th>\n",
       "      <td>North Dakota</td>\n",
       "      <td>0.02</td>\n",
       "      <td>0.98</td>\n",
       "    </tr>\n",
       "    <tr>\n",
       "      <th>19</th>\n",
       "      <td>Maine</td>\n",
       "      <td>0.95</td>\n",
       "      <td>0.08</td>\n",
       "    </tr>\n",
       "  </tbody>\n",
       "</table>\n",
       "</div>"
      ],
      "text/plain": [
       "           state  sat_participation  act_participation\n",
       "15          Iowa               0.02               0.67\n",
       "24   Mississippi               0.02               1.00\n",
       "34  North Dakota               0.02               0.98\n",
       "19         Maine               0.95               0.08"
      ]
     },
     "execution_count": 45,
     "metadata": {},
     "output_type": "execute_result"
    }
   ],
   "source": [
    "sat_act_17.loc[(sat_act_17['sat_participation'] == 0.02) | \n",
    "               (sat_act_17['act_participation'] == 0.08),\n",
    "               \n",
    "               ['state',\n",
    "                'sat_participation',\n",
    "                'act_participation']].sort_values('sat_participation')"
   ]
  },
  {
   "cell_type": "markdown",
   "metadata": {},
   "source": [
    "State(s) with lowest SAT participation rate 2017 (at 2%):\n",
    "<br>\n",
    "_(3 states)_\n",
    "* Iowa \n",
    "* Mississippi\n",
    "* North Dakota\n",
    "\n",
    "State(s) with lowest ACT participation rate 2017 (at 8%):\n",
    "<br>\n",
    "(1 state)\n",
    "* Maine\n"
   ]
  },
  {
   "cell_type": "markdown",
   "metadata": {},
   "source": [
    "<font size=\"2\">**2018 Data**</font>"
   ]
  },
  {
   "cell_type": "code",
   "execution_count": 46,
   "metadata": {},
   "outputs": [
    {
     "data": {
      "text/html": [
       "<div>\n",
       "<style scoped>\n",
       "    .dataframe tbody tr th:only-of-type {\n",
       "        vertical-align: middle;\n",
       "    }\n",
       "\n",
       "    .dataframe tbody tr th {\n",
       "        vertical-align: top;\n",
       "    }\n",
       "\n",
       "    .dataframe thead th {\n",
       "        text-align: right;\n",
       "    }\n",
       "</style>\n",
       "<table border=\"1\" class=\"dataframe\">\n",
       "  <thead>\n",
       "    <tr style=\"text-align: right;\">\n",
       "      <th></th>\n",
       "      <th>state</th>\n",
       "      <th>sat_participation</th>\n",
       "      <th>act_participation</th>\n",
       "    </tr>\n",
       "  </thead>\n",
       "  <tbody>\n",
       "    <tr>\n",
       "      <th>34</th>\n",
       "      <td>North Dakota</td>\n",
       "      <td>0.02</td>\n",
       "      <td>0.98</td>\n",
       "    </tr>\n",
       "    <tr>\n",
       "      <th>19</th>\n",
       "      <td>Maine</td>\n",
       "      <td>0.99</td>\n",
       "      <td>0.07</td>\n",
       "    </tr>\n",
       "  </tbody>\n",
       "</table>\n",
       "</div>"
      ],
      "text/plain": [
       "           state  sat_participation  act_participation\n",
       "34  North Dakota               0.02               0.98\n",
       "19         Maine               0.99               0.07"
      ]
     },
     "execution_count": 46,
     "metadata": {},
     "output_type": "execute_result"
    }
   ],
   "source": [
    "sat_act_18.loc[(sat_act_18['sat_participation'] == 0.02) | \n",
    "               (sat_act_18['act_participation'] == 0.07), \n",
    "               \n",
    "               ['state',\n",
    "                'sat_participation',\n",
    "                'act_participation']].sort_values('sat_participation')"
   ]
  },
  {
   "cell_type": "markdown",
   "metadata": {},
   "source": [
    "State(s) with lowest SAT participation rate 2018 (at 2%):\n",
    "<br>\n",
    "_(1 state)_\n",
    "* ~~Iowa~~\n",
    "* ~~Mississippi~~\n",
    "* North Dakota\n",
    "\n",
    "State(s) with lowest ACT participation rate 2018 (at 7%):\n",
    "<br>\n",
    "_(1 state)_\n",
    "\n",
    "* Maine"
   ]
  },
  {
   "cell_type": "markdown",
   "metadata": {},
   "source": [
    "<font size=\"2\">**2019 Data**</font>"
   ]
  },
  {
   "cell_type": "code",
   "execution_count": 47,
   "metadata": {},
   "outputs": [
    {
     "data": {
      "text/html": [
       "<div>\n",
       "<style scoped>\n",
       "    .dataframe tbody tr th:only-of-type {\n",
       "        vertical-align: middle;\n",
       "    }\n",
       "\n",
       "    .dataframe tbody tr th {\n",
       "        vertical-align: top;\n",
       "    }\n",
       "\n",
       "    .dataframe thead th {\n",
       "        text-align: right;\n",
       "    }\n",
       "</style>\n",
       "<table border=\"1\" class=\"dataframe\">\n",
       "  <thead>\n",
       "    <tr style=\"text-align: right;\">\n",
       "      <th></th>\n",
       "      <th>state</th>\n",
       "      <th>sat_participation</th>\n",
       "      <th>act_participation</th>\n",
       "    </tr>\n",
       "  </thead>\n",
       "  <tbody>\n",
       "    <tr>\n",
       "      <th>34</th>\n",
       "      <td>North Dakota</td>\n",
       "      <td>0.02</td>\n",
       "      <td>0.96</td>\n",
       "    </tr>\n",
       "    <tr>\n",
       "      <th>19</th>\n",
       "      <td>Maine</td>\n",
       "      <td>0.99</td>\n",
       "      <td>0.06</td>\n",
       "    </tr>\n",
       "  </tbody>\n",
       "</table>\n",
       "</div>"
      ],
      "text/plain": [
       "           state  sat_participation  act_participation\n",
       "34  North Dakota               0.02               0.96\n",
       "19         Maine               0.99               0.06"
      ]
     },
     "execution_count": 47,
     "metadata": {},
     "output_type": "execute_result"
    }
   ],
   "source": [
    "sat_act_19.loc[(sat_act_19['sat_participation'] == 0.02) | \n",
    "               (sat_act_19['act_participation'] == 0.06), \n",
    "               \n",
    "               ['state',\n",
    "                'sat_participation',\n",
    "                'act_participation']].sort_values('sat_participation')"
   ]
  },
  {
   "cell_type": "markdown",
   "metadata": {},
   "source": [
    "State(s) with lowest SAT participation rate 2019 (at 2%):\n",
    "<br>\n",
    "_(1 state)_\n",
    "\n",
    "* North Dakota\n",
    "\n",
    "State(s) with lowest ACT participation rate 2019 (at 6%):\n",
    "<br>\n",
    "_(1 state)_\n",
    "\n",
    "* Maine"
   ]
  },
  {
   "cell_type": "markdown",
   "metadata": {},
   "source": [
    "<font size=\"2\">**Findings for states with SAT ACT lowest participation rate**</font>\n",
    "<br>\n",
    "Based on the result above, lowest SAT participation rate maintains at 2% from 2017 to 2019.\n",
    "While, lowest ACT participation rate drops from 8% in 2017 to 6% in 2019\n",
    "\n",
    "The number of states with 2% SAT participation rate drops as well from 3 in 2017 to 1 in 2018 and 2019.\n",
    "\n",
    "North Dakota and Maine are the consistent state with lowest participation rate for SAT and ACT respectively.\n",
    "<br>\n"
   ]
  },
  {
   "cell_type": "markdown",
   "metadata": {},
   "source": [
    " "
   ]
  },
  {
   "cell_type": "markdown",
   "metadata": {},
   "source": [
    "**State(s) with the highest SAT and ACT participation rate**\n",
    "<br>\n",
    "_Order by the highest SAT participation first_\n",
    "<br>\n",
    "<br>\n",
    "<font size=\"2\">**2017 Data**</font>"
   ]
  },
  {
   "cell_type": "code",
   "execution_count": 48,
   "metadata": {},
   "outputs": [
    {
     "data": {
      "text/html": [
       "<div>\n",
       "<style scoped>\n",
       "    .dataframe tbody tr th:only-of-type {\n",
       "        vertical-align: middle;\n",
       "    }\n",
       "\n",
       "    .dataframe tbody tr th {\n",
       "        vertical-align: top;\n",
       "    }\n",
       "\n",
       "    .dataframe thead th {\n",
       "        text-align: right;\n",
       "    }\n",
       "</style>\n",
       "<table border=\"1\" class=\"dataframe\">\n",
       "  <thead>\n",
       "    <tr style=\"text-align: right;\">\n",
       "      <th></th>\n",
       "      <th>state</th>\n",
       "      <th>sat_participation</th>\n",
       "      <th>act_participation</th>\n",
       "    </tr>\n",
       "  </thead>\n",
       "  <tbody>\n",
       "    <tr>\n",
       "      <th>7</th>\n",
       "      <td>Delaware</td>\n",
       "      <td>1.00</td>\n",
       "      <td>0.18</td>\n",
       "    </tr>\n",
       "    <tr>\n",
       "      <th>22</th>\n",
       "      <td>Michigan</td>\n",
       "      <td>1.00</td>\n",
       "      <td>0.29</td>\n",
       "    </tr>\n",
       "    <tr>\n",
       "      <th>6</th>\n",
       "      <td>Connecticut</td>\n",
       "      <td>1.00</td>\n",
       "      <td>0.31</td>\n",
       "    </tr>\n",
       "    <tr>\n",
       "      <th>8</th>\n",
       "      <td>District of Columbia</td>\n",
       "      <td>1.00</td>\n",
       "      <td>0.32</td>\n",
       "    </tr>\n",
       "    <tr>\n",
       "      <th>0</th>\n",
       "      <td>Alabama</td>\n",
       "      <td>0.05</td>\n",
       "      <td>1.00</td>\n",
       "    </tr>\n",
       "    <tr>\n",
       "      <th>44</th>\n",
       "      <td>Utah</td>\n",
       "      <td>0.03</td>\n",
       "      <td>1.00</td>\n",
       "    </tr>\n",
       "    <tr>\n",
       "      <th>42</th>\n",
       "      <td>Tennessee</td>\n",
       "      <td>0.05</td>\n",
       "      <td>1.00</td>\n",
       "    </tr>\n",
       "    <tr>\n",
       "      <th>40</th>\n",
       "      <td>South Carolina</td>\n",
       "      <td>0.50</td>\n",
       "      <td>1.00</td>\n",
       "    </tr>\n",
       "    <tr>\n",
       "      <th>36</th>\n",
       "      <td>Oklahoma</td>\n",
       "      <td>0.07</td>\n",
       "      <td>1.00</td>\n",
       "    </tr>\n",
       "    <tr>\n",
       "      <th>33</th>\n",
       "      <td>North Carolina</td>\n",
       "      <td>0.49</td>\n",
       "      <td>1.00</td>\n",
       "    </tr>\n",
       "    <tr>\n",
       "      <th>28</th>\n",
       "      <td>Nevada</td>\n",
       "      <td>0.26</td>\n",
       "      <td>1.00</td>\n",
       "    </tr>\n",
       "    <tr>\n",
       "      <th>26</th>\n",
       "      <td>Montana</td>\n",
       "      <td>0.10</td>\n",
       "      <td>1.00</td>\n",
       "    </tr>\n",
       "    <tr>\n",
       "      <th>24</th>\n",
       "      <td>Mississippi</td>\n",
       "      <td>0.02</td>\n",
       "      <td>1.00</td>\n",
       "    </tr>\n",
       "    <tr>\n",
       "      <th>49</th>\n",
       "      <td>Wisconsin</td>\n",
       "      <td>0.03</td>\n",
       "      <td>1.00</td>\n",
       "    </tr>\n",
       "    <tr>\n",
       "      <th>23</th>\n",
       "      <td>Minnesota</td>\n",
       "      <td>0.03</td>\n",
       "      <td>1.00</td>\n",
       "    </tr>\n",
       "    <tr>\n",
       "      <th>18</th>\n",
       "      <td>Louisiana</td>\n",
       "      <td>0.04</td>\n",
       "      <td>1.00</td>\n",
       "    </tr>\n",
       "    <tr>\n",
       "      <th>17</th>\n",
       "      <td>Kentucky</td>\n",
       "      <td>0.04</td>\n",
       "      <td>1.00</td>\n",
       "    </tr>\n",
       "    <tr>\n",
       "      <th>5</th>\n",
       "      <td>Colorado</td>\n",
       "      <td>0.11</td>\n",
       "      <td>1.00</td>\n",
       "    </tr>\n",
       "    <tr>\n",
       "      <th>3</th>\n",
       "      <td>Arkansas</td>\n",
       "      <td>0.03</td>\n",
       "      <td>1.00</td>\n",
       "    </tr>\n",
       "    <tr>\n",
       "      <th>25</th>\n",
       "      <td>Missouri</td>\n",
       "      <td>0.03</td>\n",
       "      <td>1.00</td>\n",
       "    </tr>\n",
       "    <tr>\n",
       "      <th>50</th>\n",
       "      <td>Wyoming</td>\n",
       "      <td>0.03</td>\n",
       "      <td>1.00</td>\n",
       "    </tr>\n",
       "  </tbody>\n",
       "</table>\n",
       "</div>"
      ],
      "text/plain": [
       "                   state  sat_participation  act_participation\n",
       "7               Delaware               1.00               0.18\n",
       "22              Michigan               1.00               0.29\n",
       "6            Connecticut               1.00               0.31\n",
       "8   District of Columbia               1.00               0.32\n",
       "0                Alabama               0.05               1.00\n",
       "44                  Utah               0.03               1.00\n",
       "42             Tennessee               0.05               1.00\n",
       "40        South Carolina               0.50               1.00\n",
       "36              Oklahoma               0.07               1.00\n",
       "33        North Carolina               0.49               1.00\n",
       "28                Nevada               0.26               1.00\n",
       "26               Montana               0.10               1.00\n",
       "24           Mississippi               0.02               1.00\n",
       "49             Wisconsin               0.03               1.00\n",
       "23             Minnesota               0.03               1.00\n",
       "18             Louisiana               0.04               1.00\n",
       "17              Kentucky               0.04               1.00\n",
       "5               Colorado               0.11               1.00\n",
       "3               Arkansas               0.03               1.00\n",
       "25              Missouri               0.03               1.00\n",
       "50               Wyoming               0.03               1.00"
      ]
     },
     "execution_count": 48,
     "metadata": {},
     "output_type": "execute_result"
    }
   ],
   "source": [
    "sat_act_17.loc[(sat_act_17['sat_participation'] == 1.0) | \n",
    "               (sat_act_17['act_participation'] == 1.0),\n",
    "           \n",
    "               ['state',\n",
    "                'sat_participation',\n",
    "                'act_participation']].sort_values('act_participation')"
   ]
  },
  {
   "cell_type": "markdown",
   "metadata": {},
   "source": [
    "State(s) with highest SAT participation rate 2017 (at 100%):\n",
    "<br>\n",
    "_(4 states)_\n",
    "\n",
    "* Delaware\n",
    "* Michigan\n",
    "* Connecticut\n",
    "* District of Columbia\n",
    "\n",
    "State(s) with highest ACT participation rate 2017 (at 100%):\n",
    "<br>\n",
    "_(17 states)_\n",
    "\n",
    "* Alabama\n",
    "* Utah\n",
    "* Tennessee\n",
    "* South Carolina\n",
    "* Oklahoma\n",
    "* North Carolina\n",
    "* Nevada\n",
    "* Montana\n",
    "* Mississippi\n",
    "* Wisconsin\n",
    "* Minnesota\n",
    "* Louisiana\n",
    "* Kentucky\n",
    "* Colorado\n",
    "* Arkansas\n",
    "* Missouri\n",
    "* Wyoming"
   ]
  },
  {
   "cell_type": "markdown",
   "metadata": {},
   "source": [
    "<font size=\"2\">**2018 Data**</font>"
   ]
  },
  {
   "cell_type": "code",
   "execution_count": 49,
   "metadata": {
    "tags": []
   },
   "outputs": [
    {
     "data": {
      "text/html": [
       "<div>\n",
       "<style scoped>\n",
       "    .dataframe tbody tr th:only-of-type {\n",
       "        vertical-align: middle;\n",
       "    }\n",
       "\n",
       "    .dataframe tbody tr th {\n",
       "        vertical-align: top;\n",
       "    }\n",
       "\n",
       "    .dataframe thead th {\n",
       "        text-align: right;\n",
       "    }\n",
       "</style>\n",
       "<table border=\"1\" class=\"dataframe\">\n",
       "  <thead>\n",
       "    <tr style=\"text-align: right;\">\n",
       "      <th></th>\n",
       "      <th>state</th>\n",
       "      <th>sat_participation</th>\n",
       "      <th>act_participation</th>\n",
       "    </tr>\n",
       "  </thead>\n",
       "  <tbody>\n",
       "    <tr>\n",
       "      <th>7</th>\n",
       "      <td>Delaware</td>\n",
       "      <td>1.00</td>\n",
       "      <td>0.17</td>\n",
       "    </tr>\n",
       "    <tr>\n",
       "      <th>22</th>\n",
       "      <td>Michigan</td>\n",
       "      <td>1.00</td>\n",
       "      <td>0.22</td>\n",
       "    </tr>\n",
       "    <tr>\n",
       "      <th>6</th>\n",
       "      <td>Connecticut</td>\n",
       "      <td>1.00</td>\n",
       "      <td>0.26</td>\n",
       "    </tr>\n",
       "    <tr>\n",
       "      <th>5</th>\n",
       "      <td>Colorado</td>\n",
       "      <td>1.00</td>\n",
       "      <td>0.30</td>\n",
       "    </tr>\n",
       "    <tr>\n",
       "      <th>12</th>\n",
       "      <td>Idaho</td>\n",
       "      <td>1.00</td>\n",
       "      <td>0.36</td>\n",
       "    </tr>\n",
       "    <tr>\n",
       "      <th>0</th>\n",
       "      <td>Alabama</td>\n",
       "      <td>0.06</td>\n",
       "      <td>1.00</td>\n",
       "    </tr>\n",
       "    <tr>\n",
       "      <th>44</th>\n",
       "      <td>Utah</td>\n",
       "      <td>0.04</td>\n",
       "      <td>1.00</td>\n",
       "    </tr>\n",
       "    <tr>\n",
       "      <th>42</th>\n",
       "      <td>Tennessee</td>\n",
       "      <td>0.06</td>\n",
       "      <td>1.00</td>\n",
       "    </tr>\n",
       "    <tr>\n",
       "      <th>40</th>\n",
       "      <td>South Carolina</td>\n",
       "      <td>0.55</td>\n",
       "      <td>1.00</td>\n",
       "    </tr>\n",
       "    <tr>\n",
       "      <th>36</th>\n",
       "      <td>Ohio</td>\n",
       "      <td>0.18</td>\n",
       "      <td>1.00</td>\n",
       "    </tr>\n",
       "    <tr>\n",
       "      <th>35</th>\n",
       "      <td>Oklahoma</td>\n",
       "      <td>0.08</td>\n",
       "      <td>1.00</td>\n",
       "    </tr>\n",
       "    <tr>\n",
       "      <th>33</th>\n",
       "      <td>North Carolina</td>\n",
       "      <td>0.52</td>\n",
       "      <td>1.00</td>\n",
       "    </tr>\n",
       "    <tr>\n",
       "      <th>28</th>\n",
       "      <td>Nevada</td>\n",
       "      <td>0.23</td>\n",
       "      <td>1.00</td>\n",
       "    </tr>\n",
       "    <tr>\n",
       "      <th>25</th>\n",
       "      <td>Missouri</td>\n",
       "      <td>0.04</td>\n",
       "      <td>1.00</td>\n",
       "    </tr>\n",
       "    <tr>\n",
       "      <th>26</th>\n",
       "      <td>Montana</td>\n",
       "      <td>0.10</td>\n",
       "      <td>1.00</td>\n",
       "    </tr>\n",
       "    <tr>\n",
       "      <th>49</th>\n",
       "      <td>Wisconsin</td>\n",
       "      <td>0.03</td>\n",
       "      <td>1.00</td>\n",
       "    </tr>\n",
       "    <tr>\n",
       "      <th>24</th>\n",
       "      <td>Mississippi</td>\n",
       "      <td>0.03</td>\n",
       "      <td>1.00</td>\n",
       "    </tr>\n",
       "    <tr>\n",
       "      <th>18</th>\n",
       "      <td>Louisiana</td>\n",
       "      <td>0.04</td>\n",
       "      <td>1.00</td>\n",
       "    </tr>\n",
       "    <tr>\n",
       "      <th>17</th>\n",
       "      <td>Kentucky</td>\n",
       "      <td>0.04</td>\n",
       "      <td>1.00</td>\n",
       "    </tr>\n",
       "    <tr>\n",
       "      <th>3</th>\n",
       "      <td>Arkansas</td>\n",
       "      <td>0.05</td>\n",
       "      <td>1.00</td>\n",
       "    </tr>\n",
       "    <tr>\n",
       "      <th>27</th>\n",
       "      <td>Nebraska</td>\n",
       "      <td>0.03</td>\n",
       "      <td>1.00</td>\n",
       "    </tr>\n",
       "    <tr>\n",
       "      <th>50</th>\n",
       "      <td>Wyoming</td>\n",
       "      <td>0.03</td>\n",
       "      <td>1.00</td>\n",
       "    </tr>\n",
       "  </tbody>\n",
       "</table>\n",
       "</div>"
      ],
      "text/plain": [
       "             state  sat_participation  act_participation\n",
       "7         Delaware               1.00               0.17\n",
       "22        Michigan               1.00               0.22\n",
       "6      Connecticut               1.00               0.26\n",
       "5         Colorado               1.00               0.30\n",
       "12           Idaho               1.00               0.36\n",
       "0          Alabama               0.06               1.00\n",
       "44            Utah               0.04               1.00\n",
       "42       Tennessee               0.06               1.00\n",
       "40  South Carolina               0.55               1.00\n",
       "36            Ohio               0.18               1.00\n",
       "35        Oklahoma               0.08               1.00\n",
       "33  North Carolina               0.52               1.00\n",
       "28          Nevada               0.23               1.00\n",
       "25        Missouri               0.04               1.00\n",
       "26         Montana               0.10               1.00\n",
       "49       Wisconsin               0.03               1.00\n",
       "24     Mississippi               0.03               1.00\n",
       "18       Louisiana               0.04               1.00\n",
       "17        Kentucky               0.04               1.00\n",
       "3         Arkansas               0.05               1.00\n",
       "27        Nebraska               0.03               1.00\n",
       "50         Wyoming               0.03               1.00"
      ]
     },
     "execution_count": 49,
     "metadata": {},
     "output_type": "execute_result"
    }
   ],
   "source": [
    "sat_act_18.loc[(sat_act_18['sat_participation'] == 1.0) | \n",
    "               (sat_act_18['act_participation'] == 1.0),\n",
    "           \n",
    "               ['state',\n",
    "                'sat_participation',\n",
    "                'act_participation']].sort_values('act_participation')"
   ]
  },
  {
   "cell_type": "markdown",
   "metadata": {},
   "source": [
    "State(s) with highest SAT participation rate 2018 (at 100%):\n",
    "<br>\n",
    "_(5 states)_\n",
    "\n",
    "* Delaware\n",
    "* Michigan\n",
    "* Connecticut\n",
    "* ~~District of Columbia~~\n",
    "* Colorado\n",
    "* Idaho\n",
    "\n",
    "State(s) with highest ACT participation rate 2018 (at 100%):\n",
    "<br>\n",
    "_(17 states)_\n",
    "\n",
    "* Alabama\n",
    "* Utah\n",
    "* Tennessee\n",
    "* South Carolina\n",
    "* Oklahoma\n",
    "* North Carolina\n",
    "* Nevada\n",
    "* Montana\n",
    "* Mississippi\n",
    "* Wisconsin\n",
    "* ~~Minnesota~~\n",
    "* Louisiana\n",
    "* Kentucky\n",
    "* ~~Colorado~~\n",
    "* Arkansas\n",
    "* Missouri\n",
    "* Wyoming\n",
    "* Nebraska\n",
    "* Ohio"
   ]
  },
  {
   "cell_type": "code",
   "execution_count": 50,
   "metadata": {},
   "outputs": [
    {
     "data": {
      "text/html": [
       "<div>\n",
       "<style scoped>\n",
       "    .dataframe tbody tr th:only-of-type {\n",
       "        vertical-align: middle;\n",
       "    }\n",
       "\n",
       "    .dataframe tbody tr th {\n",
       "        vertical-align: top;\n",
       "    }\n",
       "\n",
       "    .dataframe thead th {\n",
       "        text-align: right;\n",
       "    }\n",
       "</style>\n",
       "<table border=\"1\" class=\"dataframe\">\n",
       "  <thead>\n",
       "    <tr style=\"text-align: right;\">\n",
       "      <th></th>\n",
       "      <th>state</th>\n",
       "      <th>sat_participation</th>\n",
       "      <th>act_participation</th>\n",
       "    </tr>\n",
       "  </thead>\n",
       "  <tbody>\n",
       "    <tr>\n",
       "      <th>39</th>\n",
       "      <td>Rhode Island</td>\n",
       "      <td>1.00</td>\n",
       "      <td>0.12</td>\n",
       "    </tr>\n",
       "    <tr>\n",
       "      <th>7</th>\n",
       "      <td>Delaware</td>\n",
       "      <td>1.00</td>\n",
       "      <td>0.13</td>\n",
       "    </tr>\n",
       "    <tr>\n",
       "      <th>22</th>\n",
       "      <td>Michigan</td>\n",
       "      <td>1.00</td>\n",
       "      <td>0.19</td>\n",
       "    </tr>\n",
       "    <tr>\n",
       "      <th>6</th>\n",
       "      <td>Connecticut</td>\n",
       "      <td>1.00</td>\n",
       "      <td>0.22</td>\n",
       "    </tr>\n",
       "    <tr>\n",
       "      <th>5</th>\n",
       "      <td>Colorado</td>\n",
       "      <td>1.00</td>\n",
       "      <td>0.27</td>\n",
       "    </tr>\n",
       "    <tr>\n",
       "      <th>12</th>\n",
       "      <td>Idaho</td>\n",
       "      <td>1.00</td>\n",
       "      <td>0.31</td>\n",
       "    </tr>\n",
       "    <tr>\n",
       "      <th>13</th>\n",
       "      <td>Illinois</td>\n",
       "      <td>1.00</td>\n",
       "      <td>0.35</td>\n",
       "    </tr>\n",
       "    <tr>\n",
       "      <th>9</th>\n",
       "      <td>Florida</td>\n",
       "      <td>1.00</td>\n",
       "      <td>0.54</td>\n",
       "    </tr>\n",
       "    <tr>\n",
       "      <th>0</th>\n",
       "      <td>Alabama</td>\n",
       "      <td>0.07</td>\n",
       "      <td>1.00</td>\n",
       "    </tr>\n",
       "    <tr>\n",
       "      <th>44</th>\n",
       "      <td>Utah</td>\n",
       "      <td>0.04</td>\n",
       "      <td>1.00</td>\n",
       "    </tr>\n",
       "    <tr>\n",
       "      <th>42</th>\n",
       "      <td>Tennessee</td>\n",
       "      <td>0.07</td>\n",
       "      <td>1.00</td>\n",
       "    </tr>\n",
       "    <tr>\n",
       "      <th>36</th>\n",
       "      <td>Oklahoma</td>\n",
       "      <td>0.22</td>\n",
       "      <td>1.00</td>\n",
       "    </tr>\n",
       "    <tr>\n",
       "      <th>35</th>\n",
       "      <td>Ohio</td>\n",
       "      <td>0.19</td>\n",
       "      <td>1.00</td>\n",
       "    </tr>\n",
       "    <tr>\n",
       "      <th>33</th>\n",
       "      <td>North Carolina</td>\n",
       "      <td>0.51</td>\n",
       "      <td>1.00</td>\n",
       "    </tr>\n",
       "    <tr>\n",
       "      <th>24</th>\n",
       "      <td>Mississippi</td>\n",
       "      <td>0.03</td>\n",
       "      <td>1.00</td>\n",
       "    </tr>\n",
       "    <tr>\n",
       "      <th>27</th>\n",
       "      <td>Nebraska</td>\n",
       "      <td>0.03</td>\n",
       "      <td>1.00</td>\n",
       "    </tr>\n",
       "    <tr>\n",
       "      <th>26</th>\n",
       "      <td>Montana</td>\n",
       "      <td>0.09</td>\n",
       "      <td>1.00</td>\n",
       "    </tr>\n",
       "    <tr>\n",
       "      <th>49</th>\n",
       "      <td>Wisconsin</td>\n",
       "      <td>0.03</td>\n",
       "      <td>1.00</td>\n",
       "    </tr>\n",
       "    <tr>\n",
       "      <th>18</th>\n",
       "      <td>Louisiana</td>\n",
       "      <td>0.05</td>\n",
       "      <td>1.00</td>\n",
       "    </tr>\n",
       "    <tr>\n",
       "      <th>17</th>\n",
       "      <td>Kentucky</td>\n",
       "      <td>0.04</td>\n",
       "      <td>1.00</td>\n",
       "    </tr>\n",
       "    <tr>\n",
       "      <th>3</th>\n",
       "      <td>Arkansas</td>\n",
       "      <td>0.06</td>\n",
       "      <td>1.00</td>\n",
       "    </tr>\n",
       "    <tr>\n",
       "      <th>28</th>\n",
       "      <td>Nevada</td>\n",
       "      <td>0.20</td>\n",
       "      <td>1.00</td>\n",
       "    </tr>\n",
       "    <tr>\n",
       "      <th>50</th>\n",
       "      <td>Wyoming</td>\n",
       "      <td>0.03</td>\n",
       "      <td>1.00</td>\n",
       "    </tr>\n",
       "  </tbody>\n",
       "</table>\n",
       "</div>"
      ],
      "text/plain": [
       "             state  sat_participation  act_participation\n",
       "39    Rhode Island               1.00               0.12\n",
       "7         Delaware               1.00               0.13\n",
       "22        Michigan               1.00               0.19\n",
       "6      Connecticut               1.00               0.22\n",
       "5         Colorado               1.00               0.27\n",
       "12           Idaho               1.00               0.31\n",
       "13        Illinois               1.00               0.35\n",
       "9          Florida               1.00               0.54\n",
       "0          Alabama               0.07               1.00\n",
       "44            Utah               0.04               1.00\n",
       "42       Tennessee               0.07               1.00\n",
       "36        Oklahoma               0.22               1.00\n",
       "35            Ohio               0.19               1.00\n",
       "33  North Carolina               0.51               1.00\n",
       "24     Mississippi               0.03               1.00\n",
       "27        Nebraska               0.03               1.00\n",
       "26         Montana               0.09               1.00\n",
       "49       Wisconsin               0.03               1.00\n",
       "18       Louisiana               0.05               1.00\n",
       "17        Kentucky               0.04               1.00\n",
       "3         Arkansas               0.06               1.00\n",
       "28          Nevada               0.20               1.00\n",
       "50         Wyoming               0.03               1.00"
      ]
     },
     "execution_count": 50,
     "metadata": {},
     "output_type": "execute_result"
    }
   ],
   "source": [
    "sat_act_19.loc[(sat_act_19['sat_participation'] == 1.0) | \n",
    "               (sat_act_19['act_participation'] == 1.0),           \n",
    "           \n",
    "               ['state',\n",
    "                'sat_participation',\n",
    "                'act_participation']].sort_values('act_participation')"
   ]
  },
  {
   "cell_type": "markdown",
   "metadata": {},
   "source": [
    "State(s) with highest SAT participation rate 2019 (at 100%):\n",
    "<br>\n",
    "_(8 states)_\n",
    "\n",
    "* Delaware\n",
    "* Michigan\n",
    "* Connecticut\n",
    "* Colorado\n",
    "* Idaho\n",
    "* Rhode Island\n",
    "* Florida\n",
    "* Illinois\n",
    "\n",
    "State(s) with highest ACT participation rate 2018 (at 100%):\n",
    "<br>\n",
    "_(15 states)_\n",
    "\n",
    "* Alabama\n",
    "* Utah\n",
    "* Tennessee\n",
    "* ~~South Carolina~~\n",
    "* Oklahoma\n",
    "* North Carolina\n",
    "* Nevada\n",
    "* Montana\n",
    "* Mississippi\n",
    "* Wisconsin\n",
    "* Louisiana\n",
    "* Kentucky\n",
    "* Arkansas\n",
    "* ~~Missouri~~\n",
    "* Wyoming\n",
    "* Nebraska\n",
    "* Ohio"
   ]
  },
  {
   "cell_type": "markdown",
   "metadata": {},
   "source": [
    "<font size=\"2\">**Findings for states with SAT ACT highest participation rate**</font>\n",
    "<br>\n",
    "Based on the result above, both highest SAT and ACT participation rates are 100% from 2017 to 2019.\n",
    "\n",
    "The number of states with 100% SAT participation rate increases from 4 in 2017 to 8 in 2019.\n",
    "<br>\n",
    "The number of states with 100% ACT participation rate decreases from 17 in 2017 to 15 in 2019.\n",
    "\n",
    "Interesting finding:\n",
    "<br>\n",
    "In 2018, Colorado changed from 100% ACT participation rate to 100% SAT participation rate.\n",
    "<br>\n",
    "<br>"
   ]
  },
  {
   "cell_type": "markdown",
   "metadata": {},
   "source": [
    "**State(s) with the lowest and highest SAT total mean**\n",
    "<br>\n",
    "_From year 2017 to 2019_\n",
    "<br>"
   ]
  },
  {
   "cell_type": "code",
   "execution_count": 51,
   "metadata": {},
   "outputs": [],
   "source": [
    "lst_df = [sat_act_17, sat_act_18, sat_act_19]"
   ]
  },
  {
   "cell_type": "markdown",
   "metadata": {},
   "source": [
    "<font size=\"2\">**Lowest SAT total mean**</font>"
   ]
  },
  {
   "cell_type": "code",
   "execution_count": 52,
   "metadata": {},
   "outputs": [
    {
     "name": "stdout",
     "output_type": "stream",
     "text": [
      "States with the lowest mean total scores for the 2017, 2018 and 2019 SAT respectively:\n",
      "\n",
      "District of Columbia\n",
      "District of Columbia\n",
      "West Virginia\n"
     ]
    }
   ],
   "source": [
    "print('States with the lowest mean total scores for the 2017, 2018 and 2019 SAT respectively:\\n')\n",
    "\n",
    "for i in lst_df:\n",
    "    \n",
    "    min_total = i.groupby('state')['total'].agg('mean').idxmin()\n",
    "    \n",
    "    print(min_total)"
   ]
  },
  {
   "cell_type": "markdown",
   "metadata": {},
   "source": [
    "<br>\n",
    "\n",
    "<font size=\"2\">**Highest SAT total mean**</font>"
   ]
  },
  {
   "cell_type": "code",
   "execution_count": 53,
   "metadata": {},
   "outputs": [
    {
     "name": "stdout",
     "output_type": "stream",
     "text": [
      "States with the highest mean total scores for the 2017, 2018 and 2019 SAT respectively:\n",
      "\n",
      "Minnesota\n",
      "Minnesota\n",
      "Minnesota\n"
     ]
    }
   ],
   "source": [
    "print('States with the highest mean total scores for the 2017, 2018 and 2019 SAT respectively:\\n')\n",
    "\n",
    "for i in lst_df:\n",
    "    \n",
    "    max_total = i.groupby('state')['total'].agg('mean').idxmax()\n",
    "    \n",
    "    print(max_total)"
   ]
  },
  {
   "cell_type": "markdown",
   "metadata": {},
   "source": [
    "<br>\n",
    "\n",
    "<font size=\"2\">**Findings for states with highest SAT total mean**</font>\n",
    "<br>\n",
    "Based on the result above, the state with the highest SAT total mean from 2017 to 2019 is Minnesota\n",
    "<br>\n",
    "While, the state with the lowest SAT total mean is District of Columbia from 2017 to 2018. In 2019, West Virginia beats District of Columbia to be the state with lowest SAT total mean.\n",
    "\n",
    "Interesting finding:\n",
    "<br>\n",
    "In 2017, District of Columbia has a 100% SAT participation rate and lowest SAT total mean. \n",
    "<br>\n",
    "In 2019, District of Columbia does not have a 100% SAT participation rate and lowest SAT total mean.\n",
    "<br>\n",
    "<br>"
   ]
  },
  {
   "cell_type": "markdown",
   "metadata": {},
   "source": [
    "**State(s) with the lowest and highest ACT composite mean**\n",
    "<br>\n",
    "_From year 2017 to 2019_\n",
    "<br>"
   ]
  },
  {
   "cell_type": "markdown",
   "metadata": {},
   "source": [
    "<font size=\"2\">**Lowest ACT composite mean**</font>"
   ]
  },
  {
   "cell_type": "code",
   "execution_count": 54,
   "metadata": {},
   "outputs": [
    {
     "name": "stdout",
     "output_type": "stream",
     "text": [
      "States with the lowest mean composite scores for the 2017, 2018 and 2019 ACT respectively:\n",
      "\n",
      "Nevada\n",
      "Nevada\n",
      "Nevada\n"
     ]
    }
   ],
   "source": [
    "print('States with the lowest mean composite scores for the 2017, 2018 and 2019 ACT respectively:\\n')\n",
    "\n",
    "for i in lst_df:\n",
    "    \n",
    "    min_total = i.groupby('state')['composite'].agg('mean').idxmin()\n",
    "    \n",
    "    print(min_total)"
   ]
  },
  {
   "cell_type": "markdown",
   "metadata": {},
   "source": [
    "<br>\n",
    "\n",
    "<font size=\"2\">**Highest ACT composite mean**</font>"
   ]
  },
  {
   "cell_type": "code",
   "execution_count": 55,
   "metadata": {},
   "outputs": [
    {
     "name": "stdout",
     "output_type": "stream",
     "text": [
      "States with the highest mean composite scores for the 2017, 2018 and 2019 ACT respectively:\n",
      "\n",
      "New Hampshire\n",
      "Connecticut\n",
      "Connecticut\n"
     ]
    }
   ],
   "source": [
    "print(\"States with the highest mean composite scores for the 2017, 2018 and 2019 ACT respectively:\\n\")\n",
    "\n",
    "for i in lst_df:\n",
    "    \n",
    "    max_total = i.groupby('state')['composite'].agg('mean').idxmax()\n",
    "    \n",
    "    print(max_total)"
   ]
  },
  {
   "cell_type": "markdown",
   "metadata": {},
   "source": [
    "<br>\n",
    "\n",
    "<font size=\"2\">**Findings for states with highest and lowest ACT composite mean**</font>\n",
    "<br>\n",
    "Based on the result above, the state with the lowest ACT composite mean from 2017 to 2019 is Nevada\n",
    "<br>\n",
    "While, the state with the highest ACT composite mean is New Hampshire in 2017. In 2018, Connecticut beats New Hampshire to be the state with highest ACT composite mean and stays till 2019.\n",
    "\n",
    "Interesting findings:\n",
    "<br>\n",
    "Nevada has a 100% ACT participation rate and lowest ACT composite mean from 2017 to 2019. \n",
    "<br>\n",
    "Connecticut has a 100% SAT participation rate and highest ACT composite composite mean from 2018 to 2019.\n",
    "<br>\n",
    "<br>"
   ]
  },
  {
   "cell_type": "markdown",
   "metadata": {
    "tags": []
   },
   "source": [
    "**State(s) with highest SAT participation rate in 2017**\n",
    "<br>"
   ]
  },
  {
   "cell_type": "code",
   "execution_count": 56,
   "metadata": {},
   "outputs": [],
   "source": [
    "sat_act_17_18_19.set_index('state', inplace=True)"
   ]
  },
  {
   "cell_type": "code",
   "execution_count": 57,
   "metadata": {},
   "outputs": [
    {
     "data": {
      "text/html": [
       "<div>\n",
       "<style scoped>\n",
       "    .dataframe tbody tr th:only-of-type {\n",
       "        vertical-align: middle;\n",
       "    }\n",
       "\n",
       "    .dataframe tbody tr th {\n",
       "        vertical-align: top;\n",
       "    }\n",
       "\n",
       "    .dataframe thead th {\n",
       "        text-align: right;\n",
       "    }\n",
       "</style>\n",
       "<table border=\"1\" class=\"dataframe\">\n",
       "  <thead>\n",
       "    <tr style=\"text-align: right;\">\n",
       "      <th></th>\n",
       "      <th>sat_participation_17</th>\n",
       "      <th>sat_participation_18</th>\n",
       "      <th>sat_participation_19</th>\n",
       "    </tr>\n",
       "    <tr>\n",
       "      <th>state</th>\n",
       "      <th></th>\n",
       "      <th></th>\n",
       "      <th></th>\n",
       "    </tr>\n",
       "  </thead>\n",
       "  <tbody>\n",
       "    <tr>\n",
       "      <th>Connecticut</th>\n",
       "      <td>1.0</td>\n",
       "      <td>1.00</td>\n",
       "      <td>1.00</td>\n",
       "    </tr>\n",
       "    <tr>\n",
       "      <th>Delaware</th>\n",
       "      <td>1.0</td>\n",
       "      <td>1.00</td>\n",
       "      <td>1.00</td>\n",
       "    </tr>\n",
       "    <tr>\n",
       "      <th>District of Columbia</th>\n",
       "      <td>1.0</td>\n",
       "      <td>0.92</td>\n",
       "      <td>0.94</td>\n",
       "    </tr>\n",
       "    <tr>\n",
       "      <th>Michigan</th>\n",
       "      <td>1.0</td>\n",
       "      <td>1.00</td>\n",
       "      <td>1.00</td>\n",
       "    </tr>\n",
       "  </tbody>\n",
       "</table>\n",
       "</div>"
      ],
      "text/plain": [
       "                      sat_participation_17  sat_participation_18  \\\n",
       "state                                                              \n",
       "Connecticut                            1.0                  1.00   \n",
       "Delaware                               1.0                  1.00   \n",
       "District of Columbia                   1.0                  0.92   \n",
       "Michigan                               1.0                  1.00   \n",
       "\n",
       "                      sat_participation_19  \n",
       "state                                       \n",
       "Connecticut                           1.00  \n",
       "Delaware                              1.00  \n",
       "District of Columbia                  0.94  \n",
       "Michigan                              1.00  "
      ]
     },
     "execution_count": 57,
     "metadata": {},
     "output_type": "execute_result"
    }
   ],
   "source": [
    "sat_act_17_18_19.loc[sat_act_17_18_19['sat_participation_17'] == 1.0, \n",
    "                     \n",
    "                     ['sat_participation_17',\n",
    "                      'sat_participation_18',\n",
    "                      'sat_participation_19']]"
   ]
  },
  {
   "cell_type": "markdown",
   "metadata": {},
   "source": [
    "Connecticut, Delaware and Michigan have a 100% SAT participation rate from 2017 till 2019. Thus, there is 0 yoy rate growth for these 3 years. \n",
    "<br>\n",
    "District of Columbia has a 100% SAT participation rate in 2017 and drop to 92% in 2018 before rising to 94% in 2019."
   ]
  },
  {
   "cell_type": "markdown",
   "metadata": {},
   "source": [
    "**State(s) with highest SAT participation rate in 2019**"
   ]
  },
  {
   "cell_type": "code",
   "execution_count": 58,
   "metadata": {},
   "outputs": [
    {
     "data": {
      "text/html": [
       "<div>\n",
       "<style scoped>\n",
       "    .dataframe tbody tr th:only-of-type {\n",
       "        vertical-align: middle;\n",
       "    }\n",
       "\n",
       "    .dataframe tbody tr th {\n",
       "        vertical-align: top;\n",
       "    }\n",
       "\n",
       "    .dataframe thead th {\n",
       "        text-align: right;\n",
       "    }\n",
       "</style>\n",
       "<table border=\"1\" class=\"dataframe\">\n",
       "  <thead>\n",
       "    <tr style=\"text-align: right;\">\n",
       "      <th></th>\n",
       "      <th>sat_participation_17</th>\n",
       "      <th>sat_participation_18</th>\n",
       "      <th>sat_participation_19</th>\n",
       "    </tr>\n",
       "    <tr>\n",
       "      <th>state</th>\n",
       "      <th></th>\n",
       "      <th></th>\n",
       "      <th></th>\n",
       "    </tr>\n",
       "  </thead>\n",
       "  <tbody>\n",
       "    <tr>\n",
       "      <th>Colorado</th>\n",
       "      <td>0.11</td>\n",
       "      <td>1.00</td>\n",
       "      <td>1.0</td>\n",
       "    </tr>\n",
       "    <tr>\n",
       "      <th>Connecticut</th>\n",
       "      <td>1.00</td>\n",
       "      <td>1.00</td>\n",
       "      <td>1.0</td>\n",
       "    </tr>\n",
       "    <tr>\n",
       "      <th>Delaware</th>\n",
       "      <td>1.00</td>\n",
       "      <td>1.00</td>\n",
       "      <td>1.0</td>\n",
       "    </tr>\n",
       "    <tr>\n",
       "      <th>Florida</th>\n",
       "      <td>0.83</td>\n",
       "      <td>0.56</td>\n",
       "      <td>1.0</td>\n",
       "    </tr>\n",
       "    <tr>\n",
       "      <th>Idaho</th>\n",
       "      <td>0.93</td>\n",
       "      <td>1.00</td>\n",
       "      <td>1.0</td>\n",
       "    </tr>\n",
       "    <tr>\n",
       "      <th>Illinois</th>\n",
       "      <td>0.09</td>\n",
       "      <td>0.99</td>\n",
       "      <td>1.0</td>\n",
       "    </tr>\n",
       "    <tr>\n",
       "      <th>Michigan</th>\n",
       "      <td>1.00</td>\n",
       "      <td>1.00</td>\n",
       "      <td>1.0</td>\n",
       "    </tr>\n",
       "    <tr>\n",
       "      <th>Rhode Island</th>\n",
       "      <td>0.71</td>\n",
       "      <td>0.97</td>\n",
       "      <td>1.0</td>\n",
       "    </tr>\n",
       "  </tbody>\n",
       "</table>\n",
       "</div>"
      ],
      "text/plain": [
       "              sat_participation_17  sat_participation_18  sat_participation_19\n",
       "state                                                                         \n",
       "Colorado                      0.11                  1.00                   1.0\n",
       "Connecticut                   1.00                  1.00                   1.0\n",
       "Delaware                      1.00                  1.00                   1.0\n",
       "Florida                       0.83                  0.56                   1.0\n",
       "Idaho                         0.93                  1.00                   1.0\n",
       "Illinois                      0.09                  0.99                   1.0\n",
       "Michigan                      1.00                  1.00                   1.0\n",
       "Rhode Island                  0.71                  0.97                   1.0"
      ]
     },
     "execution_count": 58,
     "metadata": {},
     "output_type": "execute_result"
    }
   ],
   "source": [
    "sat_act_17_18_19.loc[sat_act_17_18_19['sat_participation_19'] == 1.0, \n",
    "                     \n",
    "                     ['sat_participation_17',\n",
    "                      'sat_participation_18',\n",
    "                      'sat_participation_19']]"
   ]
  },
  {
   "cell_type": "markdown",
   "metadata": {},
   "source": [
    "Connecticut, Delaware and Michigan have a 100% SAT participation rate from 2017 till 2019. Thus, there is 0 yoy rate growth for these 3 years. \n",
    "<br>\n",
    "Illinois has the highest yoy growth rate (1000%) from 2017 to 2018, followed by Colorado (809%).\n",
    "<br>"
   ]
  },
  {
   "cell_type": "markdown",
   "metadata": {},
   "source": [
    "<br>\n",
    "\n",
    "**State(s) with >50% participation on both tests from 2017 to 2019**\n",
    "<br>"
   ]
  },
  {
   "cell_type": "markdown",
   "metadata": {},
   "source": [
    "_State(s) for 2017_"
   ]
  },
  {
   "cell_type": "code",
   "execution_count": 59,
   "metadata": {},
   "outputs": [
    {
     "data": {
      "text/html": [
       "<div>\n",
       "<style scoped>\n",
       "    .dataframe tbody tr th:only-of-type {\n",
       "        vertical-align: middle;\n",
       "    }\n",
       "\n",
       "    .dataframe tbody tr th {\n",
       "        vertical-align: top;\n",
       "    }\n",
       "\n",
       "    .dataframe thead th {\n",
       "        text-align: right;\n",
       "    }\n",
       "</style>\n",
       "<table border=\"1\" class=\"dataframe\">\n",
       "  <thead>\n",
       "    <tr style=\"text-align: right;\">\n",
       "      <th></th>\n",
       "      <th>state</th>\n",
       "      <th>sat_participation</th>\n",
       "      <th>ebrw</th>\n",
       "      <th>math</th>\n",
       "      <th>total</th>\n",
       "      <th>act_participation</th>\n",
       "      <th>composite</th>\n",
       "    </tr>\n",
       "  </thead>\n",
       "  <tbody>\n",
       "    <tr>\n",
       "      <th>9</th>\n",
       "      <td>Florida</td>\n",
       "      <td>0.83</td>\n",
       "      <td>520</td>\n",
       "      <td>497</td>\n",
       "      <td>1017</td>\n",
       "      <td>0.73</td>\n",
       "      <td>19.8</td>\n",
       "    </tr>\n",
       "    <tr>\n",
       "      <th>10</th>\n",
       "      <td>Georgia</td>\n",
       "      <td>0.61</td>\n",
       "      <td>535</td>\n",
       "      <td>515</td>\n",
       "      <td>1050</td>\n",
       "      <td>0.55</td>\n",
       "      <td>21.4</td>\n",
       "    </tr>\n",
       "    <tr>\n",
       "      <th>11</th>\n",
       "      <td>Hawaii</td>\n",
       "      <td>0.55</td>\n",
       "      <td>544</td>\n",
       "      <td>541</td>\n",
       "      <td>1085</td>\n",
       "      <td>0.90</td>\n",
       "      <td>19.0</td>\n",
       "    </tr>\n",
       "  </tbody>\n",
       "</table>\n",
       "</div>"
      ],
      "text/plain": [
       "      state  sat_participation  ebrw  math  total  act_participation composite\n",
       "9   Florida               0.83   520   497   1017               0.73      19.8\n",
       "10  Georgia               0.61   535   515   1050               0.55      21.4\n",
       "11   Hawaii               0.55   544   541   1085               0.90      19.0"
      ]
     },
     "execution_count": 59,
     "metadata": {},
     "output_type": "execute_result"
    }
   ],
   "source": [
    "sat_act_17[(sat_act_17['sat_participation'] > 0.5) &\n",
    "            (sat_act_17['act_participation'] > 0.5)]"
   ]
  },
  {
   "cell_type": "markdown",
   "metadata": {},
   "source": [
    "_State(s) for 2018_"
   ]
  },
  {
   "cell_type": "code",
   "execution_count": 60,
   "metadata": {},
   "outputs": [
    {
     "data": {
      "text/html": [
       "<div>\n",
       "<style scoped>\n",
       "    .dataframe tbody tr th:only-of-type {\n",
       "        vertical-align: middle;\n",
       "    }\n",
       "\n",
       "    .dataframe tbody tr th {\n",
       "        vertical-align: top;\n",
       "    }\n",
       "\n",
       "    .dataframe thead th {\n",
       "        text-align: right;\n",
       "    }\n",
       "</style>\n",
       "<table border=\"1\" class=\"dataframe\">\n",
       "  <thead>\n",
       "    <tr style=\"text-align: right;\">\n",
       "      <th></th>\n",
       "      <th>state</th>\n",
       "      <th>sat_participation</th>\n",
       "      <th>ebrw</th>\n",
       "      <th>math</th>\n",
       "      <th>total</th>\n",
       "      <th>act_participation</th>\n",
       "      <th>composite</th>\n",
       "    </tr>\n",
       "  </thead>\n",
       "  <tbody>\n",
       "    <tr>\n",
       "      <th>9</th>\n",
       "      <td>Florida</td>\n",
       "      <td>0.56</td>\n",
       "      <td>550</td>\n",
       "      <td>549</td>\n",
       "      <td>1099</td>\n",
       "      <td>0.66</td>\n",
       "      <td>19.9</td>\n",
       "    </tr>\n",
       "    <tr>\n",
       "      <th>10</th>\n",
       "      <td>Georgia</td>\n",
       "      <td>0.70</td>\n",
       "      <td>542</td>\n",
       "      <td>522</td>\n",
       "      <td>1064</td>\n",
       "      <td>0.53</td>\n",
       "      <td>21.4</td>\n",
       "    </tr>\n",
       "    <tr>\n",
       "      <th>11</th>\n",
       "      <td>Hawaii</td>\n",
       "      <td>0.56</td>\n",
       "      <td>480</td>\n",
       "      <td>530</td>\n",
       "      <td>1010</td>\n",
       "      <td>0.89</td>\n",
       "      <td>18.9</td>\n",
       "    </tr>\n",
       "    <tr>\n",
       "      <th>33</th>\n",
       "      <td>North Carolina</td>\n",
       "      <td>0.52</td>\n",
       "      <td>554</td>\n",
       "      <td>543</td>\n",
       "      <td>1098</td>\n",
       "      <td>1.00</td>\n",
       "      <td>19.1</td>\n",
       "    </tr>\n",
       "    <tr>\n",
       "      <th>40</th>\n",
       "      <td>South Carolina</td>\n",
       "      <td>0.55</td>\n",
       "      <td>547</td>\n",
       "      <td>523</td>\n",
       "      <td>1070</td>\n",
       "      <td>1.00</td>\n",
       "      <td>18.3</td>\n",
       "    </tr>\n",
       "  </tbody>\n",
       "</table>\n",
       "</div>"
      ],
      "text/plain": [
       "             state  sat_participation  ebrw  math  total  act_participation  \\\n",
       "9          Florida               0.56   550   549   1099               0.66   \n",
       "10         Georgia               0.70   542   522   1064               0.53   \n",
       "11          Hawaii               0.56   480   530   1010               0.89   \n",
       "33  North Carolina               0.52   554   543   1098               1.00   \n",
       "40  South Carolina               0.55   547   523   1070               1.00   \n",
       "\n",
       "    composite  \n",
       "9        19.9  \n",
       "10       21.4  \n",
       "11       18.9  \n",
       "33       19.1  \n",
       "40       18.3  "
      ]
     },
     "execution_count": 60,
     "metadata": {},
     "output_type": "execute_result"
    }
   ],
   "source": [
    "sat_act_18[(sat_act_18['sat_participation'] > 0.5) &\n",
    "            (sat_act_18['act_participation'] > 0.5)]"
   ]
  },
  {
   "cell_type": "markdown",
   "metadata": {},
   "source": [
    "_State(s) for 2019_"
   ]
  },
  {
   "cell_type": "code",
   "execution_count": 61,
   "metadata": {},
   "outputs": [
    {
     "data": {
      "text/html": [
       "<div>\n",
       "<style scoped>\n",
       "    .dataframe tbody tr th:only-of-type {\n",
       "        vertical-align: middle;\n",
       "    }\n",
       "\n",
       "    .dataframe tbody tr th {\n",
       "        vertical-align: top;\n",
       "    }\n",
       "\n",
       "    .dataframe thead th {\n",
       "        text-align: right;\n",
       "    }\n",
       "</style>\n",
       "<table border=\"1\" class=\"dataframe\">\n",
       "  <thead>\n",
       "    <tr style=\"text-align: right;\">\n",
       "      <th></th>\n",
       "      <th>state</th>\n",
       "      <th>sat_participation</th>\n",
       "      <th>ebrw</th>\n",
       "      <th>math</th>\n",
       "      <th>total</th>\n",
       "      <th>act_participation</th>\n",
       "      <th>composite</th>\n",
       "    </tr>\n",
       "  </thead>\n",
       "  <tbody>\n",
       "    <tr>\n",
       "      <th>9</th>\n",
       "      <td>Florida</td>\n",
       "      <td>1.00</td>\n",
       "      <td>516</td>\n",
       "      <td>483</td>\n",
       "      <td>999</td>\n",
       "      <td>0.54</td>\n",
       "      <td>20.1</td>\n",
       "    </tr>\n",
       "    <tr>\n",
       "      <th>11</th>\n",
       "      <td>Hawaii</td>\n",
       "      <td>0.54</td>\n",
       "      <td>550</td>\n",
       "      <td>550</td>\n",
       "      <td>1100</td>\n",
       "      <td>0.80</td>\n",
       "      <td>19.0</td>\n",
       "    </tr>\n",
       "    <tr>\n",
       "      <th>33</th>\n",
       "      <td>North Carolina</td>\n",
       "      <td>0.51</td>\n",
       "      <td>554</td>\n",
       "      <td>546</td>\n",
       "      <td>1100</td>\n",
       "      <td>1.00</td>\n",
       "      <td>19.0</td>\n",
       "    </tr>\n",
       "    <tr>\n",
       "      <th>40</th>\n",
       "      <td>South Carolina</td>\n",
       "      <td>0.68</td>\n",
       "      <td>526</td>\n",
       "      <td>504</td>\n",
       "      <td>1030</td>\n",
       "      <td>0.78</td>\n",
       "      <td>18.8</td>\n",
       "    </tr>\n",
       "  </tbody>\n",
       "</table>\n",
       "</div>"
      ],
      "text/plain": [
       "             state  sat_participation  ebrw  math  total  act_participation  \\\n",
       "9          Florida               1.00   516   483    999               0.54   \n",
       "11          Hawaii               0.54   550   550   1100               0.80   \n",
       "33  North Carolina               0.51   554   546   1100               1.00   \n",
       "40  South Carolina               0.68   526   504   1030               0.78   \n",
       "\n",
       "    composite  \n",
       "9        20.1  \n",
       "11       19.0  \n",
       "33       19.0  \n",
       "40       18.8  "
      ]
     },
     "execution_count": 61,
     "metadata": {},
     "output_type": "execute_result"
    }
   ],
   "source": [
    "sat_act_19[(sat_act_19['sat_participation'] > 0.5) &\n",
    "            (sat_act_19['act_participation'] > 0.5)]"
   ]
  },
  {
   "cell_type": "markdown",
   "metadata": {},
   "source": [
    "Florida and Hawaii have more than 50% for SAT and ACT participation rate from 2017 t0 2019. \n",
    "<br>\n",
    "Georgia have more than 50% for SAT and ACT participation rate from 2017 to 2018.\n",
    "<br>\n",
    "North Carolina and South Carolina have more than 50% for SAT and ACT participation rate from 2018 to 2019."
   ]
  },
  {
   "cell_type": "code",
   "execution_count": 62,
   "metadata": {},
   "outputs": [
    {
     "data": {
      "text/html": [
       "<div>\n",
       "<style scoped>\n",
       "    .dataframe tbody tr th:only-of-type {\n",
       "        vertical-align: middle;\n",
       "    }\n",
       "\n",
       "    .dataframe tbody tr th {\n",
       "        vertical-align: top;\n",
       "    }\n",
       "\n",
       "    .dataframe thead th {\n",
       "        text-align: right;\n",
       "    }\n",
       "</style>\n",
       "<table border=\"1\" class=\"dataframe\">\n",
       "  <thead>\n",
       "    <tr style=\"text-align: right;\">\n",
       "      <th></th>\n",
       "      <th>sat_participation_17</th>\n",
       "      <th>ebrw_17</th>\n",
       "      <th>math_17</th>\n",
       "      <th>total_17</th>\n",
       "      <th>act_participation_17</th>\n",
       "      <th>sat_participation_18</th>\n",
       "      <th>ebrw_18</th>\n",
       "      <th>math_18</th>\n",
       "      <th>total_18</th>\n",
       "      <th>act_participation_18</th>\n",
       "      <th>composite_18</th>\n",
       "      <th>sat_participation_19</th>\n",
       "      <th>ebrw_19</th>\n",
       "      <th>math_19</th>\n",
       "      <th>total_19</th>\n",
       "      <th>act_participation_19</th>\n",
       "      <th>composite_19</th>\n",
       "    </tr>\n",
       "  </thead>\n",
       "  <tbody>\n",
       "    <tr>\n",
       "      <th>count</th>\n",
       "      <td>51.000000</td>\n",
       "      <td>51.000000</td>\n",
       "      <td>51.000000</td>\n",
       "      <td>51.000000</td>\n",
       "      <td>51.000000</td>\n",
       "      <td>51.000000</td>\n",
       "      <td>51.000000</td>\n",
       "      <td>51.000000</td>\n",
       "      <td>51.000000</td>\n",
       "      <td>51.000000</td>\n",
       "      <td>51.000000</td>\n",
       "      <td>51.000000</td>\n",
       "      <td>51.000000</td>\n",
       "      <td>51.000000</td>\n",
       "      <td>51.000000</td>\n",
       "      <td>51.000000</td>\n",
       "      <td>51.000000</td>\n",
       "    </tr>\n",
       "    <tr>\n",
       "      <th>mean</th>\n",
       "      <td>0.398039</td>\n",
       "      <td>569.117647</td>\n",
       "      <td>556.882353</td>\n",
       "      <td>1126.098039</td>\n",
       "      <td>0.652549</td>\n",
       "      <td>0.457451</td>\n",
       "      <td>563.686275</td>\n",
       "      <td>556.235294</td>\n",
       "      <td>1120.019608</td>\n",
       "      <td>0.617255</td>\n",
       "      <td>21.496078</td>\n",
       "      <td>0.490588</td>\n",
       "      <td>560.803922</td>\n",
       "      <td>552.196078</td>\n",
       "      <td>1113.078431</td>\n",
       "      <td>0.586667</td>\n",
       "      <td>21.464706</td>\n",
       "    </tr>\n",
       "    <tr>\n",
       "      <th>std</th>\n",
       "      <td>0.352766</td>\n",
       "      <td>45.666901</td>\n",
       "      <td>47.121395</td>\n",
       "      <td>92.494812</td>\n",
       "      <td>0.321408</td>\n",
       "      <td>0.373143</td>\n",
       "      <td>47.502627</td>\n",
       "      <td>47.772623</td>\n",
       "      <td>94.155083</td>\n",
       "      <td>0.340371</td>\n",
       "      <td>2.111583</td>\n",
       "      <td>0.387476</td>\n",
       "      <td>46.248035</td>\n",
       "      <td>51.290553</td>\n",
       "      <td>97.197910</td>\n",
       "      <td>0.345159</td>\n",
       "      <td>2.194523</td>\n",
       "    </tr>\n",
       "    <tr>\n",
       "      <th>min</th>\n",
       "      <td>0.020000</td>\n",
       "      <td>482.000000</td>\n",
       "      <td>468.000000</td>\n",
       "      <td>950.000000</td>\n",
       "      <td>0.080000</td>\n",
       "      <td>0.020000</td>\n",
       "      <td>480.000000</td>\n",
       "      <td>480.000000</td>\n",
       "      <td>977.000000</td>\n",
       "      <td>0.070000</td>\n",
       "      <td>17.700000</td>\n",
       "      <td>0.020000</td>\n",
       "      <td>483.000000</td>\n",
       "      <td>460.000000</td>\n",
       "      <td>943.000000</td>\n",
       "      <td>0.060000</td>\n",
       "      <td>17.900000</td>\n",
       "    </tr>\n",
       "    <tr>\n",
       "      <th>50%</th>\n",
       "      <td>0.380000</td>\n",
       "      <td>559.000000</td>\n",
       "      <td>548.000000</td>\n",
       "      <td>1107.000000</td>\n",
       "      <td>0.690000</td>\n",
       "      <td>0.520000</td>\n",
       "      <td>552.000000</td>\n",
       "      <td>544.000000</td>\n",
       "      <td>1098.000000</td>\n",
       "      <td>0.660000</td>\n",
       "      <td>21.300000</td>\n",
       "      <td>0.540000</td>\n",
       "      <td>550.000000</td>\n",
       "      <td>546.000000</td>\n",
       "      <td>1097.000000</td>\n",
       "      <td>0.540000</td>\n",
       "      <td>21.100000</td>\n",
       "    </tr>\n",
       "    <tr>\n",
       "      <th>60%</th>\n",
       "      <td>0.550000</td>\n",
       "      <td>563.000000</td>\n",
       "      <td>556.000000</td>\n",
       "      <td>1116.000000</td>\n",
       "      <td>0.840000</td>\n",
       "      <td>0.630000</td>\n",
       "      <td>564.000000</td>\n",
       "      <td>553.000000</td>\n",
       "      <td>1117.000000</td>\n",
       "      <td>0.770000</td>\n",
       "      <td>21.900000</td>\n",
       "      <td>0.680000</td>\n",
       "      <td>562.000000</td>\n",
       "      <td>551.000000</td>\n",
       "      <td>1119.000000</td>\n",
       "      <td>0.750000</td>\n",
       "      <td>21.600000</td>\n",
       "    </tr>\n",
       "    <tr>\n",
       "      <th>max</th>\n",
       "      <td>1.000000</td>\n",
       "      <td>644.000000</td>\n",
       "      <td>651.000000</td>\n",
       "      <td>1295.000000</td>\n",
       "      <td>1.000000</td>\n",
       "      <td>1.000000</td>\n",
       "      <td>643.000000</td>\n",
       "      <td>655.000000</td>\n",
       "      <td>1298.000000</td>\n",
       "      <td>1.000000</td>\n",
       "      <td>25.600000</td>\n",
       "      <td>1.000000</td>\n",
       "      <td>636.000000</td>\n",
       "      <td>648.000000</td>\n",
       "      <td>1284.000000</td>\n",
       "      <td>1.000000</td>\n",
       "      <td>25.500000</td>\n",
       "    </tr>\n",
       "  </tbody>\n",
       "</table>\n",
       "</div>"
      ],
      "text/plain": [
       "       sat_participation_17     ebrw_17     math_17     total_17  \\\n",
       "count             51.000000   51.000000   51.000000    51.000000   \n",
       "mean               0.398039  569.117647  556.882353  1126.098039   \n",
       "std                0.352766   45.666901   47.121395    92.494812   \n",
       "min                0.020000  482.000000  468.000000   950.000000   \n",
       "50%                0.380000  559.000000  548.000000  1107.000000   \n",
       "60%                0.550000  563.000000  556.000000  1116.000000   \n",
       "max                1.000000  644.000000  651.000000  1295.000000   \n",
       "\n",
       "       act_participation_17  sat_participation_18     ebrw_18     math_18  \\\n",
       "count             51.000000             51.000000   51.000000   51.000000   \n",
       "mean               0.652549              0.457451  563.686275  556.235294   \n",
       "std                0.321408              0.373143   47.502627   47.772623   \n",
       "min                0.080000              0.020000  480.000000  480.000000   \n",
       "50%                0.690000              0.520000  552.000000  544.000000   \n",
       "60%                0.840000              0.630000  564.000000  553.000000   \n",
       "max                1.000000              1.000000  643.000000  655.000000   \n",
       "\n",
       "          total_18  act_participation_18  composite_18  sat_participation_19  \\\n",
       "count    51.000000             51.000000     51.000000             51.000000   \n",
       "mean   1120.019608              0.617255     21.496078              0.490588   \n",
       "std      94.155083              0.340371      2.111583              0.387476   \n",
       "min     977.000000              0.070000     17.700000              0.020000   \n",
       "50%    1098.000000              0.660000     21.300000              0.540000   \n",
       "60%    1117.000000              0.770000     21.900000              0.680000   \n",
       "max    1298.000000              1.000000     25.600000              1.000000   \n",
       "\n",
       "          ebrw_19     math_19     total_19  act_participation_19  composite_19  \n",
       "count   51.000000   51.000000    51.000000             51.000000     51.000000  \n",
       "mean   560.803922  552.196078  1113.078431              0.586667     21.464706  \n",
       "std     46.248035   51.290553    97.197910              0.345159      2.194523  \n",
       "min    483.000000  460.000000   943.000000              0.060000     17.900000  \n",
       "50%    550.000000  546.000000  1097.000000              0.540000     21.100000  \n",
       "60%    562.000000  551.000000  1119.000000              0.750000     21.600000  \n",
       "max    636.000000  648.000000  1284.000000              1.000000     25.500000  "
      ]
     },
     "execution_count": 62,
     "metadata": {},
     "output_type": "execute_result"
    }
   ],
   "source": [
    "sat_act_17_18_19.describe(percentiles=[0.6])"
   ]
  },
  {
   "cell_type": "code",
   "execution_count": 63,
   "metadata": {
    "tags": []
   },
   "outputs": [
    {
     "data": {
      "text/html": [
       "<div>\n",
       "<style scoped>\n",
       "    .dataframe tbody tr th:only-of-type {\n",
       "        vertical-align: middle;\n",
       "    }\n",
       "\n",
       "    .dataframe tbody tr th {\n",
       "        vertical-align: top;\n",
       "    }\n",
       "\n",
       "    .dataframe thead th {\n",
       "        text-align: right;\n",
       "    }\n",
       "</style>\n",
       "<table border=\"1\" class=\"dataframe\">\n",
       "  <thead>\n",
       "    <tr style=\"text-align: right;\">\n",
       "      <th></th>\n",
       "      <th>sat_participation_17</th>\n",
       "      <th>sat_participation_18</th>\n",
       "      <th>sat_participation_19</th>\n",
       "      <th>act_participation_19</th>\n",
       "    </tr>\n",
       "    <tr>\n",
       "      <th>state</th>\n",
       "      <th></th>\n",
       "      <th></th>\n",
       "      <th></th>\n",
       "      <th></th>\n",
       "    </tr>\n",
       "  </thead>\n",
       "  <tbody>\n",
       "    <tr>\n",
       "      <th>Alabama</th>\n",
       "      <td>0.05</td>\n",
       "      <td>0.06</td>\n",
       "      <td>0.07</td>\n",
       "      <td>1.00</td>\n",
       "    </tr>\n",
       "    <tr>\n",
       "      <th>Arkansas</th>\n",
       "      <td>0.03</td>\n",
       "      <td>0.05</td>\n",
       "      <td>0.06</td>\n",
       "      <td>1.00</td>\n",
       "    </tr>\n",
       "    <tr>\n",
       "      <th>Iowa</th>\n",
       "      <td>0.02</td>\n",
       "      <td>0.03</td>\n",
       "      <td>0.03</td>\n",
       "      <td>0.66</td>\n",
       "    </tr>\n",
       "    <tr>\n",
       "      <th>Kansas</th>\n",
       "      <td>0.04</td>\n",
       "      <td>0.04</td>\n",
       "      <td>0.04</td>\n",
       "      <td>0.72</td>\n",
       "    </tr>\n",
       "    <tr>\n",
       "      <th>Kentucky</th>\n",
       "      <td>0.04</td>\n",
       "      <td>0.04</td>\n",
       "      <td>0.04</td>\n",
       "      <td>1.00</td>\n",
       "    </tr>\n",
       "    <tr>\n",
       "      <th>Louisiana</th>\n",
       "      <td>0.04</td>\n",
       "      <td>0.04</td>\n",
       "      <td>0.05</td>\n",
       "      <td>1.00</td>\n",
       "    </tr>\n",
       "    <tr>\n",
       "      <th>Minnesota</th>\n",
       "      <td>0.03</td>\n",
       "      <td>0.04</td>\n",
       "      <td>0.04</td>\n",
       "      <td>0.95</td>\n",
       "    </tr>\n",
       "    <tr>\n",
       "      <th>Mississippi</th>\n",
       "      <td>0.02</td>\n",
       "      <td>0.03</td>\n",
       "      <td>0.03</td>\n",
       "      <td>1.00</td>\n",
       "    </tr>\n",
       "    <tr>\n",
       "      <th>Missouri</th>\n",
       "      <td>0.03</td>\n",
       "      <td>0.04</td>\n",
       "      <td>0.04</td>\n",
       "      <td>0.82</td>\n",
       "    </tr>\n",
       "    <tr>\n",
       "      <th>Montana</th>\n",
       "      <td>0.10</td>\n",
       "      <td>0.10</td>\n",
       "      <td>0.09</td>\n",
       "      <td>1.00</td>\n",
       "    </tr>\n",
       "    <tr>\n",
       "      <th>Nebraska</th>\n",
       "      <td>0.03</td>\n",
       "      <td>0.03</td>\n",
       "      <td>0.03</td>\n",
       "      <td>1.00</td>\n",
       "    </tr>\n",
       "    <tr>\n",
       "      <th>Nevada</th>\n",
       "      <td>0.26</td>\n",
       "      <td>0.23</td>\n",
       "      <td>0.20</td>\n",
       "      <td>1.00</td>\n",
       "    </tr>\n",
       "    <tr>\n",
       "      <th>New Mexico</th>\n",
       "      <td>0.11</td>\n",
       "      <td>0.16</td>\n",
       "      <td>0.18</td>\n",
       "      <td>0.63</td>\n",
       "    </tr>\n",
       "    <tr>\n",
       "      <th>North Dakota</th>\n",
       "      <td>0.02</td>\n",
       "      <td>0.02</td>\n",
       "      <td>0.02</td>\n",
       "      <td>0.96</td>\n",
       "    </tr>\n",
       "    <tr>\n",
       "      <th>Ohio</th>\n",
       "      <td>0.12</td>\n",
       "      <td>0.18</td>\n",
       "      <td>0.19</td>\n",
       "      <td>1.00</td>\n",
       "    </tr>\n",
       "    <tr>\n",
       "      <th>South Dakota</th>\n",
       "      <td>0.03</td>\n",
       "      <td>0.03</td>\n",
       "      <td>0.03</td>\n",
       "      <td>0.75</td>\n",
       "    </tr>\n",
       "    <tr>\n",
       "      <th>Tennessee</th>\n",
       "      <td>0.05</td>\n",
       "      <td>0.06</td>\n",
       "      <td>0.07</td>\n",
       "      <td>1.00</td>\n",
       "    </tr>\n",
       "    <tr>\n",
       "      <th>Utah</th>\n",
       "      <td>0.03</td>\n",
       "      <td>0.04</td>\n",
       "      <td>0.04</td>\n",
       "      <td>1.00</td>\n",
       "    </tr>\n",
       "    <tr>\n",
       "      <th>Wisconsin</th>\n",
       "      <td>0.03</td>\n",
       "      <td>0.03</td>\n",
       "      <td>0.03</td>\n",
       "      <td>1.00</td>\n",
       "    </tr>\n",
       "    <tr>\n",
       "      <th>Wyoming</th>\n",
       "      <td>0.03</td>\n",
       "      <td>0.03</td>\n",
       "      <td>0.03</td>\n",
       "      <td>1.00</td>\n",
       "    </tr>\n",
       "  </tbody>\n",
       "</table>\n",
       "</div>"
      ],
      "text/plain": [
       "              sat_participation_17  sat_participation_18  \\\n",
       "state                                                      \n",
       "Alabama                       0.05                  0.06   \n",
       "Arkansas                      0.03                  0.05   \n",
       "Iowa                          0.02                  0.03   \n",
       "Kansas                        0.04                  0.04   \n",
       "Kentucky                      0.04                  0.04   \n",
       "Louisiana                     0.04                  0.04   \n",
       "Minnesota                     0.03                  0.04   \n",
       "Mississippi                   0.02                  0.03   \n",
       "Missouri                      0.03                  0.04   \n",
       "Montana                       0.10                  0.10   \n",
       "Nebraska                      0.03                  0.03   \n",
       "Nevada                        0.26                  0.23   \n",
       "New Mexico                    0.11                  0.16   \n",
       "North Dakota                  0.02                  0.02   \n",
       "Ohio                          0.12                  0.18   \n",
       "South Dakota                  0.03                  0.03   \n",
       "Tennessee                     0.05                  0.06   \n",
       "Utah                          0.03                  0.04   \n",
       "Wisconsin                     0.03                  0.03   \n",
       "Wyoming                       0.03                  0.03   \n",
       "\n",
       "              sat_participation_19  act_participation_19  \n",
       "state                                                     \n",
       "Alabama                       0.07                  1.00  \n",
       "Arkansas                      0.06                  1.00  \n",
       "Iowa                          0.03                  0.66  \n",
       "Kansas                        0.04                  0.72  \n",
       "Kentucky                      0.04                  1.00  \n",
       "Louisiana                     0.05                  1.00  \n",
       "Minnesota                     0.04                  0.95  \n",
       "Mississippi                   0.03                  1.00  \n",
       "Missouri                      0.04                  0.82  \n",
       "Montana                       0.09                  1.00  \n",
       "Nebraska                      0.03                  1.00  \n",
       "Nevada                        0.20                  1.00  \n",
       "New Mexico                    0.18                  0.63  \n",
       "North Dakota                  0.02                  0.96  \n",
       "Ohio                          0.19                  1.00  \n",
       "South Dakota                  0.03                  0.75  \n",
       "Tennessee                     0.07                  1.00  \n",
       "Utah                          0.04                  1.00  \n",
       "Wisconsin                     0.03                  1.00  \n",
       "Wyoming                       0.03                  1.00  "
      ]
     },
     "execution_count": 63,
     "metadata": {},
     "output_type": "execute_result"
    }
   ],
   "source": [
    "sat_act_17_18_19.loc[(sat_act_17_18_19['sat_participation_19'] < 0.22),\n",
    "                    ['sat_participation_17',\n",
    "                     'sat_participation_18',\n",
    "                     'sat_participation_19',\n",
    "                     'act_participation_19',]]"
   ]
  },
  {
   "cell_type": "markdown",
   "metadata": {},
   "source": [
    "States with 40th percentile SAT participation rate and 60th percentile ACT participation rate in 2019 are:\n",
    "* Iowa\n",
    "* Kansas\n",
    "* New Mexico"
   ]
  },
  {
   "cell_type": "markdown",
   "metadata": {},
   "source": [
    "<div class=\"alert alert-block alert-info\">\n",
    "<b>Comment:</b> Good work with the EDA! </div>"
   ]
  },
  {
   "cell_type": "markdown",
   "metadata": {},
   "source": [
    "## Visualize the Data\n",
    "\n",
    "There's not a magic bullet recommendation for the right number of plots to understand a given dataset, but visualizing your data is *always* a good idea. Not only does it allow you to quickly convey your findings (even if you have a non-technical audience), it will often reveal trends in your data that escaped you when you were looking only at numbers. It is important to not only create visualizations, but to **interpret your visualizations** as well.\n",
    "\n",
    "**Every plot should**:\n",
    "- Have a title\n",
    "- Have axis labels\n",
    "- Have appropriate tick labels\n",
    "- Text is legible in a plot\n",
    "- Plots demonstrate meaningful and valid relationships\n",
    "- Have an interpretation to aid understanding\n",
    "\n",
    "Here is an example of what your plots should look like following the above guidelines. Note that while the content of this example is unrelated, the principles of visualization hold:\n",
    "\n",
    "![](https://snag.gy/hCBR1U.jpg)\n",
    "*Interpretation: The above image shows that as we increase our spending on advertising, our sales numbers also tend to increase. There is a positive correlation between advertising spending and sales.*\n",
    "\n",
    "---\n",
    "\n",
    "Here are some prompts to get you started with visualizations. Feel free to add additional visualizations as you see fit:\n",
    "1. Use Seaborn's heatmap with pandas `.corr()` to visualize correlations between all numeric features.\n",
    "    - Heatmaps are generally not appropriate for presentations, and should often be excluded from reports as they can be visually overwhelming. **However**, they can be extremely useful in identify relationships of potential interest (as well as identifying potential collinearity before modeling).\n",
    "    - Please take time to format your output, adding a title. Look through some of the additional arguments and options. (Axis labels aren't really necessary, as long as the title is informative).\n",
    "2. Visualize distributions using histograms. If you have a lot, consider writing a custom function and use subplots.\n",
    "    - *OPTIONAL*: Summarize the underlying distributions of your features (in words & statistics)\n",
    "         - Be thorough in your verbal description of these distributions.\n",
    "         - Be sure to back up these summaries with statistics.\n",
    "         - We generally assume that data we sample from a population will be normally distributed. Do we observe this trend? Explain your answers for each distribution and how you think this will affect estimates made from these data.\n",
    "3. Plot and interpret boxplots. \n",
    "    - Boxplots demonstrate central tendency and spread in variables. In a certain sense, these are somewhat redundant with histograms, but you may be better able to identify clear outliers or differences in IQR, etc.\n",
    "    - Multiple values can be plotted to a single boxplot as long as they are of the same relative scale (meaning they have similar min/max values).\n",
    "    - Each boxplot should:\n",
    "        - Only include variables of a similar scale\n",
    "        - Have clear labels for each variable\n",
    "        - Have appropriate titles and labels\n",
    "4. Plot and interpret scatter plots to view relationships between features. Feel free to write a custom function, and subplot if you'd like. Functions save both time and space.\n",
    "    - Your plots should have:\n",
    "        - Two clearly labeled axes\n",
    "        - A proper title\n",
    "        - Colors and symbols that are clear and unmistakable\n",
    "5. Additional plots of your choosing.\n",
    "    - Are there any additional trends or relationships you haven't explored? Was there something interesting you saw that you'd like to dive further into? It's likely that there are a few more plots you might want to generate to support your narrative and recommendations that you are building toward. **As always, make sure you're interpreting your plots as you go**."
   ]
  },
  {
   "cell_type": "code",
   "execution_count": 64,
   "metadata": {},
   "outputs": [],
   "source": [
    "sat_mean_17 = sat_act_17['sat_participation'].mean()\n",
    "sat_mean_18 = sat_act_18['sat_participation'].mean()\n",
    "sat_mean_19 = sat_act_19['sat_participation'].mean()"
   ]
  },
  {
   "cell_type": "code",
   "execution_count": 65,
   "metadata": {},
   "outputs": [
    {
     "data": {
      "image/png": "[encoded data removed]",
      "text/plain": [
       "<Figure size 1152x648 with 2 Axes>"
      ]
     },
     "metadata": {
      "needs_background": "light"
     },
     "output_type": "display_data"
    }
   ],
   "source": [
    "# Heatmap\n",
    "\n",
    "plt.figure(figsize = (16,9))\n",
    "\n",
    "corr = sat_act_17_18_19.corr()\n",
    "\n",
    "mask = np.zeros_like(corr)\n",
    "mask[np.triu_indices_from(mask)] = True\n",
    "\n",
    "with sns.axes_style('whitegrid'):\n",
    "    sns.heatmap(corr, mask = mask, square = True, annot = True, cmap='coolwarm', vmin = -1, vmax = 1, linewidths = .5)\n",
    "    \n",
    "plt.title('SAT and ACT participation from 2017 to 2019 across states');"
   ]
  },
  {
   "cell_type": "code",
   "execution_count": null,
   "metadata": {},
   "outputs": [],
   "source": []
  },
  {
   "cell_type": "markdown",
   "metadata": {},
   "source": [
    "**Findings from the Heatmap:**\n",
    "* The correlation for SAT participation and ACT participation is negative correlated (-0.79 to -0.87)\n",
    "* The correlation for SAT participation in one year to another year is positively correlated (0.84 to 0.95)\n",
    "* The correlation for ACT participation in one year to another year is positively correlated (0.9 to 0.99)\n",
    "* The correlation for SAT participation to the SAT total is negatively correlated (-0.79 to -0.87)\n",
    "* The correlation for ACT participation to the ACT composite is negatively correlated (-0.86 to -0.87)"
   ]
  },
  {
   "cell_type": "code",
   "execution_count": 66,
   "metadata": {},
   "outputs": [
    {
     "data": {
      "image/png": "[encoded data removed]",
      "text/plain": [
       "<Figure size 1440x432 with 3 Axes>"
      ]
     },
     "metadata": {
      "needs_background": "light"
     },
     "output_type": "display_data"
    }
   ],
   "source": [
    "# Scatterplot\n",
    "\n",
    "plt.figure(figsize = (20, 6));\n",
    "\n",
    "# Scatterplot 1 for 2017\n",
    "plt.subplot(1, 3, 1)\n",
    "\n",
    "plt.scatter(sat_act_17_18_19['sat_participation_17'],\n",
    "            sat_act_17_18_19['act_participation_17'],\n",
    "           );\n",
    "\n",
    "sns.regplot(x = (sat_act_17_18_19['act_participation_17']), y = (sat_act_17_18_19['sat_participation_17']))\n",
    "\n",
    "plt.title('SAT vs ACT participation 2017');\n",
    "plt.xlabel('sat_participation_17', fontsize = 14);\n",
    "plt.ylabel('act_participation_17', fontsize = 14);\n",
    "\n",
    "\n",
    "# Scatterplot 2 for 2018\n",
    "plt.subplot(1, 3, 2)\n",
    "\n",
    "plt.scatter(sat_act_17_18_19['sat_participation_18'],\n",
    "            sat_act_17_18_19['act_participation_18'],\n",
    "           );\n",
    "\n",
    "sns.regplot(x = (sat_act_17_18_19['act_participation_18']), y = (sat_act_17_18_19['sat_participation_18']))\n",
    "\n",
    "plt.title('SAT vs ACT participation 2018');\n",
    "plt.xlabel('sat_participation_18', fontsize = 14);\n",
    "plt.ylabel('act_participation_18', fontsize = 14);\n",
    "\n",
    "\n",
    "# Scatterplot 3 for 2019\n",
    "plt.subplot(1, 3, 3)\n",
    "\n",
    "plt.scatter(sat_act_17_18_19['sat_participation_19'],\n",
    "            sat_act_17_18_19['act_participation_19'],\n",
    "           );\n",
    "\n",
    "sns.regplot(x = (sat_act_17_18_19['act_participation_19']), y = (sat_act_17_18_19['sat_participation_19']))\n",
    "\n",
    "plt.title('SAT vs ACT participation 2019');\n",
    "plt.xlabel('sat_participation_19', fontsize = 14);\n",
    "plt.ylabel('act_participation_19', fontsize = 14);"
   ]
  },
  {
   "cell_type": "markdown",
   "metadata": {},
   "source": [
    "**Findings from the Scatter Plot:**\n",
    "* The correlation for SAT participation and ACT participation is a strong negative correlation\n",
    "* There are a number of outliers with high SAT and ACT participation rate from 2017 to 2019"
   ]
  },
  {
   "cell_type": "code",
   "execution_count": 67,
   "metadata": {},
   "outputs": [
    {
     "data": {
      "image/png": "[encoded data removed]",
      "text/plain": [
       "<Figure size 432x288 with 1 Axes>"
      ]
     },
     "metadata": {
      "needs_background": "light"
     },
     "output_type": "display_data"
    }
   ],
   "source": [
    "# Boxplot for SAT\n",
    "\n",
    "sns.boxplot(data = sat_act_17_18_19[['sat_participation_17',\n",
    "                                     'sat_participation_18',\n",
    "                                     'sat_participation_19']], orient = 'v');"
   ]
  },
  {
   "cell_type": "code",
   "execution_count": 68,
   "metadata": {},
   "outputs": [
    {
     "data": {
      "image/png": "[encoded data removed]",
      "text/plain": [
       "<Figure size 432x288 with 1 Axes>"
      ]
     },
     "metadata": {
      "needs_background": "light"
     },
     "output_type": "display_data"
    }
   ],
   "source": [
    "# Boxplot for ACT\n",
    "\n",
    "sns.boxplot(data = sat_act_17_18_19[['act_participation_17',\n",
    "                                     'act_participation_18',\n",
    "                                     'act_participation_19']], orient = 'v');"
   ]
  },
  {
   "cell_type": "code",
   "execution_count": 69,
   "metadata": {
    "scrolled": true
   },
   "outputs": [
    {
     "data": {
      "image/png": "[encoded data removed]",
      "text/plain": [
       "<Figure size 432x288 with 1 Axes>"
      ]
     },
     "metadata": {
      "needs_background": "light"
     },
     "output_type": "display_data"
    }
   ],
   "source": [
    "# Boxplot for SAT and ACT\n",
    "\n",
    "sns.boxplot(data = sat_act_17_18_19[['sat_participation_17',\n",
    "                                     'sat_participation_18',\n",
    "                                     'sat_participation_19',\n",
    "                                     'act_participation_17',\n",
    "                                     'act_participation_18',\n",
    "                                     'act_participation_19']], orient = 'h');"
   ]
  },
  {
   "cell_type": "markdown",
   "metadata": {},
   "source": [
    "<div class=\"alert alert-block alert-info\">\n",
    "<b>Comment:</b> It would be good to have a title for your box plots. </div>"
   ]
  },
  {
   "cell_type": "markdown",
   "metadata": {},
   "source": [
    "**Findings from the Box Plot:**\n",
    "* The boxplot for SAT and ACT participation is getting longer as the year passes\n",
    "* The median participation for SAT and ACT gets closer as the year passes\n",
    "* In 2017 and 2018, ACT has a higher median participation than SAT. However, in 2019, SAT median participation closes up to ACT."
   ]
  },
  {
   "cell_type": "code",
   "execution_count": 70,
   "metadata": {
    "tags": []
   },
   "outputs": [
    {
     "data": {
      "image/png": "[encoded data removed]",
      "text/plain": [
       "<Figure size 720x360 with 1 Axes>"
      ]
     },
     "metadata": {
      "needs_background": "light"
     },
     "output_type": "display_data"
    }
   ],
   "source": [
    "# Slopegraph\n",
    "\n",
    "plt.figure(figsize = (10, 5))\n",
    "\n",
    "# Data by year.\n",
    "sat_yoy_data = pd.DataFrame([\n",
    "    ['2017', sat_act_17['sat_participation'].mean()],\n",
    "    ['2018', sat_act_18['sat_participation'].mean()],\n",
    "    ['2019', sat_act_19['sat_participation'].mean()]], \n",
    "    columns=['Year','SAT rate average'])\n",
    "\n",
    "\n",
    "# Create line plot for SAT average participation rate.\n",
    "plt.plot(sat_yoy_data['Year'],\n",
    "         sat_yoy_data['SAT rate average'],\n",
    "         marker = 'o')\n",
    "\n",
    "plt.title('SAT average participation from 2017 to 2019 across states')\n",
    "plt.ylabel('SAT average participation rate', fontsize = 12)\n",
    "plt.xlabel('Year', fontsize = 12);"
   ]
  },
  {
   "cell_type": "markdown",
   "metadata": {},
   "source": [
    "**Findings from the Line Plot:**\n",
    "\n",
    "* The SAT average participation is increasing as the year passes\n",
    "* The SAT participation growth rate from 2018 to 2019 slowed down compared to the growth rate from 2017 to 2018."
   ]
  },
  {
   "cell_type": "code",
   "execution_count": 71,
   "metadata": {},
   "outputs": [],
   "source": [
    "# Subplot\n",
    "\n",
    "def subplot_histograms(dataframe, list_of_columns, list_of_titles, list_of_xlabels):\n",
    "    nrows = int(np.ceil(len(list_of_columns)/2)) # Makes sure you have enough rows\n",
    "    fig, ax = plt.subplots(1, ncols=3, sharex=False, sharey=True, squeeze=True, figsize=(20,8)) # You'll want to specify your figsize\n",
    "    ax = ax.ravel() # Ravel turns a matrix into a vector, which is easier to iterate\n",
    "    for i, column in enumerate(list_of_columns): # Gives us an index value to get into all our lists\n",
    "        ax[i].hist(dataframe[column])\n",
    "        ax[i].set_title(list_of_titles[i])# feel free to add more settings\n",
    "        ax[i].set_xlabel(list_of_xlabels[i])# Set titles, labels, etc here for each subplot\n",
    "        ax[i].axvline(dataframe[column].median(), color='r', linestyle='dashed', linewidth=3, label='median')\n",
    "        ax[i].axvline(dataframe[column].mean(), color='k', linestyle='dashed', linewidth=3, label = 'mean')\n",
    "        ax[i].legend()"
   ]
  },
  {
   "cell_type": "code",
   "execution_count": 72,
   "metadata": {},
   "outputs": [],
   "source": [
    "sat_hist = ['SAT Participation across state 2017', \n",
    "            'SAT Participation across state 2018', \n",
    "            'SAT Participation across state 2019']\n",
    "\n",
    "sat_val = ['SAT Participation rate'] * 3"
   ]
  },
  {
   "cell_type": "code",
   "execution_count": 73,
   "metadata": {},
   "outputs": [
    {
     "data": {
      "image/png": "[encoded data removed]",
      "text/plain": [
       "<Figure size 1440x576 with 3 Axes>"
      ]
     },
     "metadata": {
      "needs_background": "light"
     },
     "output_type": "display_data"
    }
   ],
   "source": [
    "subplot_histograms(sat_act_17_18_19, ['sat_participation_17', \n",
    "                                      'sat_participation_18', \n",
    "                                      'sat_participation_19'], sat_hist, sat_val)"
   ]
  },
  {
   "cell_type": "markdown",
   "metadata": {},
   "source": [
    "<div class=\"alert alert-block alert-info\">\n",
    "<b>Comment:</b> Missing y label, hard to decipher what the y axis represents. </div>"
   ]
  },
  {
   "cell_type": "markdown",
   "metadata": {},
   "source": [
    "**Findings from the Histogram:**\n",
    "\n",
    "* There is an obvious increase in the number of states having 80% to 100% SAT participation rate from 2017 to 2019\n",
    "* Likewise, an obvious drop in the number of states having 0% to 10% SAT participation rate from 2017 to 2019\n",
    "* THe median has been steadily increasing over the 3 years and passes the mean in 2019"
   ]
  },
  {
   "cell_type": "markdown",
   "metadata": {},
   "source": [
    "## Conclusions and Recommendations"
   ]
  },
  {
   "cell_type": "markdown",
   "metadata": {},
   "source": [
    "Based on your exploration of the data, what are you key takeaways and recommendations? Make sure to answer your question of interest or address your problem statement here."
   ]
  },
  {
   "cell_type": "markdown",
   "metadata": {},
   "source": [
    "**Conclusion**\n",
    "<br>\n",
    "Based on the data and graphs plotted above, the SAT participation rate has been growing since the redesigned SAT format was released in 2016. However, the growth from 2018 to 2019 slowed down compared to the growth from 2017 to 2018. \n",
    "\n",
    "There is a strong negative correlation between SAT participation and ACT participation. Hence, for most of the states, if the SAT participation is high, the ACT participation will be low. \n",
    "\n",
    "The participation for one year to the next is a strong positive correlation. Therefore, there is a good chance of having states sticking with their preferred tests if there is one. One significant case where the state switched from 100% ACT participation to 100% SAT participation is Colorado. Using Colorado as the use case for researching on the cause for switch, it is found that the redesigned SAT format is aligned to the Common Core standards in English and Math. It also measures the skills and knowledge that is critical for college readiness. \n",
    "\n",
    "Costs of the tests are also great influence to the test participation rates. With SAT offering fee waivers to low income students, and collaborating with states / schools for SAT School Day, the participation rates for SAT increases greatly.\n",
    "\n",
    "**Recommendations**\n",
    "<br>\n",
    "There are 3 approaches to increase SAT participation rate. The 3 approaches are arranged in order of priority with the highest as the first approach stated below:\n",
    "\n",
    "1. **Target poorer states with “No fees and All free” slogan**\n",
    "<br>\n",
    "Poorer states such as New Mexico, Kansas and Iowa will appeal more towards the low cost benefits. \n",
    "The easiest target among the three will be New Mexico. The state is the poorest of the three and have the lowest ACT participation rate of 63% with the SAT participation rate stands at 18%. \n",
    "<br>\n",
    "It will be strongly recommended for College Board to target these 3 states, mainly New Mexico. The approach to increase the SAT participation rate will be to working with the states on having SAT School Day that provides fee waivers for those eligible. To promote the preparation for SAT tests, the College board can also advertise on their free prep course by Khan Academy. Having lower opportunity costs and actual costs to taking SAT, the 3 states will be inclined to advocate SAT more than ACT.\n",
    "\n",
    "\n",
    "\n",
    "2. **Target states without 100% participation rates for either of the tests**\n",
    "<br>\n",
    "The 5 states are Hawaii, North Carolina, South Carolina, South Dakota and Missouri. South Dakota does not have ACT requirement or having ACT offered for free in their state. The other 4 have ACT requirements but the participation rate is not 100%. This speaks volume in the trust the states or even the students have in ACT tests as the standard. In that, College Board can take this opportunity and pitch the redesigned format to the states on how it aligned with the Common Core standards in English and Math. Addtionally, the Board can also pitch new format also measures the skills and knowledge that is critical for college readiness. \n",
    "\n",
    "\n",
    "\n",
    "3. **Replicate Colorado strategy**\n",
    "<br>\n",
    "This will be the hardest states to tackle compared to the states recommended earlier. The 3 states here are Oklahoma, Ohio and Nevada. The ACT tests requirement is compulsory in the Ohio and Nevada, while, it is not for Oklahoma. The sliver lining in these states is that the SAT participation rate is also high at around 20% compared with other states with 100% ACT participation rate. With the 2016 newly revised SAT format bringing SAT and ACT tests format even closer, students can now easily prepare for both tests since the differences are at its minimal. Adopt the same pitch that was done to switch Colorado over to SAT and place it on these 3 states. Other states that have followed Colorado are: Connecticut, Michigan, Oregon and Illinois.\n",
    "\n",
    "\n",
    "\n",
    "In summary, with the postive outlook from the 2016 redesigned format of SAT. Putting the 3 recommendations above in place will help College Board to further established itself in USA as the most taken tests for college admission.\n",
    "\n",
    "[Source on states with compulsory ACT and SAT](https://testive.com/state-sat-act/)\n",
    "<br>\n",
    "[Source on Illinois switching to SAT](https://www.chicagotribune.com/news/ct-illinois-chooses-sat-met-20160211-story.html)\n",
    "<br>\n",
    "[Source on Michigan switching to SAT](https://www.freep.com/story/news/local/michigan/2015/01/07/michigan-replaces-act-sat/21385299/)\n",
    "<br>\n",
    "[Source on Connecticut switching to SAT](https://www.nytimes.com/2015/08/07/nyregion/connecticut-to-require-all-11th-graders-to-take-the-sat.html)\n",
    "<br>\n",
    "[Source on states outlook](https://www.richstatespoorstates.org/)\n",
    "<br>\n",
    "[Source on states outlook](https://www.thebalance.com/which-states-have-the-best-economies-3980690)"
   ]
  },
  {
   "cell_type": "markdown",
   "metadata": {},
   "source": [
    "<div class=\"alert alert-block alert-info\">\n",
    "<b>Comment:</b> Great work! </div>"
   ]
  },
  {
   "cell_type": "code",
   "execution_count": null,
   "metadata": {},
   "outputs": [],
   "source": []
  }
 ],
 "metadata": {
  "anaconda-cloud": {},
  "kernelspec": {
   "display_name": "Python 3 (ipykernel)",
   "language": "python",
   "name": "python3"
  },
  "language_info": {
   "codemirror_mode": {
    "name": "ipython",
    "version": 3
   },
   "file_extension": ".py",
   "mimetype": "text/x-python",
   "name": "python",
   "nbconvert_exporter": "python",
   "pygments_lexer": "ipython3",
   "version": "3.8.13"
  },
  "toc": {
   "base_numbering": 1,
   "nav_menu": {},
   "number_sections": false,
   "sideBar": true,
   "skip_h1_title": false,
   "title_cell": "Table of Contents",
   "title_sidebar": "Contents",
   "toc_cell": false,
   "toc_position": {},
   "toc_section_display": true,
   "toc_window_display": true
  }
 },
 "nbformat": 4,
 "nbformat_minor": 4
}
